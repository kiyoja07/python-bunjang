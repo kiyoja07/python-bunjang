{
 "cells": [
  {
   "cell_type": "code",
   "execution_count": 2,
   "metadata": {},
   "outputs": [],
   "source": [
    "import pandas as pd\n",
    "import matplotlib.pylab as plt\n",
    "import statsmodels.api as sm\n",
    "import numpy as np\n",
    "import seaborn as sns\n",
    "from scipy import stats"
   ]
  },
  {
   "cell_type": "markdown",
   "metadata": {},
   "source": [
    "## 사기 혐의자 데이터 읽기"
   ]
  },
  {
   "cell_type": "code",
   "execution_count": 98,
   "metadata": {},
   "outputs": [
    {
     "data": {
      "text/html": [
       "<div>\n",
       "<style scoped>\n",
       "    .dataframe tbody tr th:only-of-type {\n",
       "        vertical-align: middle;\n",
       "    }\n",
       "\n",
       "    .dataframe tbody tr th {\n",
       "        vertical-align: top;\n",
       "    }\n",
       "\n",
       "    .dataframe thead th {\n",
       "        text-align: right;\n",
       "    }\n",
       "</style>\n",
       "<table border=\"1\" class=\"dataframe\">\n",
       "  <thead>\n",
       "    <tr style=\"text-align: right;\">\n",
       "      <th></th>\n",
       "      <th>uid</th>\n",
       "      <th>help</th>\n",
       "    </tr>\n",
       "  </thead>\n",
       "  <tbody>\n",
       "    <tr>\n",
       "      <th>103113</th>\n",
       "      <td>1475933</td>\n",
       "      <td>1</td>\n",
       "    </tr>\n",
       "    <tr>\n",
       "      <th>103114</th>\n",
       "      <td>9313382</td>\n",
       "      <td>1</td>\n",
       "    </tr>\n",
       "    <tr>\n",
       "      <th>103115</th>\n",
       "      <td>9302282</td>\n",
       "      <td>1</td>\n",
       "    </tr>\n",
       "    <tr>\n",
       "      <th>103116</th>\n",
       "      <td>6223410</td>\n",
       "      <td>1</td>\n",
       "    </tr>\n",
       "    <tr>\n",
       "      <th>103117</th>\n",
       "      <td>9241528</td>\n",
       "      <td>1</td>\n",
       "    </tr>\n",
       "  </tbody>\n",
       "</table>\n",
       "</div>"
      ],
      "text/plain": [
       "            uid  help\n",
       "103113  1475933     1\n",
       "103114  9313382     1\n",
       "103115  9302282     1\n",
       "103116  6223410     1\n",
       "103117  9241528     1"
      ]
     },
     "execution_count": 98,
     "metadata": {},
     "output_type": "execute_result"
    }
   ],
   "source": [
    "# 상담센터에 거래 관련 신고된 uid\n",
    "read_path = '../csv/help_uid.csv'\n",
    "fraud_uid_help = pd.read_csv(read_path)\n",
    "\n",
    "fraud_uid_help = fraud_uid_help.rename(columns={'value': 'uid'})\n",
    "\n",
    "fraud_uid_help['uid'] = fraud_uid_help['uid'].astype(str)\n",
    "\n",
    "fraud_uid_help['help'] = 1\n",
    "\n",
    "fraud_uid_help.tail()"
   ]
  },
  {
   "cell_type": "code",
   "execution_count": 99,
   "metadata": {},
   "outputs": [
    {
     "data": {
      "text/html": [
       "<div>\n",
       "<style scoped>\n",
       "    .dataframe tbody tr th:only-of-type {\n",
       "        vertical-align: middle;\n",
       "    }\n",
       "\n",
       "    .dataframe tbody tr th {\n",
       "        vertical-align: top;\n",
       "    }\n",
       "\n",
       "    .dataframe thead th {\n",
       "        text-align: right;\n",
       "    }\n",
       "</style>\n",
       "<table border=\"1\" class=\"dataframe\">\n",
       "  <thead>\n",
       "    <tr style=\"text-align: right;\">\n",
       "      <th></th>\n",
       "      <th>uid</th>\n",
       "      <th>block</th>\n",
       "    </tr>\n",
       "  </thead>\n",
       "  <tbody>\n",
       "    <tr>\n",
       "      <th>143847</th>\n",
       "      <td>5834292</td>\n",
       "      <td>1</td>\n",
       "    </tr>\n",
       "    <tr>\n",
       "      <th>143848</th>\n",
       "      <td>5067006</td>\n",
       "      <td>1</td>\n",
       "    </tr>\n",
       "    <tr>\n",
       "      <th>143849</th>\n",
       "      <td>8755369</td>\n",
       "      <td>1</td>\n",
       "    </tr>\n",
       "    <tr>\n",
       "      <th>143850</th>\n",
       "      <td>5083812</td>\n",
       "      <td>1</td>\n",
       "    </tr>\n",
       "    <tr>\n",
       "      <th>143851</th>\n",
       "      <td>7961342</td>\n",
       "      <td>1</td>\n",
       "    </tr>\n",
       "  </tbody>\n",
       "</table>\n",
       "</div>"
      ],
      "text/plain": [
       "            uid  block\n",
       "143847  5834292      1\n",
       "143848  5067006      1\n",
       "143849  8755369      1\n",
       "143850  5083812      1\n",
       "143851  7961342      1"
      ]
     },
     "execution_count": 99,
     "metadata": {},
     "output_type": "execute_result"
    }
   ],
   "source": [
    "# 영구 제재 받은 uid\n",
    "read_path = '../csv/block_uid.csv'\n",
    "fraud_uid_block = pd.read_csv(read_path)\n",
    "\n",
    "fraud_uid_block['block'] = 1\n",
    "\n",
    "fraud_uid_block['uid'] = fraud_uid_block['uid'].astype(str)\n",
    "\n",
    "fraud_uid_block.tail()"
   ]
  },
  {
   "cell_type": "code",
   "execution_count": 109,
   "metadata": {},
   "outputs": [
    {
     "data": {
      "text/html": [
       "<div>\n",
       "<style scoped>\n",
       "    .dataframe tbody tr th:only-of-type {\n",
       "        vertical-align: middle;\n",
       "    }\n",
       "\n",
       "    .dataframe tbody tr th {\n",
       "        vertical-align: top;\n",
       "    }\n",
       "\n",
       "    .dataframe thead th {\n",
       "        text-align: right;\n",
       "    }\n",
       "</style>\n",
       "<table border=\"1\" class=\"dataframe\">\n",
       "  <thead>\n",
       "    <tr style=\"text-align: right;\">\n",
       "      <th></th>\n",
       "      <th>reported_date</th>\n",
       "      <th>product_name</th>\n",
       "      <th>price</th>\n",
       "      <th>reporter_uid</th>\n",
       "      <th>fraud_uid</th>\n",
       "      <th>block_by_operation</th>\n",
       "    </tr>\n",
       "  </thead>\n",
       "  <tbody>\n",
       "    <tr>\n",
       "      <th>15951</th>\n",
       "      <td>NaN</td>\n",
       "      <td>갤럭시A7</td>\n",
       "      <td>125,000</td>\n",
       "      <td>1370542.0</td>\n",
       "      <td>2667809</td>\n",
       "      <td>1</td>\n",
       "    </tr>\n",
       "    <tr>\n",
       "      <th>15952</th>\n",
       "      <td>NaN</td>\n",
       "      <td>갤럭시노트fe</td>\n",
       "      <td>350,000</td>\n",
       "      <td>3224068.0</td>\n",
       "      <td>4087003</td>\n",
       "      <td>1</td>\n",
       "    </tr>\n",
       "    <tr>\n",
       "      <th>15953</th>\n",
       "      <td>NaN</td>\n",
       "      <td>아이폰5s</td>\n",
       "      <td>123,000</td>\n",
       "      <td>4016158.0</td>\n",
       "      <td>4770542</td>\n",
       "      <td>1</td>\n",
       "    </tr>\n",
       "    <tr>\n",
       "      <th>15954</th>\n",
       "      <td>NaN</td>\n",
       "      <td>핸드백</td>\n",
       "      <td>25,000</td>\n",
       "      <td>938074.0</td>\n",
       "      <td>5335535</td>\n",
       "      <td>1</td>\n",
       "    </tr>\n",
       "    <tr>\n",
       "      <th>15955</th>\n",
       "      <td>NaN</td>\n",
       "      <td>gtx1060 6g</td>\n",
       "      <td>250,000</td>\n",
       "      <td>1890173.0</td>\n",
       "      <td>5699420</td>\n",
       "      <td>1</td>\n",
       "    </tr>\n",
       "  </tbody>\n",
       "</table>\n",
       "</div>"
      ],
      "text/plain": [
       "      reported_date product_name    price  reporter_uid  fraud_uid  \\\n",
       "15951           NaN        갤럭시A7  125,000     1370542.0    2667809   \n",
       "15952           NaN      갤럭시노트fe  350,000     3224068.0    4087003   \n",
       "15953           NaN        아이폰5s  123,000     4016158.0    4770542   \n",
       "15954           NaN          핸드백   25,000      938074.0    5335535   \n",
       "15955           NaN   gtx1060 6g  250,000     1890173.0    5699420   \n",
       "\n",
       "       block_by_operation  \n",
       "15951                   1  \n",
       "15952                   1  \n",
       "15953                   1  \n",
       "15954                   1  \n",
       "15955                   1  "
      ]
     },
     "execution_count": 109,
     "metadata": {},
     "output_type": "execute_result"
    }
   ],
   "source": [
    "# 운영팀에서 관리하는 거래신고 접수 uid\n",
    "read_path = '../csv/fraud_report_data_2019_2016.csv'\n",
    "fraud_operation = pd.read_csv(read_path)\n",
    "\n",
    "fraud_operation.columns = ['reported_date', 'product_name', 'price', 'reporter_uid', 'fraud_uid']\n",
    "\n",
    "fraud_operation['block_by_operation'] = 1\n",
    "\n",
    "fraud_operation.tail()"
   ]
  },
  {
   "cell_type": "markdown",
   "metadata": {},
   "source": [
    "### 사기 혐의자 데이터 합치기"
   ]
  },
  {
   "cell_type": "code",
   "execution_count": 116,
   "metadata": {},
   "outputs": [
    {
     "data": {
      "text/html": [
       "<div>\n",
       "<style scoped>\n",
       "    .dataframe tbody tr th:only-of-type {\n",
       "        vertical-align: middle;\n",
       "    }\n",
       "\n",
       "    .dataframe tbody tr th {\n",
       "        vertical-align: top;\n",
       "    }\n",
       "\n",
       "    .dataframe thead th {\n",
       "        text-align: right;\n",
       "    }\n",
       "</style>\n",
       "<table border=\"1\" class=\"dataframe\">\n",
       "  <thead>\n",
       "    <tr style=\"text-align: right;\">\n",
       "      <th></th>\n",
       "      <th>uid</th>\n",
       "      <th>block_by_operation</th>\n",
       "    </tr>\n",
       "  </thead>\n",
       "  <tbody>\n",
       "    <tr>\n",
       "      <th>15951</th>\n",
       "      <td>2667809</td>\n",
       "      <td>1</td>\n",
       "    </tr>\n",
       "    <tr>\n",
       "      <th>15952</th>\n",
       "      <td>4087003</td>\n",
       "      <td>1</td>\n",
       "    </tr>\n",
       "    <tr>\n",
       "      <th>15953</th>\n",
       "      <td>4770542</td>\n",
       "      <td>1</td>\n",
       "    </tr>\n",
       "    <tr>\n",
       "      <th>15954</th>\n",
       "      <td>5335535</td>\n",
       "      <td>1</td>\n",
       "    </tr>\n",
       "    <tr>\n",
       "      <th>15955</th>\n",
       "      <td>5699420</td>\n",
       "      <td>1</td>\n",
       "    </tr>\n",
       "  </tbody>\n",
       "</table>\n",
       "</div>"
      ],
      "text/plain": [
       "           uid  block_by_operation\n",
       "15951  2667809                   1\n",
       "15952  4087003                   1\n",
       "15953  4770542                   1\n",
       "15954  5335535                   1\n",
       "15955  5699420                   1"
      ]
     },
     "execution_count": 116,
     "metadata": {},
     "output_type": "execute_result"
    }
   ],
   "source": [
    "fraud_uid_operation = fraud_operation[['fraud_uid', 'block_by_operation']]\n",
    "\n",
    "fraud_uid_operation = fraud_uid_operation.rename(columns={'fraud_uid': 'uid'})\n",
    "\n",
    "fraud_uid_operation['uid'] = fraud_uid_operation['uid'].astype(str)\n",
    "\n",
    "fraud_uid_operation.tail()"
   ]
  },
  {
   "cell_type": "code",
   "execution_count": 118,
   "metadata": {},
   "outputs": [
    {
     "data": {
      "text/html": [
       "<div>\n",
       "<style scoped>\n",
       "    .dataframe tbody tr th:only-of-type {\n",
       "        vertical-align: middle;\n",
       "    }\n",
       "\n",
       "    .dataframe tbody tr th {\n",
       "        vertical-align: top;\n",
       "    }\n",
       "\n",
       "    .dataframe thead th {\n",
       "        text-align: right;\n",
       "    }\n",
       "</style>\n",
       "<table border=\"1\" class=\"dataframe\">\n",
       "  <thead>\n",
       "    <tr style=\"text-align: right;\">\n",
       "      <th></th>\n",
       "      <th>uid</th>\n",
       "      <th>help</th>\n",
       "      <th>block</th>\n",
       "      <th>block_by_operation</th>\n",
       "    </tr>\n",
       "  </thead>\n",
       "  <tbody>\n",
       "    <tr>\n",
       "      <th>212508</th>\n",
       "      <td>6534153</td>\n",
       "      <td>0.0</td>\n",
       "      <td>0.0</td>\n",
       "      <td>1.0</td>\n",
       "    </tr>\n",
       "    <tr>\n",
       "      <th>212509</th>\n",
       "      <td>2610325</td>\n",
       "      <td>0.0</td>\n",
       "      <td>0.0</td>\n",
       "      <td>1.0</td>\n",
       "    </tr>\n",
       "    <tr>\n",
       "      <th>212510</th>\n",
       "      <td>3927135</td>\n",
       "      <td>0.0</td>\n",
       "      <td>0.0</td>\n",
       "      <td>1.0</td>\n",
       "    </tr>\n",
       "    <tr>\n",
       "      <th>212511</th>\n",
       "      <td>1806746</td>\n",
       "      <td>0.0</td>\n",
       "      <td>0.0</td>\n",
       "      <td>1.0</td>\n",
       "    </tr>\n",
       "    <tr>\n",
       "      <th>212512</th>\n",
       "      <td>8970553</td>\n",
       "      <td>0.0</td>\n",
       "      <td>0.0</td>\n",
       "      <td>1.0</td>\n",
       "    </tr>\n",
       "  </tbody>\n",
       "</table>\n",
       "</div>"
      ],
      "text/plain": [
       "            uid  help  block  block_by_operation\n",
       "212508  6534153   0.0    0.0                 1.0\n",
       "212509  2610325   0.0    0.0                 1.0\n",
       "212510  3927135   0.0    0.0                 1.0\n",
       "212511  1806746   0.0    0.0                 1.0\n",
       "212512  8970553   0.0    0.0                 1.0"
      ]
     },
     "execution_count": 118,
     "metadata": {},
     "output_type": "execute_result"
    }
   ],
   "source": [
    "fraud_uid_1 = pd.merge(fraud_uid_help, fraud_uid_block, on='uid', how='outer')\n",
    "\n",
    "fraud_uid = pd.merge(fraud_uid_1, fraud_uid_operation, on='uid', how='outer')\n",
    "\n",
    "fraud_uid = fraud_uid.fillna(0)\n",
    "\n",
    "fraud_uid.tail()"
   ]
  },
  {
   "cell_type": "code",
   "execution_count": 119,
   "metadata": {},
   "outputs": [
    {
     "data": {
      "text/html": [
       "<div>\n",
       "<style scoped>\n",
       "    .dataframe tbody tr th:only-of-type {\n",
       "        vertical-align: middle;\n",
       "    }\n",
       "\n",
       "    .dataframe tbody tr th {\n",
       "        vertical-align: top;\n",
       "    }\n",
       "\n",
       "    .dataframe thead th {\n",
       "        text-align: right;\n",
       "    }\n",
       "</style>\n",
       "<table border=\"1\" class=\"dataframe\">\n",
       "  <thead>\n",
       "    <tr style=\"text-align: right;\">\n",
       "      <th></th>\n",
       "      <th>uid</th>\n",
       "      <th>help</th>\n",
       "      <th>block</th>\n",
       "      <th>block_by_operation</th>\n",
       "      <th>black_source</th>\n",
       "    </tr>\n",
       "  </thead>\n",
       "  <tbody>\n",
       "    <tr>\n",
       "      <th>212508</th>\n",
       "      <td>6534153</td>\n",
       "      <td>0.0</td>\n",
       "      <td>0.0</td>\n",
       "      <td>1.0</td>\n",
       "      <td>operation</td>\n",
       "    </tr>\n",
       "    <tr>\n",
       "      <th>212509</th>\n",
       "      <td>2610325</td>\n",
       "      <td>0.0</td>\n",
       "      <td>0.0</td>\n",
       "      <td>1.0</td>\n",
       "      <td>operation</td>\n",
       "    </tr>\n",
       "    <tr>\n",
       "      <th>212510</th>\n",
       "      <td>3927135</td>\n",
       "      <td>0.0</td>\n",
       "      <td>0.0</td>\n",
       "      <td>1.0</td>\n",
       "      <td>operation</td>\n",
       "    </tr>\n",
       "    <tr>\n",
       "      <th>212511</th>\n",
       "      <td>1806746</td>\n",
       "      <td>0.0</td>\n",
       "      <td>0.0</td>\n",
       "      <td>1.0</td>\n",
       "      <td>operation</td>\n",
       "    </tr>\n",
       "    <tr>\n",
       "      <th>212512</th>\n",
       "      <td>8970553</td>\n",
       "      <td>0.0</td>\n",
       "      <td>0.0</td>\n",
       "      <td>1.0</td>\n",
       "      <td>operation</td>\n",
       "    </tr>\n",
       "  </tbody>\n",
       "</table>\n",
       "</div>"
      ],
      "text/plain": [
       "            uid  help  block  block_by_operation black_source\n",
       "212508  6534153   0.0    0.0                 1.0    operation\n",
       "212509  2610325   0.0    0.0                 1.0    operation\n",
       "212510  3927135   0.0    0.0                 1.0    operation\n",
       "212511  1806746   0.0    0.0                 1.0    operation\n",
       "212512  8970553   0.0    0.0                 1.0    operation"
      ]
     },
     "execution_count": 119,
     "metadata": {},
     "output_type": "execute_result"
    }
   ],
   "source": [
    "def merge_block(row):\n",
    "    if row['help'] == 1 and row['block'] == 1 and row['block_by_operation'] == 1:\n",
    "        return 'help&block&operation'\n",
    "    elif row['help'] == 1 and row['block'] == 1:\n",
    "        return 'help&block'\n",
    "    elif row['block'] == 1 and row['block_by_operation'] == 1:\n",
    "        return 'block&operation'\n",
    "    elif row['help'] == 1 and row['block_by_operation'] == 1:\n",
    "        return 'help&operation'\n",
    "    elif row['help'] == 1:\n",
    "        return 'help'\n",
    "    elif row['block'] == 1:\n",
    "        return 'block'\n",
    "    elif row['block_by_operation'] == 1:\n",
    "        return 'operation'\n",
    "    else:\n",
    "        return 'missing'\n",
    "    \n",
    "fraud_uid['black_source'] = fraud_uid.apply(merge_block, axis=1)\n",
    "\n",
    "fraud_uid.tail()"
   ]
  },
  {
   "cell_type": "code",
   "execution_count": 120,
   "metadata": {},
   "outputs": [
    {
     "data": {
      "text/html": [
       "<div>\n",
       "<style scoped>\n",
       "    .dataframe tbody tr th:only-of-type {\n",
       "        vertical-align: middle;\n",
       "    }\n",
       "\n",
       "    .dataframe tbody tr th {\n",
       "        vertical-align: top;\n",
       "    }\n",
       "\n",
       "    .dataframe thead th {\n",
       "        text-align: right;\n",
       "    }\n",
       "</style>\n",
       "<table border=\"1\" class=\"dataframe\">\n",
       "  <thead>\n",
       "    <tr style=\"text-align: right;\">\n",
       "      <th></th>\n",
       "      <th>black_source</th>\n",
       "      <th>uid</th>\n",
       "    </tr>\n",
       "  </thead>\n",
       "  <tbody>\n",
       "    <tr>\n",
       "      <th>0</th>\n",
       "      <td>block</td>\n",
       "      <td>103892</td>\n",
       "    </tr>\n",
       "    <tr>\n",
       "      <th>1</th>\n",
       "      <td>block&amp;operation</td>\n",
       "      <td>826</td>\n",
       "    </tr>\n",
       "    <tr>\n",
       "      <th>2</th>\n",
       "      <td>help</td>\n",
       "      <td>63073</td>\n",
       "    </tr>\n",
       "    <tr>\n",
       "      <th>3</th>\n",
       "      <td>help&amp;block</td>\n",
       "      <td>29592</td>\n",
       "    </tr>\n",
       "    <tr>\n",
       "      <th>4</th>\n",
       "      <td>help&amp;block&amp;operation</td>\n",
       "      <td>12952</td>\n",
       "    </tr>\n",
       "    <tr>\n",
       "      <th>5</th>\n",
       "      <td>help&amp;operation</td>\n",
       "      <td>1005</td>\n",
       "    </tr>\n",
       "    <tr>\n",
       "      <th>6</th>\n",
       "      <td>operation</td>\n",
       "      <td>1173</td>\n",
       "    </tr>\n",
       "  </tbody>\n",
       "</table>\n",
       "</div>"
      ],
      "text/plain": [
       "           black_source     uid\n",
       "0                 block  103892\n",
       "1       block&operation     826\n",
       "2                  help   63073\n",
       "3            help&block   29592\n",
       "4  help&block&operation   12952\n",
       "5        help&operation    1005\n",
       "6             operation    1173"
      ]
     },
     "execution_count": 120,
     "metadata": {},
     "output_type": "execute_result"
    }
   ],
   "source": [
    "fraud_uid.groupby(['black_source'], as_index=False).agg({'uid':'count'})"
   ]
  },
  {
   "cell_type": "code",
   "execution_count": null,
   "metadata": {},
   "outputs": [],
   "source": []
  },
  {
   "cell_type": "markdown",
   "metadata": {},
   "source": [
    "## 거래 데이터 읽기"
   ]
  },
  {
   "cell_type": "code",
   "execution_count": 129,
   "metadata": {},
   "outputs": [
    {
     "data": {
      "text/html": [
       "<div>\n",
       "<style scoped>\n",
       "    .dataframe tbody tr th:only-of-type {\n",
       "        vertical-align: middle;\n",
       "    }\n",
       "\n",
       "    .dataframe tbody tr th {\n",
       "        vertical-align: top;\n",
       "    }\n",
       "\n",
       "    .dataframe thead th {\n",
       "        text-align: right;\n",
       "    }\n",
       "</style>\n",
       "<table border=\"1\" class=\"dataframe\">\n",
       "  <thead>\n",
       "    <tr style=\"text-align: right;\">\n",
       "      <th></th>\n",
       "      <th>updated_at</th>\n",
       "      <th>buyer_uid</th>\n",
       "      <th>seller_uid</th>\n",
       "      <th>total_price</th>\n",
       "    </tr>\n",
       "  </thead>\n",
       "  <tbody>\n",
       "    <tr>\n",
       "      <th>90146</th>\n",
       "      <td>2019-01-25 20:32:45</td>\n",
       "      <td>4161761</td>\n",
       "      <td>4414597</td>\n",
       "      <td>148170</td>\n",
       "    </tr>\n",
       "    <tr>\n",
       "      <th>90147</th>\n",
       "      <td>2019-02-01 20:31:30</td>\n",
       "      <td>603779</td>\n",
       "      <td>5071323</td>\n",
       "      <td>31450</td>\n",
       "    </tr>\n",
       "    <tr>\n",
       "      <th>90148</th>\n",
       "      <td>2019-01-25 20:32:45</td>\n",
       "      <td>8069149</td>\n",
       "      <td>7742258</td>\n",
       "      <td>47350</td>\n",
       "    </tr>\n",
       "    <tr>\n",
       "      <th>90149</th>\n",
       "      <td>2019-01-25 20:32:45</td>\n",
       "      <td>31040</td>\n",
       "      <td>2459314</td>\n",
       "      <td>143100</td>\n",
       "    </tr>\n",
       "    <tr>\n",
       "      <th>90150</th>\n",
       "      <td>2019-01-25 20:32:45</td>\n",
       "      <td>7526483</td>\n",
       "      <td>7566393</td>\n",
       "      <td>2576000</td>\n",
       "    </tr>\n",
       "  </tbody>\n",
       "</table>\n",
       "</div>"
      ],
      "text/plain": [
       "                updated_at  buyer_uid  seller_uid  total_price\n",
       "90146  2019-01-25 20:32:45    4161761     4414597       148170\n",
       "90147  2019-02-01 20:31:30     603779     5071323        31450\n",
       "90148  2019-01-25 20:32:45    8069149     7742258        47350\n",
       "90149  2019-01-25 20:32:45      31040     2459314       143100\n",
       "90150  2019-01-25 20:32:45    7526483     7566393      2576000"
      ]
     },
     "execution_count": 129,
     "metadata": {},
     "output_type": "execute_result"
    }
   ],
   "source": [
    "read_path = '../csv/pay_history.csv'\n",
    "pay_raw = pd.read_csv(read_path)\n",
    "\n",
    "pay_raw = pay_raw.rename(columns={'buyer_id': 'buyer_uid', 'seller_id': 'seller_uid', 'deposit_done_date': 'updated_at'})\n",
    "\n",
    "pay_raw.tail()"
   ]
  },
  {
   "cell_type": "code",
   "execution_count": 131,
   "metadata": {},
   "outputs": [
    {
     "data": {
      "text/html": [
       "<div>\n",
       "<style scoped>\n",
       "    .dataframe tbody tr th:only-of-type {\n",
       "        vertical-align: middle;\n",
       "    }\n",
       "\n",
       "    .dataframe tbody tr th {\n",
       "        vertical-align: top;\n",
       "    }\n",
       "\n",
       "    .dataframe thead th {\n",
       "        text-align: right;\n",
       "    }\n",
       "</style>\n",
       "<table border=\"1\" class=\"dataframe\">\n",
       "  <thead>\n",
       "    <tr style=\"text-align: right;\">\n",
       "      <th></th>\n",
       "      <th>updated_at</th>\n",
       "      <th>buyer_uid</th>\n",
       "      <th>seller_uid</th>\n",
       "      <th>total_price</th>\n",
       "    </tr>\n",
       "  </thead>\n",
       "  <tbody>\n",
       "    <tr>\n",
       "      <th>10933703</th>\n",
       "      <td>2019-07-02 13:38:54</td>\n",
       "      <td>5814572</td>\n",
       "      <td>6226054</td>\n",
       "      <td>53000</td>\n",
       "    </tr>\n",
       "    <tr>\n",
       "      <th>10933704</th>\n",
       "      <td>2019-07-02 13:39:36</td>\n",
       "      <td>6914581</td>\n",
       "      <td>8934182</td>\n",
       "      <td>59800</td>\n",
       "    </tr>\n",
       "    <tr>\n",
       "      <th>10933705</th>\n",
       "      <td>2019-07-02 13:42:58</td>\n",
       "      <td>773650</td>\n",
       "      <td>1512351</td>\n",
       "      <td>18500</td>\n",
       "    </tr>\n",
       "    <tr>\n",
       "      <th>10933706</th>\n",
       "      <td>2019-07-02 13:43:04</td>\n",
       "      <td>5701462</td>\n",
       "      <td>7505410</td>\n",
       "      <td>50000</td>\n",
       "    </tr>\n",
       "    <tr>\n",
       "      <th>10933707</th>\n",
       "      <td>2019-07-02 13:48:37</td>\n",
       "      <td>5227540</td>\n",
       "      <td>9249456</td>\n",
       "      <td>55000</td>\n",
       "    </tr>\n",
       "  </tbody>\n",
       "</table>\n",
       "</div>"
      ],
      "text/plain": [
       "                   updated_at  buyer_uid  seller_uid  total_price\n",
       "10933703  2019-07-02 13:38:54    5814572     6226054        53000\n",
       "10933704  2019-07-02 13:39:36    6914581     8934182        59800\n",
       "10933705  2019-07-02 13:42:58     773650     1512351        18500\n",
       "10933706  2019-07-02 13:43:04    5701462     7505410        50000\n",
       "10933707  2019-07-02 13:48:37    5227540     9249456        55000"
      ]
     },
     "execution_count": 131,
     "metadata": {},
     "output_type": "execute_result"
    }
   ],
   "source": [
    "read_path = '../csv/bunp_history.csv'\n",
    "bunp_raw = pd.read_csv(read_path)\n",
    "\n",
    "bunp_raw = bunp_raw.rename(columns={'seller_pid_price': 'total_price'})\n",
    "\n",
    "bunp_raw.tail()"
   ]
  },
  {
   "cell_type": "code",
   "execution_count": 141,
   "metadata": {},
   "outputs": [
    {
     "data": {
      "text/html": [
       "<div>\n",
       "<style scoped>\n",
       "    .dataframe tbody tr th:only-of-type {\n",
       "        vertical-align: middle;\n",
       "    }\n",
       "\n",
       "    .dataframe tbody tr th {\n",
       "        vertical-align: top;\n",
       "    }\n",
       "\n",
       "    .dataframe thead th {\n",
       "        text-align: right;\n",
       "    }\n",
       "</style>\n",
       "<table border=\"1\" class=\"dataframe\">\n",
       "  <thead>\n",
       "    <tr style=\"text-align: right;\">\n",
       "      <th></th>\n",
       "      <th>index</th>\n",
       "      <th>updated_at</th>\n",
       "      <th>buyer_uid</th>\n",
       "      <th>seller_uid</th>\n",
       "      <th>total_price</th>\n",
       "    </tr>\n",
       "  </thead>\n",
       "  <tbody>\n",
       "    <tr>\n",
       "      <th>11023854</th>\n",
       "      <td>90146</td>\n",
       "      <td>2019-01-25 20:32:45</td>\n",
       "      <td>4161761</td>\n",
       "      <td>4414597</td>\n",
       "      <td>148170</td>\n",
       "    </tr>\n",
       "    <tr>\n",
       "      <th>11023855</th>\n",
       "      <td>90147</td>\n",
       "      <td>2019-02-01 20:31:30</td>\n",
       "      <td>603779</td>\n",
       "      <td>5071323</td>\n",
       "      <td>31450</td>\n",
       "    </tr>\n",
       "    <tr>\n",
       "      <th>11023856</th>\n",
       "      <td>90148</td>\n",
       "      <td>2019-01-25 20:32:45</td>\n",
       "      <td>8069149</td>\n",
       "      <td>7742258</td>\n",
       "      <td>47350</td>\n",
       "    </tr>\n",
       "    <tr>\n",
       "      <th>11023857</th>\n",
       "      <td>90149</td>\n",
       "      <td>2019-01-25 20:32:45</td>\n",
       "      <td>31040</td>\n",
       "      <td>2459314</td>\n",
       "      <td>143100</td>\n",
       "    </tr>\n",
       "    <tr>\n",
       "      <th>11023858</th>\n",
       "      <td>90150</td>\n",
       "      <td>2019-01-25 20:32:45</td>\n",
       "      <td>7526483</td>\n",
       "      <td>7566393</td>\n",
       "      <td>2576000</td>\n",
       "    </tr>\n",
       "  </tbody>\n",
       "</table>\n",
       "</div>"
      ],
      "text/plain": [
       "          index           updated_at  buyer_uid seller_uid  total_price\n",
       "11023854  90146  2019-01-25 20:32:45    4161761    4414597       148170\n",
       "11023855  90147  2019-02-01 20:31:30     603779    5071323        31450\n",
       "11023856  90148  2019-01-25 20:32:45    8069149    7742258        47350\n",
       "11023857  90149  2019-01-25 20:32:45      31040    2459314       143100\n",
       "11023858  90150  2019-01-25 20:32:45    7526483    7566393      2576000"
      ]
     },
     "execution_count": 141,
     "metadata": {},
     "output_type": "execute_result"
    }
   ],
   "source": [
    "transaction = pd.concat([bunp_raw, pay_raw], axis=0).reset_index()\n",
    "\n",
    "transaction['seller_uid'] = transaction['seller_uid'].astype(str)\n",
    "\n",
    "transaction.tail()"
   ]
  },
  {
   "cell_type": "code",
   "execution_count": 142,
   "metadata": {},
   "outputs": [
    {
     "data": {
      "text/html": [
       "<div>\n",
       "<style scoped>\n",
       "    .dataframe tbody tr th:only-of-type {\n",
       "        vertical-align: middle;\n",
       "    }\n",
       "\n",
       "    .dataframe tbody tr th {\n",
       "        vertical-align: top;\n",
       "    }\n",
       "\n",
       "    .dataframe thead th {\n",
       "        text-align: right;\n",
       "    }\n",
       "</style>\n",
       "<table border=\"1\" class=\"dataframe\">\n",
       "  <thead>\n",
       "    <tr style=\"text-align: right;\">\n",
       "      <th></th>\n",
       "      <th>index</th>\n",
       "      <th>updated_at</th>\n",
       "      <th>buyer_uid</th>\n",
       "      <th>seller_uid</th>\n",
       "      <th>total_price</th>\n",
       "      <th>uid</th>\n",
       "      <th>black_source</th>\n",
       "    </tr>\n",
       "  </thead>\n",
       "  <tbody>\n",
       "    <tr>\n",
       "      <th>11179561</th>\n",
       "      <td>90146</td>\n",
       "      <td>2019-01-25 20:32:45</td>\n",
       "      <td>4161761</td>\n",
       "      <td>4414597</td>\n",
       "      <td>148170</td>\n",
       "      <td>4414597</td>\n",
       "      <td>help</td>\n",
       "    </tr>\n",
       "    <tr>\n",
       "      <th>11179562</th>\n",
       "      <td>90147</td>\n",
       "      <td>2019-02-01 20:31:30</td>\n",
       "      <td>603779</td>\n",
       "      <td>5071323</td>\n",
       "      <td>31450</td>\n",
       "      <td>NaN</td>\n",
       "      <td>NaN</td>\n",
       "    </tr>\n",
       "    <tr>\n",
       "      <th>11179563</th>\n",
       "      <td>90148</td>\n",
       "      <td>2019-01-25 20:32:45</td>\n",
       "      <td>8069149</td>\n",
       "      <td>7742258</td>\n",
       "      <td>47350</td>\n",
       "      <td>NaN</td>\n",
       "      <td>NaN</td>\n",
       "    </tr>\n",
       "    <tr>\n",
       "      <th>11179564</th>\n",
       "      <td>90149</td>\n",
       "      <td>2019-01-25 20:32:45</td>\n",
       "      <td>31040</td>\n",
       "      <td>2459314</td>\n",
       "      <td>143100</td>\n",
       "      <td>NaN</td>\n",
       "      <td>NaN</td>\n",
       "    </tr>\n",
       "    <tr>\n",
       "      <th>11179565</th>\n",
       "      <td>90150</td>\n",
       "      <td>2019-01-25 20:32:45</td>\n",
       "      <td>7526483</td>\n",
       "      <td>7566393</td>\n",
       "      <td>2576000</td>\n",
       "      <td>NaN</td>\n",
       "      <td>NaN</td>\n",
       "    </tr>\n",
       "  </tbody>\n",
       "</table>\n",
       "</div>"
      ],
      "text/plain": [
       "          index           updated_at  buyer_uid seller_uid  total_price  \\\n",
       "11179561  90146  2019-01-25 20:32:45    4161761    4414597       148170   \n",
       "11179562  90147  2019-02-01 20:31:30     603779    5071323        31450   \n",
       "11179563  90148  2019-01-25 20:32:45    8069149    7742258        47350   \n",
       "11179564  90149  2019-01-25 20:32:45      31040    2459314       143100   \n",
       "11179565  90150  2019-01-25 20:32:45    7526483    7566393      2576000   \n",
       "\n",
       "              uid black_source  \n",
       "11179561  4414597         help  \n",
       "11179562      NaN          NaN  \n",
       "11179563      NaN          NaN  \n",
       "11179564      NaN          NaN  \n",
       "11179565      NaN          NaN  "
      ]
     },
     "execution_count": 142,
     "metadata": {},
     "output_type": "execute_result"
    }
   ],
   "source": [
    "transaction_black = pd.merge(transaction, fraud_uid[['uid', 'black_source']], \n",
    "                             left_on=['seller_uid'], right_on=['uid'], how='left')\n",
    "\n",
    "transaction_black.tail()"
   ]
  },
  {
   "cell_type": "code",
   "execution_count": null,
   "metadata": {},
   "outputs": [],
   "source": []
  },
  {
   "cell_type": "code",
   "execution_count": null,
   "metadata": {},
   "outputs": [],
   "source": []
  },
  {
   "cell_type": "code",
   "execution_count": null,
   "metadata": {},
   "outputs": [],
   "source": []
  },
  {
   "cell_type": "code",
   "execution_count": null,
   "metadata": {},
   "outputs": [],
   "source": []
  },
  {
   "cell_type": "code",
   "execution_count": null,
   "metadata": {},
   "outputs": [],
   "source": []
  },
  {
   "cell_type": "markdown",
   "metadata": {},
   "source": [
    "# 기초 데이터 읽기"
   ]
  },
  {
   "cell_type": "markdown",
   "metadata": {},
   "source": [
    "### 이름 변경 내역 파일 읽기"
   ]
  },
  {
   "cell_type": "code",
   "execution_count": 3,
   "metadata": {},
   "outputs": [
    {
     "data": {
      "text/html": [
       "<div>\n",
       "<style scoped>\n",
       "    .dataframe tbody tr th:only-of-type {\n",
       "        vertical-align: middle;\n",
       "    }\n",
       "\n",
       "    .dataframe tbody tr th {\n",
       "        vertical-align: top;\n",
       "    }\n",
       "\n",
       "    .dataframe thead th {\n",
       "        text-align: right;\n",
       "    }\n",
       "</style>\n",
       "<table border=\"1\" class=\"dataframe\">\n",
       "  <thead>\n",
       "    <tr style=\"text-align: right;\">\n",
       "      <th></th>\n",
       "      <th>is_black</th>\n",
       "      <th>uid</th>\n",
       "      <th>changed_name</th>\n",
       "    </tr>\n",
       "  </thead>\n",
       "  <tbody>\n",
       "    <tr>\n",
       "      <th>4095222</th>\n",
       "      <td>0</td>\n",
       "      <td>9315495</td>\n",
       "      <td>1</td>\n",
       "    </tr>\n",
       "    <tr>\n",
       "      <th>4095223</th>\n",
       "      <td>0</td>\n",
       "      <td>9315496</td>\n",
       "      <td>1</td>\n",
       "    </tr>\n",
       "    <tr>\n",
       "      <th>4095224</th>\n",
       "      <td>0</td>\n",
       "      <td>9315512</td>\n",
       "      <td>1</td>\n",
       "    </tr>\n",
       "    <tr>\n",
       "      <th>4095225</th>\n",
       "      <td>0</td>\n",
       "      <td>9315513</td>\n",
       "      <td>1</td>\n",
       "    </tr>\n",
       "    <tr>\n",
       "      <th>4095226</th>\n",
       "      <td>0</td>\n",
       "      <td>9315544</td>\n",
       "      <td>1</td>\n",
       "    </tr>\n",
       "  </tbody>\n",
       "</table>\n",
       "</div>"
      ],
      "text/plain": [
       "         is_black      uid  changed_name\n",
       "4095222         0  9315495             1\n",
       "4095223         0  9315496             1\n",
       "4095224         0  9315512             1\n",
       "4095225         0  9315513             1\n",
       "4095226         0  9315544             1"
      ]
     },
     "execution_count": 3,
     "metadata": {},
     "output_type": "execute_result"
    }
   ],
   "source": [
    "read_path = '../csv/changed_name.csv'\n",
    "fraud_name = pd.read_csv(read_path)\n",
    "\n",
    "fraud_name['is_black'] = fraud_name['is_black'].replace('normal', 0)\n",
    "fraud_name['is_black'] = fraud_name['is_black'].replace('black', 1)\n",
    "\n",
    "fraud_name.tail()"
   ]
  },
  {
   "cell_type": "markdown",
   "metadata": {},
   "source": [
    "### T-Test"
   ]
  },
  {
   "cell_type": "code",
   "execution_count": 6,
   "metadata": {},
   "outputs": [],
   "source": [
    "fraud_name_normal = fraud_name[fraud_name['is_black'] == 0]\n",
    "fraud_name_black = fraud_name[fraud_name['is_black'] == 1]"
   ]
  },
  {
   "cell_type": "code",
   "execution_count": 28,
   "metadata": {},
   "outputs": [
    {
     "data": {
      "text/plain": [
       "(3983427, 111800)"
      ]
     },
     "execution_count": 28,
     "metadata": {},
     "output_type": "execute_result"
    }
   ],
   "source": [
    "# 샘플 수 비교\n",
    "np.size(fraud_name_normal['changed_name']), np.size(fraud_name_black['changed_name'])"
   ]
  },
  {
   "cell_type": "code",
   "execution_count": 8,
   "metadata": {},
   "outputs": [
    {
     "data": {
      "text/plain": [
       "(1.4122430259171312, 1.7182200357781754)"
      ]
     },
     "execution_count": 8,
     "metadata": {},
     "output_type": "execute_result"
    }
   ],
   "source": [
    "# 평균 비교\n",
    "np.mean(fraud_name_normal['changed_name']), np.mean(fraud_name_black['changed_name'])"
   ]
  },
  {
   "cell_type": "code",
   "execution_count": 7,
   "metadata": {},
   "outputs": [
    {
     "data": {
      "text/plain": [
       "Ttest_indResult(statistic=-62.24629954059341, pvalue=0.0)"
      ]
     },
     "execution_count": 7,
     "metadata": {},
     "output_type": "execute_result"
    }
   ],
   "source": [
    "tTestResultName = stats.ttest_ind(fraud_name_normal['changed_name'], fraud_name_black['changed_name'], equal_var=False)\n",
    "\n",
    "tTestResultName"
   ]
  },
  {
   "cell_type": "markdown",
   "metadata": {},
   "source": [
    "### 폰 변경 내역 파일 읽기"
   ]
  },
  {
   "cell_type": "code",
   "execution_count": 10,
   "metadata": {},
   "outputs": [
    {
     "data": {
      "text/html": [
       "<div>\n",
       "<style scoped>\n",
       "    .dataframe tbody tr th:only-of-type {\n",
       "        vertical-align: middle;\n",
       "    }\n",
       "\n",
       "    .dataframe tbody tr th {\n",
       "        vertical-align: top;\n",
       "    }\n",
       "\n",
       "    .dataframe thead th {\n",
       "        text-align: right;\n",
       "    }\n",
       "</style>\n",
       "<table border=\"1\" class=\"dataframe\">\n",
       "  <thead>\n",
       "    <tr style=\"text-align: right;\">\n",
       "      <th></th>\n",
       "      <th>is_black</th>\n",
       "      <th>uid</th>\n",
       "      <th>changed_phone</th>\n",
       "    </tr>\n",
       "  </thead>\n",
       "  <tbody>\n",
       "    <tr>\n",
       "      <th>351128</th>\n",
       "      <td>0</td>\n",
       "      <td>9315205</td>\n",
       "      <td>1</td>\n",
       "    </tr>\n",
       "    <tr>\n",
       "      <th>351129</th>\n",
       "      <td>0</td>\n",
       "      <td>9315206</td>\n",
       "      <td>1</td>\n",
       "    </tr>\n",
       "    <tr>\n",
       "      <th>351130</th>\n",
       "      <td>0</td>\n",
       "      <td>9315557</td>\n",
       "      <td>1</td>\n",
       "    </tr>\n",
       "    <tr>\n",
       "      <th>351131</th>\n",
       "      <td>0</td>\n",
       "      <td>9315569</td>\n",
       "      <td>1</td>\n",
       "    </tr>\n",
       "    <tr>\n",
       "      <th>351132</th>\n",
       "      <td>0</td>\n",
       "      <td>9315593</td>\n",
       "      <td>1</td>\n",
       "    </tr>\n",
       "  </tbody>\n",
       "</table>\n",
       "</div>"
      ],
      "text/plain": [
       "        is_black      uid  changed_phone\n",
       "351128         0  9315205              1\n",
       "351129         0  9315206              1\n",
       "351130         0  9315557              1\n",
       "351131         0  9315569              1\n",
       "351132         0  9315593              1"
      ]
     },
     "execution_count": 10,
     "metadata": {},
     "output_type": "execute_result"
    }
   ],
   "source": [
    "read_path = '../csv/changed_phone.csv'\n",
    "fraud_phone = pd.read_csv(read_path)\n",
    "\n",
    "fraud_phone['is_black'] = fraud_phone['is_black'].replace('normal', 0)\n",
    "fraud_phone['is_black'] = fraud_phone['is_black'].replace('black', 1)\n",
    "\n",
    "fraud_phone.tail()"
   ]
  },
  {
   "cell_type": "markdown",
   "metadata": {},
   "source": [
    "### T-Test"
   ]
  },
  {
   "cell_type": "code",
   "execution_count": 11,
   "metadata": {},
   "outputs": [],
   "source": [
    "fraud_phone_normal = fraud_phone[fraud_phone['is_black'] == 0]\n",
    "fraud_phone_black = fraud_phone[fraud_phone['is_black'] == 1]"
   ]
  },
  {
   "cell_type": "code",
   "execution_count": 27,
   "metadata": {},
   "outputs": [
    {
     "data": {
      "text/plain": [
       "(333597, 17536)"
      ]
     },
     "execution_count": 27,
     "metadata": {},
     "output_type": "execute_result"
    }
   ],
   "source": [
    "# 샘플 수 비교\n",
    "np.size(fraud_phone_normal['changed_phone']), np.size(fraud_phone_black['changed_phone'])"
   ]
  },
  {
   "cell_type": "code",
   "execution_count": 13,
   "metadata": {},
   "outputs": [
    {
     "data": {
      "text/plain": [
       "(1.2256165373189807, 1.402657390510949)"
      ]
     },
     "execution_count": 13,
     "metadata": {},
     "output_type": "execute_result"
    }
   ],
   "source": [
    "# 평균 비교\n",
    "np.mean(fraud_phone_normal['changed_phone']), np.mean(fraud_phone_black['changed_phone'])"
   ]
  },
  {
   "cell_type": "code",
   "execution_count": 15,
   "metadata": {},
   "outputs": [
    {
     "data": {
      "text/plain": [
       "Ttest_indResult(statistic=-23.959847561165333, pvalue=5.718419162056929e-125)"
      ]
     },
     "execution_count": 15,
     "metadata": {},
     "output_type": "execute_result"
    }
   ],
   "source": [
    "tTestResultPhone = stats.ttest_ind(fraud_phone_normal['changed_phone'], fraud_phone_black['changed_phone'], equal_var=False)\n",
    "\n",
    "tTestResultPhone"
   ]
  },
  {
   "cell_type": "markdown",
   "metadata": {},
   "source": [
    "### 리뷰 받은 사람 파일 읽기"
   ]
  },
  {
   "cell_type": "code",
   "execution_count": 19,
   "metadata": {},
   "outputs": [
    {
     "data": {
      "text/html": [
       "<div>\n",
       "<style scoped>\n",
       "    .dataframe tbody tr th:only-of-type {\n",
       "        vertical-align: middle;\n",
       "    }\n",
       "\n",
       "    .dataframe tbody tr th {\n",
       "        vertical-align: top;\n",
       "    }\n",
       "\n",
       "    .dataframe thead th {\n",
       "        text-align: right;\n",
       "    }\n",
       "</style>\n",
       "<table border=\"1\" class=\"dataframe\">\n",
       "  <thead>\n",
       "    <tr style=\"text-align: right;\">\n",
       "      <th></th>\n",
       "      <th>is_black</th>\n",
       "      <th>uid</th>\n",
       "      <th>review</th>\n",
       "    </tr>\n",
       "  </thead>\n",
       "  <tbody>\n",
       "    <tr>\n",
       "      <th>960295</th>\n",
       "      <td>0</td>\n",
       "      <td>9303612</td>\n",
       "      <td>1</td>\n",
       "    </tr>\n",
       "    <tr>\n",
       "      <th>960296</th>\n",
       "      <td>0</td>\n",
       "      <td>9305161</td>\n",
       "      <td>1</td>\n",
       "    </tr>\n",
       "    <tr>\n",
       "      <th>960297</th>\n",
       "      <td>0</td>\n",
       "      <td>9310247</td>\n",
       "      <td>1</td>\n",
       "    </tr>\n",
       "    <tr>\n",
       "      <th>960298</th>\n",
       "      <td>0</td>\n",
       "      <td>9310368</td>\n",
       "      <td>1</td>\n",
       "    </tr>\n",
       "    <tr>\n",
       "      <th>960299</th>\n",
       "      <td>0</td>\n",
       "      <td>9313138</td>\n",
       "      <td>1</td>\n",
       "    </tr>\n",
       "  </tbody>\n",
       "</table>\n",
       "</div>"
      ],
      "text/plain": [
       "        is_black      uid  review\n",
       "960295         0  9303612       1\n",
       "960296         0  9305161       1\n",
       "960297         0  9310247       1\n",
       "960298         0  9310368       1\n",
       "960299         0  9313138       1"
      ]
     },
     "execution_count": 19,
     "metadata": {},
     "output_type": "execute_result"
    }
   ],
   "source": [
    "read_path = '../csv/review_ee.csv'\n",
    "fraud_review_ee = pd.read_csv(read_path)\n",
    "\n",
    "fraud_review_ee['is_black'] = fraud_review_ee['is_black'].replace('normal', 0)\n",
    "fraud_review_ee['is_black'] = fraud_review_ee['is_black'].replace('black', 1)\n",
    "\n",
    "fraud_review_ee = fraud_review_ee.rename(columns={'shop_uid': 'uid'})\n",
    "\n",
    "fraud_review_ee.tail()"
   ]
  },
  {
   "cell_type": "markdown",
   "metadata": {},
   "source": [
    "### T-Test"
   ]
  },
  {
   "cell_type": "code",
   "execution_count": 20,
   "metadata": {},
   "outputs": [],
   "source": [
    "fraud_review_ee_normal = fraud_review_ee[fraud_review_ee['is_black'] == 0]\n",
    "fraud_review_ee_black = fraud_review_ee[fraud_review_ee['is_black'] == 1]"
   ]
  },
  {
   "cell_type": "code",
   "execution_count": 26,
   "metadata": {},
   "outputs": [
    {
     "data": {
      "text/plain": [
       "(897324, 62976)"
      ]
     },
     "execution_count": 26,
     "metadata": {},
     "output_type": "execute_result"
    }
   ],
   "source": [
    "# 샘플 수 비교\n",
    "np.size(fraud_review_ee_normal['review']), np.size(fraud_review_ee_black['review'])"
   ]
  },
  {
   "cell_type": "code",
   "execution_count": 23,
   "metadata": {},
   "outputs": [
    {
     "data": {
      "text/plain": [
       "(5.97372520962328, 8.573234247967479)"
      ]
     },
     "execution_count": 23,
     "metadata": {},
     "output_type": "execute_result"
    }
   ],
   "source": [
    "# 평균 비교\n",
    "np.mean(fraud_review_ee_normal['review']), np.mean(fraud_review_ee_black['review'])"
   ]
  },
  {
   "cell_type": "code",
   "execution_count": 24,
   "metadata": {},
   "outputs": [
    {
     "data": {
      "text/plain": [
       "Ttest_indResult(statistic=-23.21982978574343, pvalue=7.980710979230879e-119)"
      ]
     },
     "execution_count": 24,
     "metadata": {},
     "output_type": "execute_result"
    }
   ],
   "source": [
    "tTestResultReviewEe = stats.ttest_ind(fraud_review_ee_normal['review'], fraud_review_ee_black['review'], equal_var=False)\n",
    "\n",
    "tTestResultReviewEe"
   ]
  },
  {
   "cell_type": "markdown",
   "metadata": {},
   "source": [
    "### 리뷰 남긴 사람 파일 읽기"
   ]
  },
  {
   "cell_type": "code",
   "execution_count": 30,
   "metadata": {},
   "outputs": [
    {
     "data": {
      "text/html": [
       "<div>\n",
       "<style scoped>\n",
       "    .dataframe tbody tr th:only-of-type {\n",
       "        vertical-align: middle;\n",
       "    }\n",
       "\n",
       "    .dataframe tbody tr th {\n",
       "        vertical-align: top;\n",
       "    }\n",
       "\n",
       "    .dataframe thead th {\n",
       "        text-align: right;\n",
       "    }\n",
       "</style>\n",
       "<table border=\"1\" class=\"dataframe\">\n",
       "  <thead>\n",
       "    <tr style=\"text-align: right;\">\n",
       "      <th></th>\n",
       "      <th>is_black</th>\n",
       "      <th>uid</th>\n",
       "      <th>review</th>\n",
       "    </tr>\n",
       "  </thead>\n",
       "  <tbody>\n",
       "    <tr>\n",
       "      <th>1109973</th>\n",
       "      <td>0</td>\n",
       "      <td>9309329</td>\n",
       "      <td>1</td>\n",
       "    </tr>\n",
       "    <tr>\n",
       "      <th>1109974</th>\n",
       "      <td>0</td>\n",
       "      <td>9309339</td>\n",
       "      <td>1</td>\n",
       "    </tr>\n",
       "    <tr>\n",
       "      <th>1109975</th>\n",
       "      <td>0</td>\n",
       "      <td>9309423</td>\n",
       "      <td>1</td>\n",
       "    </tr>\n",
       "    <tr>\n",
       "      <th>1109976</th>\n",
       "      <td>0</td>\n",
       "      <td>9311843</td>\n",
       "      <td>1</td>\n",
       "    </tr>\n",
       "    <tr>\n",
       "      <th>1109977</th>\n",
       "      <td>0</td>\n",
       "      <td>9313932</td>\n",
       "      <td>1</td>\n",
       "    </tr>\n",
       "  </tbody>\n",
       "</table>\n",
       "</div>"
      ],
      "text/plain": [
       "         is_black      uid  review\n",
       "1109973         0  9309329       1\n",
       "1109974         0  9309339       1\n",
       "1109975         0  9309423       1\n",
       "1109976         0  9311843       1\n",
       "1109977         0  9313932       1"
      ]
     },
     "execution_count": 30,
     "metadata": {},
     "output_type": "execute_result"
    }
   ],
   "source": [
    "read_path = '../csv/review_er.csv'\n",
    "fraud_review_er = pd.read_csv(read_path)\n",
    "\n",
    "fraud_review_er['is_black'] = fraud_review_er['is_black'].replace('normal', 0)\n",
    "fraud_review_er['is_black'] = fraud_review_er['is_black'].replace('black', 1)\n",
    "\n",
    "fraud_review_er = fraud_review_er.rename(columns={'writer_uid': 'uid'})\n",
    "\n",
    "fraud_review_er.tail()"
   ]
  },
  {
   "cell_type": "markdown",
   "metadata": {},
   "source": [
    "### T-Test"
   ]
  },
  {
   "cell_type": "code",
   "execution_count": 31,
   "metadata": {},
   "outputs": [],
   "source": [
    "fraud_review_er_normal = fraud_review_er[fraud_review_er['is_black'] == 0]\n",
    "fraud_review_er_black = fraud_review_er[fraud_review_er['is_black'] == 1]"
   ]
  },
  {
   "cell_type": "code",
   "execution_count": 32,
   "metadata": {},
   "outputs": [
    {
     "data": {
      "text/plain": [
       "(1058974, 51004)"
      ]
     },
     "execution_count": 32,
     "metadata": {},
     "output_type": "execute_result"
    }
   ],
   "source": [
    "# 샘플 수 비교\n",
    "np.size(fraud_review_er_normal['review']), np.size(fraud_review_er_black['review'])"
   ]
  },
  {
   "cell_type": "code",
   "execution_count": 33,
   "metadata": {},
   "outputs": [
    {
     "data": {
      "text/plain": [
       "(5.215598305529692, 7.393478942828014)"
      ]
     },
     "execution_count": 33,
     "metadata": {},
     "output_type": "execute_result"
    }
   ],
   "source": [
    "# 평균 비교\n",
    "np.mean(fraud_review_er_normal['review']), np.mean(fraud_review_er_black['review'])"
   ]
  },
  {
   "cell_type": "code",
   "execution_count": 34,
   "metadata": {},
   "outputs": [
    {
     "data": {
      "text/plain": [
       "Ttest_indResult(statistic=-25.846254524648977, pvalue=2.049059005337516e-146)"
      ]
     },
     "execution_count": 34,
     "metadata": {},
     "output_type": "execute_result"
    }
   ],
   "source": [
    "tTestResultReviewEr = stats.ttest_ind(fraud_review_er_normal['review'], fraud_review_er_black['review'], equal_var=False)\n",
    "\n",
    "tTestResultReviewEr"
   ]
  },
  {
   "cell_type": "code",
   "execution_count": null,
   "metadata": {},
   "outputs": [],
   "source": []
  },
  {
   "cell_type": "markdown",
   "metadata": {},
   "source": [
    "# 데이터 merge"
   ]
  },
  {
   "cell_type": "code",
   "execution_count": 172,
   "metadata": {},
   "outputs": [
    {
     "data": {
      "text/html": [
       "<div>\n",
       "<style scoped>\n",
       "    .dataframe tbody tr th:only-of-type {\n",
       "        vertical-align: middle;\n",
       "    }\n",
       "\n",
       "    .dataframe tbody tr th {\n",
       "        vertical-align: top;\n",
       "    }\n",
       "\n",
       "    .dataframe thead th {\n",
       "        text-align: right;\n",
       "    }\n",
       "</style>\n",
       "<table border=\"1\" class=\"dataframe\">\n",
       "  <thead>\n",
       "    <tr style=\"text-align: right;\">\n",
       "      <th></th>\n",
       "      <th>is_black</th>\n",
       "      <th>uid</th>\n",
       "      <th>changed_name</th>\n",
       "      <th>changed_phone</th>\n",
       "      <th>review_ee</th>\n",
       "      <th>review_er</th>\n",
       "    </tr>\n",
       "  </thead>\n",
       "  <tbody>\n",
       "    <tr>\n",
       "      <th>0</th>\n",
       "      <td>1</td>\n",
       "      <td>0</td>\n",
       "      <td>7.0</td>\n",
       "      <td>0.0</td>\n",
       "      <td>2044.0</td>\n",
       "      <td>18.0</td>\n",
       "    </tr>\n",
       "    <tr>\n",
       "      <th>1</th>\n",
       "      <td>1</td>\n",
       "      <td>6</td>\n",
       "      <td>1.0</td>\n",
       "      <td>0.0</td>\n",
       "      <td>0.0</td>\n",
       "      <td>0.0</td>\n",
       "    </tr>\n",
       "    <tr>\n",
       "      <th>2</th>\n",
       "      <td>1</td>\n",
       "      <td>1717</td>\n",
       "      <td>1.0</td>\n",
       "      <td>0.0</td>\n",
       "      <td>2.0</td>\n",
       "      <td>2.0</td>\n",
       "    </tr>\n",
       "    <tr>\n",
       "      <th>3</th>\n",
       "      <td>1</td>\n",
       "      <td>2645</td>\n",
       "      <td>1.0</td>\n",
       "      <td>0.0</td>\n",
       "      <td>24.0</td>\n",
       "      <td>44.0</td>\n",
       "    </tr>\n",
       "    <tr>\n",
       "      <th>4</th>\n",
       "      <td>1</td>\n",
       "      <td>2709</td>\n",
       "      <td>1.0</td>\n",
       "      <td>1.0</td>\n",
       "      <td>0.0</td>\n",
       "      <td>1.0</td>\n",
       "    </tr>\n",
       "    <tr>\n",
       "      <th>5</th>\n",
       "      <td>1</td>\n",
       "      <td>3028</td>\n",
       "      <td>1.0</td>\n",
       "      <td>0.0</td>\n",
       "      <td>3.0</td>\n",
       "      <td>3.0</td>\n",
       "    </tr>\n",
       "    <tr>\n",
       "      <th>6</th>\n",
       "      <td>1</td>\n",
       "      <td>4299</td>\n",
       "      <td>1.0</td>\n",
       "      <td>0.0</td>\n",
       "      <td>1.0</td>\n",
       "      <td>0.0</td>\n",
       "    </tr>\n",
       "    <tr>\n",
       "      <th>7</th>\n",
       "      <td>1</td>\n",
       "      <td>4383</td>\n",
       "      <td>3.0</td>\n",
       "      <td>0.0</td>\n",
       "      <td>13.0</td>\n",
       "      <td>9.0</td>\n",
       "    </tr>\n",
       "    <tr>\n",
       "      <th>8</th>\n",
       "      <td>1</td>\n",
       "      <td>5063</td>\n",
       "      <td>2.0</td>\n",
       "      <td>0.0</td>\n",
       "      <td>322.0</td>\n",
       "      <td>86.0</td>\n",
       "    </tr>\n",
       "    <tr>\n",
       "      <th>9</th>\n",
       "      <td>1</td>\n",
       "      <td>5933</td>\n",
       "      <td>1.0</td>\n",
       "      <td>2.0</td>\n",
       "      <td>11.0</td>\n",
       "      <td>2.0</td>\n",
       "    </tr>\n",
       "    <tr>\n",
       "      <th>10</th>\n",
       "      <td>1</td>\n",
       "      <td>5993</td>\n",
       "      <td>1.0</td>\n",
       "      <td>0.0</td>\n",
       "      <td>6.0</td>\n",
       "      <td>3.0</td>\n",
       "    </tr>\n",
       "    <tr>\n",
       "      <th>11</th>\n",
       "      <td>1</td>\n",
       "      <td>6724</td>\n",
       "      <td>2.0</td>\n",
       "      <td>0.0</td>\n",
       "      <td>4.0</td>\n",
       "      <td>7.0</td>\n",
       "    </tr>\n",
       "    <tr>\n",
       "      <th>12</th>\n",
       "      <td>1</td>\n",
       "      <td>7310</td>\n",
       "      <td>2.0</td>\n",
       "      <td>0.0</td>\n",
       "      <td>6.0</td>\n",
       "      <td>3.0</td>\n",
       "    </tr>\n",
       "    <tr>\n",
       "      <th>13</th>\n",
       "      <td>1</td>\n",
       "      <td>7625</td>\n",
       "      <td>7.0</td>\n",
       "      <td>0.0</td>\n",
       "      <td>16.0</td>\n",
       "      <td>18.0</td>\n",
       "    </tr>\n",
       "    <tr>\n",
       "      <th>14</th>\n",
       "      <td>1</td>\n",
       "      <td>8134</td>\n",
       "      <td>3.0</td>\n",
       "      <td>0.0</td>\n",
       "      <td>10.0</td>\n",
       "      <td>3.0</td>\n",
       "    </tr>\n",
       "    <tr>\n",
       "      <th>15</th>\n",
       "      <td>1</td>\n",
       "      <td>9337</td>\n",
       "      <td>1.0</td>\n",
       "      <td>0.0</td>\n",
       "      <td>0.0</td>\n",
       "      <td>0.0</td>\n",
       "    </tr>\n",
       "    <tr>\n",
       "      <th>16</th>\n",
       "      <td>1</td>\n",
       "      <td>9550</td>\n",
       "      <td>2.0</td>\n",
       "      <td>1.0</td>\n",
       "      <td>18.0</td>\n",
       "      <td>1.0</td>\n",
       "    </tr>\n",
       "    <tr>\n",
       "      <th>17</th>\n",
       "      <td>1</td>\n",
       "      <td>9757</td>\n",
       "      <td>1.0</td>\n",
       "      <td>1.0</td>\n",
       "      <td>16.0</td>\n",
       "      <td>5.0</td>\n",
       "    </tr>\n",
       "    <tr>\n",
       "      <th>18</th>\n",
       "      <td>1</td>\n",
       "      <td>9789</td>\n",
       "      <td>2.0</td>\n",
       "      <td>0.0</td>\n",
       "      <td>0.0</td>\n",
       "      <td>1.0</td>\n",
       "    </tr>\n",
       "    <tr>\n",
       "      <th>19</th>\n",
       "      <td>1</td>\n",
       "      <td>9947</td>\n",
       "      <td>3.0</td>\n",
       "      <td>1.0</td>\n",
       "      <td>8.0</td>\n",
       "      <td>8.0</td>\n",
       "    </tr>\n",
       "    <tr>\n",
       "      <th>20</th>\n",
       "      <td>1</td>\n",
       "      <td>10124</td>\n",
       "      <td>1.0</td>\n",
       "      <td>1.0</td>\n",
       "      <td>3.0</td>\n",
       "      <td>2.0</td>\n",
       "    </tr>\n",
       "    <tr>\n",
       "      <th>21</th>\n",
       "      <td>1</td>\n",
       "      <td>10352</td>\n",
       "      <td>3.0</td>\n",
       "      <td>1.0</td>\n",
       "      <td>23.0</td>\n",
       "      <td>17.0</td>\n",
       "    </tr>\n",
       "    <tr>\n",
       "      <th>22</th>\n",
       "      <td>1</td>\n",
       "      <td>12071</td>\n",
       "      <td>2.0</td>\n",
       "      <td>0.0</td>\n",
       "      <td>0.0</td>\n",
       "      <td>0.0</td>\n",
       "    </tr>\n",
       "    <tr>\n",
       "      <th>23</th>\n",
       "      <td>1</td>\n",
       "      <td>12543</td>\n",
       "      <td>1.0</td>\n",
       "      <td>0.0</td>\n",
       "      <td>22.0</td>\n",
       "      <td>1.0</td>\n",
       "    </tr>\n",
       "    <tr>\n",
       "      <th>24</th>\n",
       "      <td>1</td>\n",
       "      <td>12596</td>\n",
       "      <td>4.0</td>\n",
       "      <td>4.0</td>\n",
       "      <td>3.0</td>\n",
       "      <td>2.0</td>\n",
       "    </tr>\n",
       "    <tr>\n",
       "      <th>25</th>\n",
       "      <td>1</td>\n",
       "      <td>13710</td>\n",
       "      <td>1.0</td>\n",
       "      <td>0.0</td>\n",
       "      <td>0.0</td>\n",
       "      <td>0.0</td>\n",
       "    </tr>\n",
       "    <tr>\n",
       "      <th>26</th>\n",
       "      <td>1</td>\n",
       "      <td>13778</td>\n",
       "      <td>3.0</td>\n",
       "      <td>0.0</td>\n",
       "      <td>0.0</td>\n",
       "      <td>0.0</td>\n",
       "    </tr>\n",
       "    <tr>\n",
       "      <th>27</th>\n",
       "      <td>1</td>\n",
       "      <td>13854</td>\n",
       "      <td>2.0</td>\n",
       "      <td>0.0</td>\n",
       "      <td>2.0</td>\n",
       "      <td>0.0</td>\n",
       "    </tr>\n",
       "    <tr>\n",
       "      <th>28</th>\n",
       "      <td>1</td>\n",
       "      <td>14885</td>\n",
       "      <td>12.0</td>\n",
       "      <td>1.0</td>\n",
       "      <td>29.0</td>\n",
       "      <td>4.0</td>\n",
       "    </tr>\n",
       "    <tr>\n",
       "      <th>29</th>\n",
       "      <td>1</td>\n",
       "      <td>15058</td>\n",
       "      <td>2.0</td>\n",
       "      <td>0.0</td>\n",
       "      <td>12.0</td>\n",
       "      <td>20.0</td>\n",
       "    </tr>\n",
       "    <tr>\n",
       "      <th>...</th>\n",
       "      <td>...</td>\n",
       "      <td>...</td>\n",
       "      <td>...</td>\n",
       "      <td>...</td>\n",
       "      <td>...</td>\n",
       "      <td>...</td>\n",
       "    </tr>\n",
       "    <tr>\n",
       "      <th>4361964</th>\n",
       "      <td>0</td>\n",
       "      <td>9273907</td>\n",
       "      <td>0.0</td>\n",
       "      <td>0.0</td>\n",
       "      <td>0.0</td>\n",
       "      <td>1.0</td>\n",
       "    </tr>\n",
       "    <tr>\n",
       "      <th>4361965</th>\n",
       "      <td>0</td>\n",
       "      <td>9274481</td>\n",
       "      <td>0.0</td>\n",
       "      <td>0.0</td>\n",
       "      <td>0.0</td>\n",
       "      <td>1.0</td>\n",
       "    </tr>\n",
       "    <tr>\n",
       "      <th>4361966</th>\n",
       "      <td>0</td>\n",
       "      <td>9274546</td>\n",
       "      <td>0.0</td>\n",
       "      <td>0.0</td>\n",
       "      <td>0.0</td>\n",
       "      <td>2.0</td>\n",
       "    </tr>\n",
       "    <tr>\n",
       "      <th>4361967</th>\n",
       "      <td>0</td>\n",
       "      <td>9275506</td>\n",
       "      <td>0.0</td>\n",
       "      <td>0.0</td>\n",
       "      <td>0.0</td>\n",
       "      <td>1.0</td>\n",
       "    </tr>\n",
       "    <tr>\n",
       "      <th>4361968</th>\n",
       "      <td>0</td>\n",
       "      <td>9276104</td>\n",
       "      <td>0.0</td>\n",
       "      <td>0.0</td>\n",
       "      <td>0.0</td>\n",
       "      <td>1.0</td>\n",
       "    </tr>\n",
       "    <tr>\n",
       "      <th>4361969</th>\n",
       "      <td>0</td>\n",
       "      <td>9277058</td>\n",
       "      <td>0.0</td>\n",
       "      <td>0.0</td>\n",
       "      <td>0.0</td>\n",
       "      <td>1.0</td>\n",
       "    </tr>\n",
       "    <tr>\n",
       "      <th>4361970</th>\n",
       "      <td>0</td>\n",
       "      <td>9277248</td>\n",
       "      <td>0.0</td>\n",
       "      <td>0.0</td>\n",
       "      <td>0.0</td>\n",
       "      <td>1.0</td>\n",
       "    </tr>\n",
       "    <tr>\n",
       "      <th>4361971</th>\n",
       "      <td>0</td>\n",
       "      <td>9278038</td>\n",
       "      <td>0.0</td>\n",
       "      <td>0.0</td>\n",
       "      <td>0.0</td>\n",
       "      <td>1.0</td>\n",
       "    </tr>\n",
       "    <tr>\n",
       "      <th>4361972</th>\n",
       "      <td>0</td>\n",
       "      <td>9278129</td>\n",
       "      <td>0.0</td>\n",
       "      <td>0.0</td>\n",
       "      <td>0.0</td>\n",
       "      <td>1.0</td>\n",
       "    </tr>\n",
       "    <tr>\n",
       "      <th>4361973</th>\n",
       "      <td>0</td>\n",
       "      <td>9279400</td>\n",
       "      <td>0.0</td>\n",
       "      <td>0.0</td>\n",
       "      <td>0.0</td>\n",
       "      <td>2.0</td>\n",
       "    </tr>\n",
       "    <tr>\n",
       "      <th>4361974</th>\n",
       "      <td>0</td>\n",
       "      <td>9280893</td>\n",
       "      <td>0.0</td>\n",
       "      <td>0.0</td>\n",
       "      <td>0.0</td>\n",
       "      <td>1.0</td>\n",
       "    </tr>\n",
       "    <tr>\n",
       "      <th>4361975</th>\n",
       "      <td>0</td>\n",
       "      <td>9281085</td>\n",
       "      <td>0.0</td>\n",
       "      <td>0.0</td>\n",
       "      <td>0.0</td>\n",
       "      <td>1.0</td>\n",
       "    </tr>\n",
       "    <tr>\n",
       "      <th>4361976</th>\n",
       "      <td>0</td>\n",
       "      <td>9281478</td>\n",
       "      <td>0.0</td>\n",
       "      <td>0.0</td>\n",
       "      <td>0.0</td>\n",
       "      <td>1.0</td>\n",
       "    </tr>\n",
       "    <tr>\n",
       "      <th>4361977</th>\n",
       "      <td>0</td>\n",
       "      <td>9282479</td>\n",
       "      <td>0.0</td>\n",
       "      <td>0.0</td>\n",
       "      <td>0.0</td>\n",
       "      <td>1.0</td>\n",
       "    </tr>\n",
       "    <tr>\n",
       "      <th>4361978</th>\n",
       "      <td>0</td>\n",
       "      <td>9282508</td>\n",
       "      <td>0.0</td>\n",
       "      <td>0.0</td>\n",
       "      <td>0.0</td>\n",
       "      <td>1.0</td>\n",
       "    </tr>\n",
       "    <tr>\n",
       "      <th>4361979</th>\n",
       "      <td>0</td>\n",
       "      <td>9283119</td>\n",
       "      <td>0.0</td>\n",
       "      <td>0.0</td>\n",
       "      <td>0.0</td>\n",
       "      <td>1.0</td>\n",
       "    </tr>\n",
       "    <tr>\n",
       "      <th>4361980</th>\n",
       "      <td>0</td>\n",
       "      <td>9286744</td>\n",
       "      <td>0.0</td>\n",
       "      <td>0.0</td>\n",
       "      <td>0.0</td>\n",
       "      <td>1.0</td>\n",
       "    </tr>\n",
       "    <tr>\n",
       "      <th>4361981</th>\n",
       "      <td>0</td>\n",
       "      <td>9287432</td>\n",
       "      <td>0.0</td>\n",
       "      <td>0.0</td>\n",
       "      <td>0.0</td>\n",
       "      <td>1.0</td>\n",
       "    </tr>\n",
       "    <tr>\n",
       "      <th>4361982</th>\n",
       "      <td>0</td>\n",
       "      <td>9288370</td>\n",
       "      <td>0.0</td>\n",
       "      <td>0.0</td>\n",
       "      <td>0.0</td>\n",
       "      <td>1.0</td>\n",
       "    </tr>\n",
       "    <tr>\n",
       "      <th>4361983</th>\n",
       "      <td>0</td>\n",
       "      <td>9288793</td>\n",
       "      <td>0.0</td>\n",
       "      <td>0.0</td>\n",
       "      <td>0.0</td>\n",
       "      <td>1.0</td>\n",
       "    </tr>\n",
       "    <tr>\n",
       "      <th>4361984</th>\n",
       "      <td>0</td>\n",
       "      <td>9289131</td>\n",
       "      <td>0.0</td>\n",
       "      <td>0.0</td>\n",
       "      <td>0.0</td>\n",
       "      <td>1.0</td>\n",
       "    </tr>\n",
       "    <tr>\n",
       "      <th>4361985</th>\n",
       "      <td>0</td>\n",
       "      <td>9291882</td>\n",
       "      <td>0.0</td>\n",
       "      <td>0.0</td>\n",
       "      <td>0.0</td>\n",
       "      <td>1.0</td>\n",
       "    </tr>\n",
       "    <tr>\n",
       "      <th>4361986</th>\n",
       "      <td>0</td>\n",
       "      <td>9294803</td>\n",
       "      <td>0.0</td>\n",
       "      <td>0.0</td>\n",
       "      <td>0.0</td>\n",
       "      <td>1.0</td>\n",
       "    </tr>\n",
       "    <tr>\n",
       "      <th>4361987</th>\n",
       "      <td>0</td>\n",
       "      <td>9298685</td>\n",
       "      <td>0.0</td>\n",
       "      <td>0.0</td>\n",
       "      <td>0.0</td>\n",
       "      <td>1.0</td>\n",
       "    </tr>\n",
       "    <tr>\n",
       "      <th>4361988</th>\n",
       "      <td>0</td>\n",
       "      <td>9299212</td>\n",
       "      <td>0.0</td>\n",
       "      <td>0.0</td>\n",
       "      <td>0.0</td>\n",
       "      <td>1.0</td>\n",
       "    </tr>\n",
       "    <tr>\n",
       "      <th>4361989</th>\n",
       "      <td>0</td>\n",
       "      <td>9301357</td>\n",
       "      <td>0.0</td>\n",
       "      <td>0.0</td>\n",
       "      <td>0.0</td>\n",
       "      <td>1.0</td>\n",
       "    </tr>\n",
       "    <tr>\n",
       "      <th>4361990</th>\n",
       "      <td>0</td>\n",
       "      <td>9302106</td>\n",
       "      <td>0.0</td>\n",
       "      <td>0.0</td>\n",
       "      <td>0.0</td>\n",
       "      <td>1.0</td>\n",
       "    </tr>\n",
       "    <tr>\n",
       "      <th>4361991</th>\n",
       "      <td>0</td>\n",
       "      <td>9303188</td>\n",
       "      <td>0.0</td>\n",
       "      <td>0.0</td>\n",
       "      <td>0.0</td>\n",
       "      <td>1.0</td>\n",
       "    </tr>\n",
       "    <tr>\n",
       "      <th>4361992</th>\n",
       "      <td>0</td>\n",
       "      <td>9303547</td>\n",
       "      <td>0.0</td>\n",
       "      <td>0.0</td>\n",
       "      <td>0.0</td>\n",
       "      <td>1.0</td>\n",
       "    </tr>\n",
       "    <tr>\n",
       "      <th>4361993</th>\n",
       "      <td>0</td>\n",
       "      <td>9308128</td>\n",
       "      <td>0.0</td>\n",
       "      <td>0.0</td>\n",
       "      <td>0.0</td>\n",
       "      <td>1.0</td>\n",
       "    </tr>\n",
       "  </tbody>\n",
       "</table>\n",
       "<p>4361994 rows × 6 columns</p>\n",
       "</div>"
      ],
      "text/plain": [
       "         is_black      uid  changed_name  changed_phone  review_ee  review_er\n",
       "0               1        0           7.0            0.0     2044.0       18.0\n",
       "1               1        6           1.0            0.0        0.0        0.0\n",
       "2               1     1717           1.0            0.0        2.0        2.0\n",
       "3               1     2645           1.0            0.0       24.0       44.0\n",
       "4               1     2709           1.0            1.0        0.0        1.0\n",
       "5               1     3028           1.0            0.0        3.0        3.0\n",
       "6               1     4299           1.0            0.0        1.0        0.0\n",
       "7               1     4383           3.0            0.0       13.0        9.0\n",
       "8               1     5063           2.0            0.0      322.0       86.0\n",
       "9               1     5933           1.0            2.0       11.0        2.0\n",
       "10              1     5993           1.0            0.0        6.0        3.0\n",
       "11              1     6724           2.0            0.0        4.0        7.0\n",
       "12              1     7310           2.0            0.0        6.0        3.0\n",
       "13              1     7625           7.0            0.0       16.0       18.0\n",
       "14              1     8134           3.0            0.0       10.0        3.0\n",
       "15              1     9337           1.0            0.0        0.0        0.0\n",
       "16              1     9550           2.0            1.0       18.0        1.0\n",
       "17              1     9757           1.0            1.0       16.0        5.0\n",
       "18              1     9789           2.0            0.0        0.0        1.0\n",
       "19              1     9947           3.0            1.0        8.0        8.0\n",
       "20              1    10124           1.0            1.0        3.0        2.0\n",
       "21              1    10352           3.0            1.0       23.0       17.0\n",
       "22              1    12071           2.0            0.0        0.0        0.0\n",
       "23              1    12543           1.0            0.0       22.0        1.0\n",
       "24              1    12596           4.0            4.0        3.0        2.0\n",
       "25              1    13710           1.0            0.0        0.0        0.0\n",
       "26              1    13778           3.0            0.0        0.0        0.0\n",
       "27              1    13854           2.0            0.0        2.0        0.0\n",
       "28              1    14885          12.0            1.0       29.0        4.0\n",
       "29              1    15058           2.0            0.0       12.0       20.0\n",
       "...           ...      ...           ...            ...        ...        ...\n",
       "4361964         0  9273907           0.0            0.0        0.0        1.0\n",
       "4361965         0  9274481           0.0            0.0        0.0        1.0\n",
       "4361966         0  9274546           0.0            0.0        0.0        2.0\n",
       "4361967         0  9275506           0.0            0.0        0.0        1.0\n",
       "4361968         0  9276104           0.0            0.0        0.0        1.0\n",
       "4361969         0  9277058           0.0            0.0        0.0        1.0\n",
       "4361970         0  9277248           0.0            0.0        0.0        1.0\n",
       "4361971         0  9278038           0.0            0.0        0.0        1.0\n",
       "4361972         0  9278129           0.0            0.0        0.0        1.0\n",
       "4361973         0  9279400           0.0            0.0        0.0        2.0\n",
       "4361974         0  9280893           0.0            0.0        0.0        1.0\n",
       "4361975         0  9281085           0.0            0.0        0.0        1.0\n",
       "4361976         0  9281478           0.0            0.0        0.0        1.0\n",
       "4361977         0  9282479           0.0            0.0        0.0        1.0\n",
       "4361978         0  9282508           0.0            0.0        0.0        1.0\n",
       "4361979         0  9283119           0.0            0.0        0.0        1.0\n",
       "4361980         0  9286744           0.0            0.0        0.0        1.0\n",
       "4361981         0  9287432           0.0            0.0        0.0        1.0\n",
       "4361982         0  9288370           0.0            0.0        0.0        1.0\n",
       "4361983         0  9288793           0.0            0.0        0.0        1.0\n",
       "4361984         0  9289131           0.0            0.0        0.0        1.0\n",
       "4361985         0  9291882           0.0            0.0        0.0        1.0\n",
       "4361986         0  9294803           0.0            0.0        0.0        1.0\n",
       "4361987         0  9298685           0.0            0.0        0.0        1.0\n",
       "4361988         0  9299212           0.0            0.0        0.0        1.0\n",
       "4361989         0  9301357           0.0            0.0        0.0        1.0\n",
       "4361990         0  9302106           0.0            0.0        0.0        1.0\n",
       "4361991         0  9303188           0.0            0.0        0.0        1.0\n",
       "4361992         0  9303547           0.0            0.0        0.0        1.0\n",
       "4361993         0  9308128           0.0            0.0        0.0        1.0\n",
       "\n",
       "[4361994 rows x 6 columns]"
      ]
     },
     "execution_count": 172,
     "metadata": {},
     "output_type": "execute_result"
    }
   ],
   "source": [
    "fraud_1 = pd.merge(fraud_name, fraud_phone, on =['is_black', 'uid'], how='outer')\n",
    "\n",
    "fraud_2 = pd.merge(fraud_1, fraud_review_ee, on =['is_black', 'uid'], how='outer')\n",
    "\n",
    "fraud = pd.merge(fraud_2, fraud_review_er, on =['is_black', 'uid'], how='outer')\n",
    "\n",
    "fraud = fraud.rename(columns={'review_x': 'review_ee', 'review_y': 'review_er'})\n",
    "\n",
    "fraud.fillna(0)"
   ]
  },
  {
   "cell_type": "code",
   "execution_count": null,
   "metadata": {},
   "outputs": [],
   "source": []
  },
  {
   "cell_type": "code",
   "execution_count": null,
   "metadata": {},
   "outputs": [],
   "source": []
  },
  {
   "cell_type": "code",
   "execution_count": null,
   "metadata": {},
   "outputs": [],
   "source": []
  },
  {
   "cell_type": "code",
   "execution_count": 151,
   "metadata": {},
   "outputs": [
    {
     "name": "stdout",
     "output_type": "stream",
     "text": [
      "Optimization terminated successfully.\n",
      "         Current function value: 0.177909\n",
      "         Iterations 8\n",
      "                           Logit Regression Results                           \n",
      "==============================================================================\n",
      "Dep. Variable:               is_black   No. Observations:              4095227\n",
      "Model:                          Logit   Df Residuals:                  4095226\n",
      "Method:                           MLE   Df Model:                            0\n",
      "Date:                Tue, 02 Jul 2019   Pseudo R-squ.:                 -0.4207\n",
      "Time:                        17:16:10   Log-Likelihood:            -7.2858e+05\n",
      "converged:                       True   LL-Null:                   -5.1284e+05\n",
      "                                        LLR p-value:                       nan\n",
      "================================================================================\n",
      "                   coef    std err          z      P>|z|      [0.025      0.975]\n",
      "--------------------------------------------------------------------------------\n",
      "changed_name    -2.7745      0.002  -1195.259      0.000      -2.779      -2.770\n",
      "================================================================================\n"
     ]
    }
   ],
   "source": [
    "y = fraud_name['is_black']\n",
    "X = fraud_name['changed_name']\n",
    "\n",
    "logit_mod = sm.Logit(y, X)\n",
    "# logit_res = logit_mod.fit(disp=0)\n",
    "logit_res = logit_mod.fit()\n",
    "print(logit_res.summary())"
   ]
  },
  {
   "cell_type": "code",
   "execution_count": null,
   "metadata": {},
   "outputs": [],
   "source": [
    "xx = np.linspace(0, 100, 200)\n",
    "\n",
    "\n",
    "plt.scatter(X, logit_res.predict(X), label=r\"$\\hat{y}$\", marker='x', c=y,\n",
    "            s=200, lw=2, alpha=0.5)\n",
    "\n",
    "plt.legend(loc = \"best\")\n",
    "plt.show()"
   ]
  },
  {
   "cell_type": "code",
   "execution_count": null,
   "metadata": {},
   "outputs": [],
   "source": []
  },
  {
   "cell_type": "code",
   "execution_count": null,
   "metadata": {},
   "outputs": [],
   "source": []
  },
  {
   "cell_type": "code",
   "execution_count": 76,
   "metadata": {},
   "outputs": [
    {
     "name": "stdout",
     "output_type": "stream",
     "text": [
      "Optimization terminated successfully.\n",
      "         Current function value: 0.011182\n",
      "         Iterations 11\n"
     ]
    },
    {
     "data": {
      "text/html": [
       "<table class=\"simpletable\">\n",
       "<caption>Logit Regression Results</caption>\n",
       "<tr>\n",
       "  <th>Dep. Variable:</th>     <td>is_black</td>     <th>  No. Observations:  </th>  <td>4094682</td>\n",
       "</tr>\n",
       "<tr>\n",
       "  <th>Model:</th>               <td>Logit</td>      <th>  Df Residuals:      </th>  <td>4094680</td>\n",
       "</tr>\n",
       "<tr>\n",
       "  <th>Method:</th>               <td>MLE</td>       <th>  Df Model:          </th>  <td>     1</td> \n",
       "</tr>\n",
       "<tr>\n",
       "  <th>Date:</th>          <td>Tue, 02 Jul 2019</td> <th>  Pseudo R-squ.:     </th>  <td>0.02962</td>\n",
       "</tr>\n",
       "<tr>\n",
       "  <th>Time:</th>              <td>15:28:15</td>     <th>  Log-Likelihood:    </th> <td> -45786.</td>\n",
       "</tr>\n",
       "<tr>\n",
       "  <th>converged:</th>           <td>True</td>       <th>  LL-Null:           </th> <td> -47184.</td>\n",
       "</tr>\n",
       "<tr>\n",
       "  <th> </th>                      <td> </td>        <th>  LLR p-value:       </th>  <td> 0.000</td> \n",
       "</tr>\n",
       "</table>\n",
       "<table class=\"simpletable\">\n",
       "<tr>\n",
       "        <td></td>          <th>coef</th>     <th>std err</th>      <th>z</th>      <th>P>|z|</th>  <th>[0.025</th>    <th>0.975]</th>  \n",
       "</tr>\n",
       "<tr>\n",
       "  <th>Intercept</th>    <td>   -6.7715</td> <td>    0.014</td> <td> -475.639</td> <td> 0.000</td> <td>   -6.799</td> <td>   -6.744</td>\n",
       "</tr>\n",
       "<tr>\n",
       "  <th>changed_name</th> <td>    0.1657</td> <td>    0.003</td> <td>   61.440</td> <td> 0.000</td> <td>    0.160</td> <td>    0.171</td>\n",
       "</tr>\n",
       "</table>"
      ],
      "text/plain": [
       "<class 'statsmodels.iolib.summary.Summary'>\n",
       "\"\"\"\n",
       "                           Logit Regression Results                           \n",
       "==============================================================================\n",
       "Dep. Variable:               is_black   No. Observations:              4094682\n",
       "Model:                          Logit   Df Residuals:                  4094680\n",
       "Method:                           MLE   Df Model:                            1\n",
       "Date:                Tue, 02 Jul 2019   Pseudo R-squ.:                 0.02962\n",
       "Time:                        15:28:15   Log-Likelihood:                -45786.\n",
       "converged:                       True   LL-Null:                       -47184.\n",
       "                                        LLR p-value:                     0.000\n",
       "================================================================================\n",
       "                   coef    std err          z      P>|z|      [0.025      0.975]\n",
       "--------------------------------------------------------------------------------\n",
       "Intercept       -6.7715      0.014   -475.639      0.000      -6.799      -6.744\n",
       "changed_name     0.1657      0.003     61.440      0.000       0.160       0.171\n",
       "================================================================================\n",
       "\"\"\""
      ]
     },
     "execution_count": 76,
     "metadata": {},
     "output_type": "execute_result"
    }
   ],
   "source": [
    "logit_res = sm.Logit.from_formula('is_black ~ changed_name', fraud_name).fit()\n",
    "\n",
    "logit_res.summary()"
   ]
  },
  {
   "cell_type": "code",
   "execution_count": 101,
   "metadata": {},
   "outputs": [
    {
     "data": {
      "image/png": "[encoded data removed]",
      "text/plain": [
       "<Figure size 432x288 with 1 Axes>"
      ]
     },
     "metadata": {
      "needs_background": "light"
     },
     "output_type": "display_data"
    }
   ],
   "source": [
    "plt.scatter(fraud_name['changed_name'], fraud_name['is_black'], label=\"data\", marker='o')\n",
    "\n",
    "plt.legend(loc = \"best\")\n",
    "plt.show()"
   ]
  },
  {
   "cell_type": "code",
   "execution_count": null,
   "metadata": {},
   "outputs": [],
   "source": []
  },
  {
   "cell_type": "code",
   "execution_count": 27,
   "metadata": {},
   "outputs": [
    {
     "data": {
      "text/plain": [
       "Intercept       0.001146\n",
       "changed_name    1.180193\n",
       "dtype: float64"
      ]
     },
     "execution_count": 27,
     "metadata": {},
     "output_type": "execute_result"
    }
   ],
   "source": [
    "np.exp(logis.params)"
   ]
  },
  {
   "cell_type": "code",
   "execution_count": 28,
   "metadata": {},
   "outputs": [
    {
     "name": "stdout",
     "output_type": "stream",
     "text": [
      "                  2.5%     97.5%        OR\n",
      "Intercept     0.001114  0.001178  0.001146\n",
      "changed_name  1.173972  1.186447  1.180193\n"
     ]
    }
   ],
   "source": [
    "params = logis.params\n",
    "conf = logis.conf_int()\n",
    "conf['OR'] = params\n",
    "conf.columns = ['2.5%', '97.5%', 'OR']\n",
    "print(np.exp(conf))"
   ]
  },
  {
   "cell_type": "code",
   "execution_count": null,
   "metadata": {},
   "outputs": [],
   "source": []
  },
  {
   "cell_type": "code",
   "execution_count": 43,
   "metadata": {},
   "outputs": [],
   "source": [
    "from sklearn.linear_model import LogisticRegression\n",
    "from sklearn.model_selection import train_test_split"
   ]
  },
  {
   "cell_type": "code",
   "execution_count": 72,
   "metadata": {},
   "outputs": [],
   "source": [
    "Y = fraud_name['is_black']\n",
    "X = fraud_name.drop(['is_black'], axis=1)\n",
    "\n",
    "# Y.reshape(1, -1)\n",
    "# X = X.reshape(1, -1)\n",
    "\n",
    "X_train, X_test, Y_train, Y_test = train_test_split(X, Y, test_size=0.3)\n"
   ]
  },
  {
   "cell_type": "code",
   "execution_count": null,
   "metadata": {},
   "outputs": [],
   "source": []
  },
  {
   "cell_type": "code",
   "execution_count": null,
   "metadata": {},
   "outputs": [],
   "source": []
  },
  {
   "cell_type": "code",
   "execution_count": 118,
   "metadata": {},
   "outputs": [
    {
     "name": "stderr",
     "output_type": "stream",
     "text": [
      "/Users/quicket/python-bunjang/venv/lib/python3.7/site-packages/sklearn/linear_model/logistic.py:432: FutureWarning: Default solver will be changed to 'lbfgs' in 0.22. Specify a solver to silence this warning.\n",
      "  FutureWarning)\n"
     ]
    },
    {
     "data": {
      "text/plain": [
       "0.9984711882481755"
      ]
     },
     "execution_count": 118,
     "metadata": {},
     "output_type": "execute_result"
    }
   ],
   "source": [
    "log_clf = LogisticRegression()\n",
    "log_clf.fit(X_train,Y_train)  # training 데이터로 학습 시키기\n",
    "log_clf.score(X_test, Y_test)  # the mean accuracy on the given test data and labels."
   ]
  },
  {
   "cell_type": "code",
   "execution_count": null,
   "metadata": {},
   "outputs": [],
   "source": []
  },
  {
   "cell_type": "code",
   "execution_count": null,
   "metadata": {},
   "outputs": [],
   "source": []
  },
  {
   "cell_type": "code",
   "execution_count": 142,
   "metadata": {},
   "outputs": [],
   "source": [
    "#test(valid)/train 을 2:8 로 randomly select\n",
    "train, valid = train_test_split(fraud_name, test_size=0.2, random_state=0)\n",
    "\n",
    "#train/valid set 완성\n",
    "train_y = train['is_black']\n",
    "train_x = train.drop(['is_black'], axis=1)\n",
    "\n",
    "valid_y = valid['is_black']\n",
    "valid_x = valid.drop(['is_black'],axis=1)"
   ]
  },
  {
   "cell_type": "code",
   "execution_count": null,
   "metadata": {},
   "outputs": [],
   "source": []
  },
  {
   "cell_type": "code",
   "execution_count": 137,
   "metadata": {},
   "outputs": [
    {
     "name": "stderr",
     "output_type": "stream",
     "text": [
      "/Users/quicket/python-bunjang/venv/lib/python3.7/site-packages/sklearn/linear_model/logistic.py:432: FutureWarning: Default solver will be changed to 'lbfgs' in 0.22. Specify a solver to silence this warning.\n",
      "  FutureWarning)\n"
     ]
    }
   ],
   "source": [
    "# lr = LogisticRegression(C=1000.0, random_state=0)\n",
    "\n",
    "lr = LogisticRegression()\n",
    "lr.fit(train_x, train_y)  # Fit the model according to the given training data.\n",
    "pred_y = lr.predict(valid_x)  # Predict class labels for samples in X."
   ]
  },
  {
   "cell_type": "code",
   "execution_count": 138,
   "metadata": {},
   "outputs": [
    {
     "data": {
      "text/plain": [
       "array([0, 0, 0, ..., 0, 0, 0])"
      ]
     },
     "execution_count": 138,
     "metadata": {},
     "output_type": "execute_result"
    }
   ],
   "source": [
    "pred_y"
   ]
  },
  {
   "cell_type": "code",
   "execution_count": 141,
   "metadata": {},
   "outputs": [
    {
     "data": {
      "text/plain": [
       "LogisticRegression(C=1.0, class_weight=None, dual=False, fit_intercept=True,\n",
       "                   intercept_scaling=1, l1_ratio=None, max_iter=100,\n",
       "                   multi_class='warn', n_jobs=None, penalty='l2',\n",
       "                   random_state=None, solver='warn', tol=0.0001, verbose=0,\n",
       "                   warm_start=False)"
      ]
     },
     "execution_count": 141,
     "metadata": {},
     "output_type": "execute_result"
    }
   ],
   "source": [
    "lr"
   ]
  },
  {
   "cell_type": "code",
   "execution_count": 139,
   "metadata": {},
   "outputs": [
    {
     "name": "stdout",
     "output_type": "stream",
     "text": [
      "Misclassification samples : 1915\n"
     ]
    }
   ],
   "source": [
    "print(\"Misclassification samples : %d\" %(valid_y != pred_y).sum())"
   ]
  },
  {
   "cell_type": "code",
   "execution_count": 140,
   "metadata": {},
   "outputs": [
    {
     "name": "stdout",
     "output_type": "stream",
     "text": [
      "accuracy: 0.998\n"
     ]
    },
    {
     "name": "stderr",
     "output_type": "stream",
     "text": [
      "/Users/quicket/python-bunjang/venv/lib/python3.7/site-packages/sklearn/metrics/classification.py:1437: UndefinedMetricWarning: Precision is ill-defined and being set to 0.0 due to no predicted samples.\n",
      "  'precision', 'predicted', average, warn_for)\n"
     ]
    },
    {
     "name": "stdout",
     "output_type": "stream",
     "text": [
      "Precision : 0.000\n",
      "Recall : 0.000\n",
      "F1 : 0.000\n"
     ]
    },
    {
     "name": "stderr",
     "output_type": "stream",
     "text": [
      "/Users/quicket/python-bunjang/venv/lib/python3.7/site-packages/sklearn/metrics/classification.py:1437: UndefinedMetricWarning: F-score is ill-defined and being set to 0.0 due to no predicted samples.\n",
      "  'precision', 'predicted', average, warn_for)\n"
     ]
    }
   ],
   "source": [
    "from sklearn.metrics import precision_score, recall_score, f1_score\n",
    "from sklearn.metrics import accuracy_score\n",
    "\n",
    "print(\"accuracy: %.3f\" %accuracy_score(valid_y, pred_y))  # Accuracy classification score\n",
    "print(\"Precision : %.3f\" % precision_score(valid_y, pred_y))\n",
    "print(\"Recall : %.3f\" % recall_score(valid_y, pred_y))\n",
    "print(\"F1 : %.3f\" % f1_score(valid_y, pred_y))"
   ]
  },
  {
   "cell_type": "code",
   "execution_count": null,
   "metadata": {},
   "outputs": [],
   "source": []
  },
  {
   "cell_type": "code",
   "execution_count": 106,
   "metadata": {},
   "outputs": [],
   "source": [
    "fraud_name_10 = fraud_name[fraud_name['changed_name'] <= 10]"
   ]
  },
  {
   "cell_type": "code",
   "execution_count": 109,
   "metadata": {},
   "outputs": [
    {
     "name": "stdout",
     "output_type": "stream",
     "text": [
      "Optimization terminated successfully.\n",
      "         Current function value: 0.023258\n",
      "         Iterations 10\n",
      "                           Logit Regression Results                           \n",
      "==============================================================================\n",
      "Dep. Variable:               is_black   No. Observations:              4084758\n",
      "Model:                          Logit   Df Residuals:                  4084757\n",
      "Method:                           MLE   Df Model:                            0\n",
      "Date:                Tue, 02 Jul 2019   Pseudo R-squ.:                  -1.114\n",
      "Time:                        16:14:22   Log-Likelihood:                -95004.\n",
      "converged:                       True   LL-Null:                       -44933.\n",
      "                                        LLR p-value:                       nan\n",
      "================================================================================\n",
      "                   coef    std err          z      P>|z|      [0.025      0.975]\n",
      "--------------------------------------------------------------------------------\n",
      "changed_name    -5.3635      0.008   -654.274      0.000      -5.380      -5.347\n",
      "================================================================================\n",
      "\n",
      "Possibly complete quasi-separation: A fraction 0.22 of observations can be\n",
      "perfectly predicted. This might indicate that there is complete\n",
      "quasi-separation. In this case some parameters will not be identified.\n"
     ]
    }
   ],
   "source": [
    "y = fraud_name_10['is_black']\n",
    "X = fraud_name_10['changed_name']\n",
    "\n",
    "logit_mod = sm.Logit(y, X)\n",
    "# logit_res = logit_mod.fit(disp=0)\n",
    "logit_res = logit_mod.fit()\n",
    "print(logit_res.summary())"
   ]
  },
  {
   "cell_type": "code",
   "execution_count": 110,
   "metadata": {},
   "outputs": [
    {
     "name": "stdout",
     "output_type": "stream",
     "text": [
      "Optimization terminated successfully.\n",
      "         Current function value: 0.010553\n",
      "         Iterations 11\n"
     ]
    },
    {
     "data": {
      "text/html": [
       "<table class=\"simpletable\">\n",
       "<caption>Logit Regression Results</caption>\n",
       "<tr>\n",
       "  <th>Dep. Variable:</th>     <td>is_black</td>     <th>  No. Observations:  </th>  <td>4084758</td>\n",
       "</tr>\n",
       "<tr>\n",
       "  <th>Model:</th>               <td>Logit</td>      <th>  Df Residuals:      </th>  <td>4084756</td>\n",
       "</tr>\n",
       "<tr>\n",
       "  <th>Method:</th>               <td>MLE</td>       <th>  Df Model:          </th>  <td>     1</td> \n",
       "</tr>\n",
       "<tr>\n",
       "  <th>Date:</th>          <td>Tue, 02 Jul 2019</td> <th>  Pseudo R-squ.:     </th>  <td>0.04062</td>\n",
       "</tr>\n",
       "<tr>\n",
       "  <th>Time:</th>              <td>16:15:20</td>     <th>  Log-Likelihood:    </th> <td> -43108.</td>\n",
       "</tr>\n",
       "<tr>\n",
       "  <th>converged:</th>           <td>True</td>       <th>  LL-Null:           </th> <td> -44933.</td>\n",
       "</tr>\n",
       "<tr>\n",
       "  <th> </th>                      <td> </td>        <th>  LLR p-value:       </th>  <td> 0.000</td> \n",
       "</tr>\n",
       "</table>\n",
       "<table class=\"simpletable\">\n",
       "<tr>\n",
       "        <td></td>          <th>coef</th>     <th>std err</th>      <th>z</th>      <th>P>|z|</th>  <th>[0.025</th>    <th>0.975]</th>  \n",
       "</tr>\n",
       "<tr>\n",
       "  <th>Intercept</th>    <td>   -7.2815</td> <td>    0.019</td> <td> -389.763</td> <td> 0.000</td> <td>   -7.318</td> <td>   -7.245</td>\n",
       "</tr>\n",
       "<tr>\n",
       "  <th>changed_name</th> <td>    0.4246</td> <td>    0.005</td> <td>   78.381</td> <td> 0.000</td> <td>    0.414</td> <td>    0.435</td>\n",
       "</tr>\n",
       "</table>"
      ],
      "text/plain": [
       "<class 'statsmodels.iolib.summary.Summary'>\n",
       "\"\"\"\n",
       "                           Logit Regression Results                           \n",
       "==============================================================================\n",
       "Dep. Variable:               is_black   No. Observations:              4084758\n",
       "Model:                          Logit   Df Residuals:                  4084756\n",
       "Method:                           MLE   Df Model:                            1\n",
       "Date:                Tue, 02 Jul 2019   Pseudo R-squ.:                 0.04062\n",
       "Time:                        16:15:20   Log-Likelihood:                -43108.\n",
       "converged:                       True   LL-Null:                       -44933.\n",
       "                                        LLR p-value:                     0.000\n",
       "================================================================================\n",
       "                   coef    std err          z      P>|z|      [0.025      0.975]\n",
       "--------------------------------------------------------------------------------\n",
       "Intercept       -7.2815      0.019   -389.763      0.000      -7.318      -7.245\n",
       "changed_name     0.4246      0.005     78.381      0.000       0.414       0.435\n",
       "================================================================================\n",
       "\"\"\""
      ]
     },
     "execution_count": 110,
     "metadata": {},
     "output_type": "execute_result"
    }
   ],
   "source": [
    "logit_res = sm.Logit.from_formula('is_black ~ changed_name', fraud_name_10).fit()\n",
    "\n",
    "logit_res.summary()"
   ]
  },
  {
   "cell_type": "code",
   "execution_count": null,
   "metadata": {},
   "outputs": [],
   "source": []
  }
 ],
 "metadata": {
  "kernelspec": {
   "display_name": "Python 3",
   "language": "python",
   "name": "python3"
  },
  "language_info": {
   "codemirror_mode": {
    "name": "ipython",
    "version": 3
   },
   "file_extension": ".py",
   "mimetype": "text/x-python",
   "name": "python",
   "nbconvert_exporter": "python",
   "pygments_lexer": "ipython3",
   "version": "3.7.3"
  }
 },
 "nbformat": 4,
 "nbformat_minor": 2
}
