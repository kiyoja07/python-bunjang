{
 "cells": [
  {
   "cell_type": "code",
   "execution_count": 13,
   "metadata": {},
   "outputs": [],
   "source": [
    "import pandas as pd\n",
    "import matplotlib.pylab as plt\n",
    "import statsmodels.api as sm\n",
    "import numpy as np\n",
    "import seaborn as sns\n",
    "from scipy import stats"
   ]
  },
  {
   "cell_type": "markdown",
   "metadata": {},
   "source": [
    "## 사기 혐의자 데이터 읽기"
   ]
  },
  {
   "cell_type": "code",
   "execution_count": 14,
   "metadata": {},
   "outputs": [
    {
     "data": {
      "text/html": [
       "<div>\n",
       "<style scoped>\n",
       "    .dataframe tbody tr th:only-of-type {\n",
       "        vertical-align: middle;\n",
       "    }\n",
       "\n",
       "    .dataframe tbody tr th {\n",
       "        vertical-align: top;\n",
       "    }\n",
       "\n",
       "    .dataframe thead th {\n",
       "        text-align: right;\n",
       "    }\n",
       "</style>\n",
       "<table border=\"1\" class=\"dataframe\">\n",
       "  <thead>\n",
       "    <tr style=\"text-align: right;\">\n",
       "      <th></th>\n",
       "      <th>uid</th>\n",
       "      <th>help</th>\n",
       "    </tr>\n",
       "  </thead>\n",
       "  <tbody>\n",
       "    <tr>\n",
       "      <th>103113</th>\n",
       "      <td>1475933</td>\n",
       "      <td>1</td>\n",
       "    </tr>\n",
       "    <tr>\n",
       "      <th>103114</th>\n",
       "      <td>9313382</td>\n",
       "      <td>1</td>\n",
       "    </tr>\n",
       "    <tr>\n",
       "      <th>103115</th>\n",
       "      <td>9302282</td>\n",
       "      <td>1</td>\n",
       "    </tr>\n",
       "    <tr>\n",
       "      <th>103116</th>\n",
       "      <td>6223410</td>\n",
       "      <td>1</td>\n",
       "    </tr>\n",
       "    <tr>\n",
       "      <th>103117</th>\n",
       "      <td>9241528</td>\n",
       "      <td>1</td>\n",
       "    </tr>\n",
       "  </tbody>\n",
       "</table>\n",
       "</div>"
      ],
      "text/plain": [
       "            uid  help\n",
       "103113  1475933     1\n",
       "103114  9313382     1\n",
       "103115  9302282     1\n",
       "103116  6223410     1\n",
       "103117  9241528     1"
      ]
     },
     "execution_count": 14,
     "metadata": {},
     "output_type": "execute_result"
    }
   ],
   "source": [
    "# 상담센터에 거래 관련 신고된 uid\n",
    "read_path = '../csv/help_uid.csv'\n",
    "fraud_uid_help = pd.read_csv(read_path)\n",
    "\n",
    "fraud_uid_help = fraud_uid_help.rename(columns={'value': 'uid'})\n",
    "\n",
    "fraud_uid_help['uid'] = fraud_uid_help['uid'].astype(str)\n",
    "\n",
    "fraud_uid_help['help'] = 1\n",
    "\n",
    "fraud_uid_help.tail()"
   ]
  },
  {
   "cell_type": "code",
   "execution_count": 15,
   "metadata": {},
   "outputs": [
    {
     "data": {
      "text/html": [
       "<div>\n",
       "<style scoped>\n",
       "    .dataframe tbody tr th:only-of-type {\n",
       "        vertical-align: middle;\n",
       "    }\n",
       "\n",
       "    .dataframe tbody tr th {\n",
       "        vertical-align: top;\n",
       "    }\n",
       "\n",
       "    .dataframe thead th {\n",
       "        text-align: right;\n",
       "    }\n",
       "</style>\n",
       "<table border=\"1\" class=\"dataframe\">\n",
       "  <thead>\n",
       "    <tr style=\"text-align: right;\">\n",
       "      <th></th>\n",
       "      <th>uid</th>\n",
       "      <th>block</th>\n",
       "    </tr>\n",
       "  </thead>\n",
       "  <tbody>\n",
       "    <tr>\n",
       "      <th>143847</th>\n",
       "      <td>5834292</td>\n",
       "      <td>1</td>\n",
       "    </tr>\n",
       "    <tr>\n",
       "      <th>143848</th>\n",
       "      <td>5067006</td>\n",
       "      <td>1</td>\n",
       "    </tr>\n",
       "    <tr>\n",
       "      <th>143849</th>\n",
       "      <td>8755369</td>\n",
       "      <td>1</td>\n",
       "    </tr>\n",
       "    <tr>\n",
       "      <th>143850</th>\n",
       "      <td>5083812</td>\n",
       "      <td>1</td>\n",
       "    </tr>\n",
       "    <tr>\n",
       "      <th>143851</th>\n",
       "      <td>7961342</td>\n",
       "      <td>1</td>\n",
       "    </tr>\n",
       "  </tbody>\n",
       "</table>\n",
       "</div>"
      ],
      "text/plain": [
       "            uid  block\n",
       "143847  5834292      1\n",
       "143848  5067006      1\n",
       "143849  8755369      1\n",
       "143850  5083812      1\n",
       "143851  7961342      1"
      ]
     },
     "execution_count": 15,
     "metadata": {},
     "output_type": "execute_result"
    }
   ],
   "source": [
    "# 영구 제재 받은 uid\n",
    "read_path = '../csv/block_uid.csv'\n",
    "fraud_uid_block = pd.read_csv(read_path)\n",
    "\n",
    "fraud_uid_block['block'] = 1\n",
    "\n",
    "fraud_uid_block['uid'] = fraud_uid_block['uid'].astype(str)\n",
    "\n",
    "fraud_uid_block.tail()"
   ]
  },
  {
   "cell_type": "code",
   "execution_count": 16,
   "metadata": {},
   "outputs": [
    {
     "data": {
      "text/html": [
       "<div>\n",
       "<style scoped>\n",
       "    .dataframe tbody tr th:only-of-type {\n",
       "        vertical-align: middle;\n",
       "    }\n",
       "\n",
       "    .dataframe tbody tr th {\n",
       "        vertical-align: top;\n",
       "    }\n",
       "\n",
       "    .dataframe thead th {\n",
       "        text-align: right;\n",
       "    }\n",
       "</style>\n",
       "<table border=\"1\" class=\"dataframe\">\n",
       "  <thead>\n",
       "    <tr style=\"text-align: right;\">\n",
       "      <th></th>\n",
       "      <th>reported_date</th>\n",
       "      <th>product_name</th>\n",
       "      <th>price</th>\n",
       "      <th>reporter_uid</th>\n",
       "      <th>fraud_uid</th>\n",
       "      <th>block_by_operation</th>\n",
       "    </tr>\n",
       "  </thead>\n",
       "  <tbody>\n",
       "    <tr>\n",
       "      <th>15951</th>\n",
       "      <td>NaN</td>\n",
       "      <td>갤럭시A7</td>\n",
       "      <td>125,000</td>\n",
       "      <td>1370542.0</td>\n",
       "      <td>2667809</td>\n",
       "      <td>1</td>\n",
       "    </tr>\n",
       "    <tr>\n",
       "      <th>15952</th>\n",
       "      <td>NaN</td>\n",
       "      <td>갤럭시노트fe</td>\n",
       "      <td>350,000</td>\n",
       "      <td>3224068.0</td>\n",
       "      <td>4087003</td>\n",
       "      <td>1</td>\n",
       "    </tr>\n",
       "    <tr>\n",
       "      <th>15953</th>\n",
       "      <td>NaN</td>\n",
       "      <td>아이폰5s</td>\n",
       "      <td>123,000</td>\n",
       "      <td>4016158.0</td>\n",
       "      <td>4770542</td>\n",
       "      <td>1</td>\n",
       "    </tr>\n",
       "    <tr>\n",
       "      <th>15954</th>\n",
       "      <td>NaN</td>\n",
       "      <td>핸드백</td>\n",
       "      <td>25,000</td>\n",
       "      <td>938074.0</td>\n",
       "      <td>5335535</td>\n",
       "      <td>1</td>\n",
       "    </tr>\n",
       "    <tr>\n",
       "      <th>15955</th>\n",
       "      <td>NaN</td>\n",
       "      <td>gtx1060 6g</td>\n",
       "      <td>250,000</td>\n",
       "      <td>1890173.0</td>\n",
       "      <td>5699420</td>\n",
       "      <td>1</td>\n",
       "    </tr>\n",
       "  </tbody>\n",
       "</table>\n",
       "</div>"
      ],
      "text/plain": [
       "      reported_date product_name    price  reporter_uid  fraud_uid  \\\n",
       "15951           NaN        갤럭시A7  125,000     1370542.0    2667809   \n",
       "15952           NaN      갤럭시노트fe  350,000     3224068.0    4087003   \n",
       "15953           NaN        아이폰5s  123,000     4016158.0    4770542   \n",
       "15954           NaN          핸드백   25,000      938074.0    5335535   \n",
       "15955           NaN   gtx1060 6g  250,000     1890173.0    5699420   \n",
       "\n",
       "       block_by_operation  \n",
       "15951                   1  \n",
       "15952                   1  \n",
       "15953                   1  \n",
       "15954                   1  \n",
       "15955                   1  "
      ]
     },
     "execution_count": 16,
     "metadata": {},
     "output_type": "execute_result"
    }
   ],
   "source": [
    "# 운영팀에서 관리하는 거래신고 접수 uid\n",
    "read_path = '../csv/fraud_report_data_2019_2016.csv'\n",
    "fraud_operation = pd.read_csv(read_path)\n",
    "\n",
    "fraud_operation.columns = ['reported_date', 'product_name', 'price', 'reporter_uid', 'fraud_uid']\n",
    "\n",
    "fraud_operation['block_by_operation'] = 1\n",
    "\n",
    "fraud_operation.tail()"
   ]
  },
  {
   "cell_type": "markdown",
   "metadata": {},
   "source": [
    "### 사기 혐의자 데이터 합치기"
   ]
  },
  {
   "cell_type": "code",
   "execution_count": 17,
   "metadata": {},
   "outputs": [
    {
     "data": {
      "text/html": [
       "<div>\n",
       "<style scoped>\n",
       "    .dataframe tbody tr th:only-of-type {\n",
       "        vertical-align: middle;\n",
       "    }\n",
       "\n",
       "    .dataframe tbody tr th {\n",
       "        vertical-align: top;\n",
       "    }\n",
       "\n",
       "    .dataframe thead th {\n",
       "        text-align: right;\n",
       "    }\n",
       "</style>\n",
       "<table border=\"1\" class=\"dataframe\">\n",
       "  <thead>\n",
       "    <tr style=\"text-align: right;\">\n",
       "      <th></th>\n",
       "      <th>uid</th>\n",
       "      <th>block_by_operation</th>\n",
       "    </tr>\n",
       "  </thead>\n",
       "  <tbody>\n",
       "    <tr>\n",
       "      <th>15951</th>\n",
       "      <td>2667809</td>\n",
       "      <td>1</td>\n",
       "    </tr>\n",
       "    <tr>\n",
       "      <th>15952</th>\n",
       "      <td>4087003</td>\n",
       "      <td>1</td>\n",
       "    </tr>\n",
       "    <tr>\n",
       "      <th>15953</th>\n",
       "      <td>4770542</td>\n",
       "      <td>1</td>\n",
       "    </tr>\n",
       "    <tr>\n",
       "      <th>15954</th>\n",
       "      <td>5335535</td>\n",
       "      <td>1</td>\n",
       "    </tr>\n",
       "    <tr>\n",
       "      <th>15955</th>\n",
       "      <td>5699420</td>\n",
       "      <td>1</td>\n",
       "    </tr>\n",
       "  </tbody>\n",
       "</table>\n",
       "</div>"
      ],
      "text/plain": [
       "           uid  block_by_operation\n",
       "15951  2667809                   1\n",
       "15952  4087003                   1\n",
       "15953  4770542                   1\n",
       "15954  5335535                   1\n",
       "15955  5699420                   1"
      ]
     },
     "execution_count": 17,
     "metadata": {},
     "output_type": "execute_result"
    }
   ],
   "source": [
    "fraud_uid_operation = fraud_operation[['fraud_uid', 'block_by_operation']]\n",
    "\n",
    "fraud_uid_operation = fraud_uid_operation.rename(columns={'fraud_uid': 'uid'})\n",
    "\n",
    "fraud_uid_operation['uid'] = fraud_uid_operation['uid'].astype(str)\n",
    "\n",
    "fraud_uid_operation.tail()"
   ]
  },
  {
   "cell_type": "code",
   "execution_count": 18,
   "metadata": {},
   "outputs": [
    {
     "data": {
      "text/html": [
       "<div>\n",
       "<style scoped>\n",
       "    .dataframe tbody tr th:only-of-type {\n",
       "        vertical-align: middle;\n",
       "    }\n",
       "\n",
       "    .dataframe tbody tr th {\n",
       "        vertical-align: top;\n",
       "    }\n",
       "\n",
       "    .dataframe thead th {\n",
       "        text-align: right;\n",
       "    }\n",
       "</style>\n",
       "<table border=\"1\" class=\"dataframe\">\n",
       "  <thead>\n",
       "    <tr style=\"text-align: right;\">\n",
       "      <th></th>\n",
       "      <th>uid</th>\n",
       "      <th>help</th>\n",
       "      <th>block</th>\n",
       "      <th>block_by_operation</th>\n",
       "    </tr>\n",
       "  </thead>\n",
       "  <tbody>\n",
       "    <tr>\n",
       "      <th>212508</th>\n",
       "      <td>6534153</td>\n",
       "      <td>0.0</td>\n",
       "      <td>0.0</td>\n",
       "      <td>1.0</td>\n",
       "    </tr>\n",
       "    <tr>\n",
       "      <th>212509</th>\n",
       "      <td>2610325</td>\n",
       "      <td>0.0</td>\n",
       "      <td>0.0</td>\n",
       "      <td>1.0</td>\n",
       "    </tr>\n",
       "    <tr>\n",
       "      <th>212510</th>\n",
       "      <td>3927135</td>\n",
       "      <td>0.0</td>\n",
       "      <td>0.0</td>\n",
       "      <td>1.0</td>\n",
       "    </tr>\n",
       "    <tr>\n",
       "      <th>212511</th>\n",
       "      <td>1806746</td>\n",
       "      <td>0.0</td>\n",
       "      <td>0.0</td>\n",
       "      <td>1.0</td>\n",
       "    </tr>\n",
       "    <tr>\n",
       "      <th>212512</th>\n",
       "      <td>8970553</td>\n",
       "      <td>0.0</td>\n",
       "      <td>0.0</td>\n",
       "      <td>1.0</td>\n",
       "    </tr>\n",
       "  </tbody>\n",
       "</table>\n",
       "</div>"
      ],
      "text/plain": [
       "            uid  help  block  block_by_operation\n",
       "212508  6534153   0.0    0.0                 1.0\n",
       "212509  2610325   0.0    0.0                 1.0\n",
       "212510  3927135   0.0    0.0                 1.0\n",
       "212511  1806746   0.0    0.0                 1.0\n",
       "212512  8970553   0.0    0.0                 1.0"
      ]
     },
     "execution_count": 18,
     "metadata": {},
     "output_type": "execute_result"
    }
   ],
   "source": [
    "fraud_uid_1 = pd.merge(fraud_uid_help, fraud_uid_block, on='uid', how='outer')\n",
    "\n",
    "fraud_uid = pd.merge(fraud_uid_1, fraud_uid_operation, on='uid', how='outer')\n",
    "\n",
    "fraud_uid = fraud_uid.fillna(0)\n",
    "\n",
    "fraud_uid.tail()"
   ]
  },
  {
   "cell_type": "code",
   "execution_count": 19,
   "metadata": {},
   "outputs": [
    {
     "data": {
      "text/html": [
       "<div>\n",
       "<style scoped>\n",
       "    .dataframe tbody tr th:only-of-type {\n",
       "        vertical-align: middle;\n",
       "    }\n",
       "\n",
       "    .dataframe tbody tr th {\n",
       "        vertical-align: top;\n",
       "    }\n",
       "\n",
       "    .dataframe thead th {\n",
       "        text-align: right;\n",
       "    }\n",
       "</style>\n",
       "<table border=\"1\" class=\"dataframe\">\n",
       "  <thead>\n",
       "    <tr style=\"text-align: right;\">\n",
       "      <th></th>\n",
       "      <th>uid</th>\n",
       "      <th>help</th>\n",
       "      <th>block</th>\n",
       "      <th>block_by_operation</th>\n",
       "      <th>black_source</th>\n",
       "    </tr>\n",
       "  </thead>\n",
       "  <tbody>\n",
       "    <tr>\n",
       "      <th>212508</th>\n",
       "      <td>6534153</td>\n",
       "      <td>0.0</td>\n",
       "      <td>0.0</td>\n",
       "      <td>1.0</td>\n",
       "      <td>operation</td>\n",
       "    </tr>\n",
       "    <tr>\n",
       "      <th>212509</th>\n",
       "      <td>2610325</td>\n",
       "      <td>0.0</td>\n",
       "      <td>0.0</td>\n",
       "      <td>1.0</td>\n",
       "      <td>operation</td>\n",
       "    </tr>\n",
       "    <tr>\n",
       "      <th>212510</th>\n",
       "      <td>3927135</td>\n",
       "      <td>0.0</td>\n",
       "      <td>0.0</td>\n",
       "      <td>1.0</td>\n",
       "      <td>operation</td>\n",
       "    </tr>\n",
       "    <tr>\n",
       "      <th>212511</th>\n",
       "      <td>1806746</td>\n",
       "      <td>0.0</td>\n",
       "      <td>0.0</td>\n",
       "      <td>1.0</td>\n",
       "      <td>operation</td>\n",
       "    </tr>\n",
       "    <tr>\n",
       "      <th>212512</th>\n",
       "      <td>8970553</td>\n",
       "      <td>0.0</td>\n",
       "      <td>0.0</td>\n",
       "      <td>1.0</td>\n",
       "      <td>operation</td>\n",
       "    </tr>\n",
       "  </tbody>\n",
       "</table>\n",
       "</div>"
      ],
      "text/plain": [
       "            uid  help  block  block_by_operation black_source\n",
       "212508  6534153   0.0    0.0                 1.0    operation\n",
       "212509  2610325   0.0    0.0                 1.0    operation\n",
       "212510  3927135   0.0    0.0                 1.0    operation\n",
       "212511  1806746   0.0    0.0                 1.0    operation\n",
       "212512  8970553   0.0    0.0                 1.0    operation"
      ]
     },
     "execution_count": 19,
     "metadata": {},
     "output_type": "execute_result"
    }
   ],
   "source": [
    "def merge_block(row):\n",
    "    if row['help'] == 1 and row['block'] == 1 and row['block_by_operation'] == 1:\n",
    "        return 'help&block&operation'\n",
    "    elif row['help'] == 1 and row['block'] == 1:\n",
    "        return 'help&block'\n",
    "    elif row['block'] == 1 and row['block_by_operation'] == 1:\n",
    "        return 'block&operation'\n",
    "    elif row['help'] == 1 and row['block_by_operation'] == 1:\n",
    "        return 'help&operation'\n",
    "    elif row['help'] == 1:\n",
    "        return 'help'\n",
    "    elif row['block'] == 1:\n",
    "        return 'block'\n",
    "    elif row['block_by_operation'] == 1:\n",
    "        return 'operation'\n",
    "    else:\n",
    "        return 'missing'\n",
    "    \n",
    "fraud_uid['black_source'] = fraud_uid.apply(merge_block, axis=1)\n",
    "\n",
    "fraud_uid.tail()"
   ]
  },
  {
   "cell_type": "code",
   "execution_count": 20,
   "metadata": {},
   "outputs": [
    {
     "data": {
      "text/html": [
       "<div>\n",
       "<style scoped>\n",
       "    .dataframe tbody tr th:only-of-type {\n",
       "        vertical-align: middle;\n",
       "    }\n",
       "\n",
       "    .dataframe tbody tr th {\n",
       "        vertical-align: top;\n",
       "    }\n",
       "\n",
       "    .dataframe thead th {\n",
       "        text-align: right;\n",
       "    }\n",
       "</style>\n",
       "<table border=\"1\" class=\"dataframe\">\n",
       "  <thead>\n",
       "    <tr style=\"text-align: right;\">\n",
       "      <th></th>\n",
       "      <th>black_source</th>\n",
       "      <th>uid</th>\n",
       "    </tr>\n",
       "  </thead>\n",
       "  <tbody>\n",
       "    <tr>\n",
       "      <th>0</th>\n",
       "      <td>block</td>\n",
       "      <td>103892</td>\n",
       "    </tr>\n",
       "    <tr>\n",
       "      <th>1</th>\n",
       "      <td>block&amp;operation</td>\n",
       "      <td>826</td>\n",
       "    </tr>\n",
       "    <tr>\n",
       "      <th>2</th>\n",
       "      <td>help</td>\n",
       "      <td>63073</td>\n",
       "    </tr>\n",
       "    <tr>\n",
       "      <th>3</th>\n",
       "      <td>help&amp;block</td>\n",
       "      <td>29592</td>\n",
       "    </tr>\n",
       "    <tr>\n",
       "      <th>4</th>\n",
       "      <td>help&amp;block&amp;operation</td>\n",
       "      <td>12952</td>\n",
       "    </tr>\n",
       "    <tr>\n",
       "      <th>5</th>\n",
       "      <td>help&amp;operation</td>\n",
       "      <td>1005</td>\n",
       "    </tr>\n",
       "    <tr>\n",
       "      <th>6</th>\n",
       "      <td>operation</td>\n",
       "      <td>1173</td>\n",
       "    </tr>\n",
       "  </tbody>\n",
       "</table>\n",
       "</div>"
      ],
      "text/plain": [
       "           black_source     uid\n",
       "0                 block  103892\n",
       "1       block&operation     826\n",
       "2                  help   63073\n",
       "3            help&block   29592\n",
       "4  help&block&operation   12952\n",
       "5        help&operation    1005\n",
       "6             operation    1173"
      ]
     },
     "execution_count": 20,
     "metadata": {},
     "output_type": "execute_result"
    }
   ],
   "source": [
    "fraud_uid.groupby(['black_source'], as_index=False).agg({'uid':'count'})"
   ]
  },
  {
   "cell_type": "code",
   "execution_count": null,
   "metadata": {},
   "outputs": [],
   "source": []
  },
  {
   "cell_type": "markdown",
   "metadata": {},
   "source": [
    "## 거래 데이터 읽기"
   ]
  },
  {
   "cell_type": "code",
   "execution_count": 21,
   "metadata": {},
   "outputs": [
    {
     "data": {
      "text/html": [
       "<div>\n",
       "<style scoped>\n",
       "    .dataframe tbody tr th:only-of-type {\n",
       "        vertical-align: middle;\n",
       "    }\n",
       "\n",
       "    .dataframe tbody tr th {\n",
       "        vertical-align: top;\n",
       "    }\n",
       "\n",
       "    .dataframe thead th {\n",
       "        text-align: right;\n",
       "    }\n",
       "</style>\n",
       "<table border=\"1\" class=\"dataframe\">\n",
       "  <thead>\n",
       "    <tr style=\"text-align: right;\">\n",
       "      <th></th>\n",
       "      <th>updated_at</th>\n",
       "      <th>buyer_uid</th>\n",
       "      <th>seller_uid</th>\n",
       "      <th>total_price</th>\n",
       "    </tr>\n",
       "  </thead>\n",
       "  <tbody>\n",
       "    <tr>\n",
       "      <th>90146</th>\n",
       "      <td>2019-01-25 20:32:45</td>\n",
       "      <td>4161761</td>\n",
       "      <td>4414597</td>\n",
       "      <td>148170</td>\n",
       "    </tr>\n",
       "    <tr>\n",
       "      <th>90147</th>\n",
       "      <td>2019-02-01 20:31:30</td>\n",
       "      <td>603779</td>\n",
       "      <td>5071323</td>\n",
       "      <td>31450</td>\n",
       "    </tr>\n",
       "    <tr>\n",
       "      <th>90148</th>\n",
       "      <td>2019-01-25 20:32:45</td>\n",
       "      <td>8069149</td>\n",
       "      <td>7742258</td>\n",
       "      <td>47350</td>\n",
       "    </tr>\n",
       "    <tr>\n",
       "      <th>90149</th>\n",
       "      <td>2019-01-25 20:32:45</td>\n",
       "      <td>31040</td>\n",
       "      <td>2459314</td>\n",
       "      <td>143100</td>\n",
       "    </tr>\n",
       "    <tr>\n",
       "      <th>90150</th>\n",
       "      <td>2019-01-25 20:32:45</td>\n",
       "      <td>7526483</td>\n",
       "      <td>7566393</td>\n",
       "      <td>2576000</td>\n",
       "    </tr>\n",
       "  </tbody>\n",
       "</table>\n",
       "</div>"
      ],
      "text/plain": [
       "                updated_at  buyer_uid  seller_uid  total_price\n",
       "90146  2019-01-25 20:32:45    4161761     4414597       148170\n",
       "90147  2019-02-01 20:31:30     603779     5071323        31450\n",
       "90148  2019-01-25 20:32:45    8069149     7742258        47350\n",
       "90149  2019-01-25 20:32:45      31040     2459314       143100\n",
       "90150  2019-01-25 20:32:45    7526483     7566393      2576000"
      ]
     },
     "execution_count": 21,
     "metadata": {},
     "output_type": "execute_result"
    }
   ],
   "source": [
    "read_path = '../csv/pay_history.csv'\n",
    "pay_raw = pd.read_csv(read_path)\n",
    "\n",
    "pay_raw = pay_raw.rename(columns={'buyer_id': 'buyer_uid', 'seller_id': 'seller_uid', 'deposit_done_date': 'updated_at'})\n",
    "\n",
    "pay_raw.tail()"
   ]
  },
  {
   "cell_type": "code",
   "execution_count": 210,
   "metadata": {},
   "outputs": [
    {
     "data": {
      "text/html": [
       "<div>\n",
       "<style scoped>\n",
       "    .dataframe tbody tr th:only-of-type {\n",
       "        vertical-align: middle;\n",
       "    }\n",
       "\n",
       "    .dataframe tbody tr th {\n",
       "        vertical-align: top;\n",
       "    }\n",
       "\n",
       "    .dataframe thead th {\n",
       "        text-align: right;\n",
       "    }\n",
       "</style>\n",
       "<table border=\"1\" class=\"dataframe\">\n",
       "  <thead>\n",
       "    <tr style=\"text-align: right;\">\n",
       "      <th></th>\n",
       "      <th>updated_at</th>\n",
       "      <th>category</th>\n",
       "      <th>buyer_uid</th>\n",
       "      <th>seller_uid</th>\n",
       "      <th>total_price</th>\n",
       "    </tr>\n",
       "  </thead>\n",
       "  <tbody>\n",
       "    <tr>\n",
       "      <th>10933687</th>\n",
       "      <td>2019-07-02 09:22:43</td>\n",
       "      <td>600700002</td>\n",
       "      <td>428300</td>\n",
       "      <td>9139471</td>\n",
       "      <td>20000</td>\n",
       "    </tr>\n",
       "    <tr>\n",
       "      <th>10933688</th>\n",
       "      <td>2019-07-02 10:07:24</td>\n",
       "      <td>900220999</td>\n",
       "      <td>4583984</td>\n",
       "      <td>3727301</td>\n",
       "      <td>24000</td>\n",
       "    </tr>\n",
       "    <tr>\n",
       "      <th>10933689</th>\n",
       "      <td>2019-07-02 11:42:04</td>\n",
       "      <td>700100100</td>\n",
       "      <td>9303879</td>\n",
       "      <td>5499956</td>\n",
       "      <td>80000</td>\n",
       "    </tr>\n",
       "    <tr>\n",
       "      <th>10933690</th>\n",
       "      <td>2019-07-02 13:10:52</td>\n",
       "      <td>400010100</td>\n",
       "      <td>8693877</td>\n",
       "      <td>5293606</td>\n",
       "      <td>38000</td>\n",
       "    </tr>\n",
       "    <tr>\n",
       "      <th>10933691</th>\n",
       "      <td>2019-07-02 13:15:25</td>\n",
       "      <td>600700999</td>\n",
       "      <td>5696564</td>\n",
       "      <td>9138584</td>\n",
       "      <td>70000</td>\n",
       "    </tr>\n",
       "  </tbody>\n",
       "</table>\n",
       "</div>"
      ],
      "text/plain": [
       "                   updated_at   category  buyer_uid  seller_uid  total_price\n",
       "10933687  2019-07-02 09:22:43  600700002     428300     9139471        20000\n",
       "10933688  2019-07-02 10:07:24  900220999    4583984     3727301        24000\n",
       "10933689  2019-07-02 11:42:04  700100100    9303879     5499956        80000\n",
       "10933690  2019-07-02 13:10:52  400010100    8693877     5293606        38000\n",
       "10933691  2019-07-02 13:15:25  600700999    5696564     9138584        70000"
      ]
     },
     "execution_count": 210,
     "metadata": {},
     "output_type": "execute_result"
    }
   ],
   "source": [
    "read_path = '../csv/bunp_history.csv'\n",
    "bunp_raw = pd.read_csv(read_path)\n",
    "\n",
    "bunp_raw = bunp_raw.rename(columns={'seller_pid_price': 'total_price'})\n",
    "\n",
    "bunp_raw.tail()"
   ]
  },
  {
   "cell_type": "code",
   "execution_count": 23,
   "metadata": {},
   "outputs": [
    {
     "data": {
      "text/html": [
       "<div>\n",
       "<style scoped>\n",
       "    .dataframe tbody tr th:only-of-type {\n",
       "        vertical-align: middle;\n",
       "    }\n",
       "\n",
       "    .dataframe tbody tr th {\n",
       "        vertical-align: top;\n",
       "    }\n",
       "\n",
       "    .dataframe thead th {\n",
       "        text-align: right;\n",
       "    }\n",
       "</style>\n",
       "<table border=\"1\" class=\"dataframe\">\n",
       "  <thead>\n",
       "    <tr style=\"text-align: right;\">\n",
       "      <th></th>\n",
       "      <th>index</th>\n",
       "      <th>updated_at</th>\n",
       "      <th>buyer_uid</th>\n",
       "      <th>seller_uid</th>\n",
       "      <th>total_price</th>\n",
       "    </tr>\n",
       "  </thead>\n",
       "  <tbody>\n",
       "    <tr>\n",
       "      <th>11023854</th>\n",
       "      <td>90146</td>\n",
       "      <td>2019-01-25 20:32:45</td>\n",
       "      <td>4161761</td>\n",
       "      <td>4414597</td>\n",
       "      <td>148170</td>\n",
       "    </tr>\n",
       "    <tr>\n",
       "      <th>11023855</th>\n",
       "      <td>90147</td>\n",
       "      <td>2019-02-01 20:31:30</td>\n",
       "      <td>603779</td>\n",
       "      <td>5071323</td>\n",
       "      <td>31450</td>\n",
       "    </tr>\n",
       "    <tr>\n",
       "      <th>11023856</th>\n",
       "      <td>90148</td>\n",
       "      <td>2019-01-25 20:32:45</td>\n",
       "      <td>8069149</td>\n",
       "      <td>7742258</td>\n",
       "      <td>47350</td>\n",
       "    </tr>\n",
       "    <tr>\n",
       "      <th>11023857</th>\n",
       "      <td>90149</td>\n",
       "      <td>2019-01-25 20:32:45</td>\n",
       "      <td>31040</td>\n",
       "      <td>2459314</td>\n",
       "      <td>143100</td>\n",
       "    </tr>\n",
       "    <tr>\n",
       "      <th>11023858</th>\n",
       "      <td>90150</td>\n",
       "      <td>2019-01-25 20:32:45</td>\n",
       "      <td>7526483</td>\n",
       "      <td>7566393</td>\n",
       "      <td>2576000</td>\n",
       "    </tr>\n",
       "  </tbody>\n",
       "</table>\n",
       "</div>"
      ],
      "text/plain": [
       "          index           updated_at  buyer_uid seller_uid  total_price\n",
       "11023854  90146  2019-01-25 20:32:45    4161761    4414597       148170\n",
       "11023855  90147  2019-02-01 20:31:30     603779    5071323        31450\n",
       "11023856  90148  2019-01-25 20:32:45    8069149    7742258        47350\n",
       "11023857  90149  2019-01-25 20:32:45      31040    2459314       143100\n",
       "11023858  90150  2019-01-25 20:32:45    7526483    7566393      2576000"
      ]
     },
     "execution_count": 23,
     "metadata": {},
     "output_type": "execute_result"
    }
   ],
   "source": [
    "transaction = pd.concat([bunp_raw, pay_raw], axis=0).reset_index()\n",
    "\n",
    "transaction['seller_uid'] = transaction['seller_uid'].astype(str)\n",
    "\n",
    "transaction.tail()"
   ]
  },
  {
   "cell_type": "code",
   "execution_count": 24,
   "metadata": {},
   "outputs": [
    {
     "data": {
      "text/html": [
       "<div>\n",
       "<style scoped>\n",
       "    .dataframe tbody tr th:only-of-type {\n",
       "        vertical-align: middle;\n",
       "    }\n",
       "\n",
       "    .dataframe tbody tr th {\n",
       "        vertical-align: top;\n",
       "    }\n",
       "\n",
       "    .dataframe thead th {\n",
       "        text-align: right;\n",
       "    }\n",
       "</style>\n",
       "<table border=\"1\" class=\"dataframe\">\n",
       "  <thead>\n",
       "    <tr style=\"text-align: right;\">\n",
       "      <th></th>\n",
       "      <th>index</th>\n",
       "      <th>updated_at</th>\n",
       "      <th>buyer_uid</th>\n",
       "      <th>seller_uid</th>\n",
       "      <th>total_price</th>\n",
       "      <th>uid</th>\n",
       "      <th>black_source</th>\n",
       "    </tr>\n",
       "  </thead>\n",
       "  <tbody>\n",
       "    <tr>\n",
       "      <th>11179561</th>\n",
       "      <td>90146</td>\n",
       "      <td>2019-01-25 20:32:45</td>\n",
       "      <td>4161761</td>\n",
       "      <td>4414597</td>\n",
       "      <td>148170</td>\n",
       "      <td>4414597</td>\n",
       "      <td>help</td>\n",
       "    </tr>\n",
       "    <tr>\n",
       "      <th>11179562</th>\n",
       "      <td>90147</td>\n",
       "      <td>2019-02-01 20:31:30</td>\n",
       "      <td>603779</td>\n",
       "      <td>5071323</td>\n",
       "      <td>31450</td>\n",
       "      <td>NaN</td>\n",
       "      <td>NaN</td>\n",
       "    </tr>\n",
       "    <tr>\n",
       "      <th>11179563</th>\n",
       "      <td>90148</td>\n",
       "      <td>2019-01-25 20:32:45</td>\n",
       "      <td>8069149</td>\n",
       "      <td>7742258</td>\n",
       "      <td>47350</td>\n",
       "      <td>NaN</td>\n",
       "      <td>NaN</td>\n",
       "    </tr>\n",
       "    <tr>\n",
       "      <th>11179564</th>\n",
       "      <td>90149</td>\n",
       "      <td>2019-01-25 20:32:45</td>\n",
       "      <td>31040</td>\n",
       "      <td>2459314</td>\n",
       "      <td>143100</td>\n",
       "      <td>NaN</td>\n",
       "      <td>NaN</td>\n",
       "    </tr>\n",
       "    <tr>\n",
       "      <th>11179565</th>\n",
       "      <td>90150</td>\n",
       "      <td>2019-01-25 20:32:45</td>\n",
       "      <td>7526483</td>\n",
       "      <td>7566393</td>\n",
       "      <td>2576000</td>\n",
       "      <td>NaN</td>\n",
       "      <td>NaN</td>\n",
       "    </tr>\n",
       "  </tbody>\n",
       "</table>\n",
       "</div>"
      ],
      "text/plain": [
       "          index           updated_at  buyer_uid seller_uid  total_price  \\\n",
       "11179561  90146  2019-01-25 20:32:45    4161761    4414597       148170   \n",
       "11179562  90147  2019-02-01 20:31:30     603779    5071323        31450   \n",
       "11179563  90148  2019-01-25 20:32:45    8069149    7742258        47350   \n",
       "11179564  90149  2019-01-25 20:32:45      31040    2459314       143100   \n",
       "11179565  90150  2019-01-25 20:32:45    7526483    7566393      2576000   \n",
       "\n",
       "              uid black_source  \n",
       "11179561  4414597         help  \n",
       "11179562      NaN          NaN  \n",
       "11179563      NaN          NaN  \n",
       "11179564      NaN          NaN  \n",
       "11179565      NaN          NaN  "
      ]
     },
     "execution_count": 24,
     "metadata": {},
     "output_type": "execute_result"
    }
   ],
   "source": [
    "transaction_black = pd.merge(transaction, fraud_uid[['uid', 'black_source']], \n",
    "                             left_on=['seller_uid'], right_on=['uid'], how='left')\n",
    "\n",
    "transaction_black.tail()"
   ]
  },
  {
   "cell_type": "code",
   "execution_count": null,
   "metadata": {},
   "outputs": [],
   "source": []
  },
  {
   "cell_type": "code",
   "execution_count": null,
   "metadata": {},
   "outputs": [],
   "source": []
  },
  {
   "cell_type": "code",
   "execution_count": 199,
   "metadata": {},
   "outputs": [
    {
     "data": {
      "text/html": [
       "<div>\n",
       "<style scoped>\n",
       "    .dataframe tbody tr th:only-of-type {\n",
       "        vertical-align: middle;\n",
       "    }\n",
       "\n",
       "    .dataframe tbody tr th {\n",
       "        vertical-align: top;\n",
       "    }\n",
       "\n",
       "    .dataframe thead th {\n",
       "        text-align: right;\n",
       "    }\n",
       "</style>\n",
       "<table border=\"1\" class=\"dataframe\">\n",
       "  <thead>\n",
       "    <tr style=\"text-align: right;\">\n",
       "      <th></th>\n",
       "      <th>category</th>\n",
       "      <th>name</th>\n",
       "    </tr>\n",
       "  </thead>\n",
       "  <tbody>\n",
       "    <tr>\n",
       "      <th>1219</th>\n",
       "      <td>240060020</td>\n",
       "      <td>프로그래머</td>\n",
       "    </tr>\n",
       "    <tr>\n",
       "      <th>1220</th>\n",
       "      <td>240070040</td>\n",
       "      <td>설문조사</td>\n",
       "    </tr>\n",
       "    <tr>\n",
       "      <th>1221</th>\n",
       "      <td>240080060</td>\n",
       "      <td>유아유치원</td>\n",
       "    </tr>\n",
       "    <tr>\n",
       "      <th>1222</th>\n",
       "      <td>240100010</td>\n",
       "      <td>매장관리</td>\n",
       "    </tr>\n",
       "    <tr>\n",
       "      <th>1223</th>\n",
       "      <td>240100090</td>\n",
       "      <td>기타 업종</td>\n",
       "    </tr>\n",
       "  </tbody>\n",
       "</table>\n",
       "</div>"
      ],
      "text/plain": [
       "       category   name\n",
       "1219  240060020  프로그래머\n",
       "1220  240070040   설문조사\n",
       "1221  240080060  유아유치원\n",
       "1222  240100010   매장관리\n",
       "1223  240100090  기타 업종"
      ]
     },
     "execution_count": 199,
     "metadata": {},
     "output_type": "execute_result"
    }
   ],
   "source": [
    "# 카테고리\n",
    "\n",
    "read_path = '../csv/categories.csv'\n",
    "df_category = pd.read_csv(read_path)\n",
    "\n",
    "df_category['category'] = df_category['category'].astype(str)\n",
    "\n",
    "df_category = df_category[['category', 'name']]\n",
    "\n",
    "df_category.tail()"
   ]
  },
  {
   "cell_type": "code",
   "execution_count": null,
   "metadata": {},
   "outputs": [],
   "source": []
  },
  {
   "cell_type": "markdown",
   "metadata": {},
   "source": [
    "### 전체 번프 대비 사기 유형별 금액, 건 수 비율"
   ]
  },
  {
   "cell_type": "code",
   "execution_count": 212,
   "metadata": {},
   "outputs": [],
   "source": [
    "bunp_raw['category_3'] = bunp_raw['category'].astype(str).str[:3]"
   ]
  },
  {
   "cell_type": "code",
   "execution_count": 213,
   "metadata": {},
   "outputs": [
    {
     "data": {
      "text/html": [
       "<div>\n",
       "<style scoped>\n",
       "    .dataframe tbody tr th:only-of-type {\n",
       "        vertical-align: middle;\n",
       "    }\n",
       "\n",
       "    .dataframe tbody tr th {\n",
       "        vertical-align: top;\n",
       "    }\n",
       "\n",
       "    .dataframe thead th {\n",
       "        text-align: right;\n",
       "    }\n",
       "</style>\n",
       "<table border=\"1\" class=\"dataframe\">\n",
       "  <thead>\n",
       "    <tr style=\"text-align: right;\">\n",
       "      <th></th>\n",
       "      <th>updated_at</th>\n",
       "      <th>category_x</th>\n",
       "      <th>buyer_uid</th>\n",
       "      <th>seller_uid</th>\n",
       "      <th>total_price</th>\n",
       "      <th>category_3</th>\n",
       "      <th>help</th>\n",
       "      <th>block</th>\n",
       "      <th>block_by_operation</th>\n",
       "      <th>black_source</th>\n",
       "      <th>category_y</th>\n",
       "      <th>name</th>\n",
       "      <th>month_at</th>\n",
       "    </tr>\n",
       "  </thead>\n",
       "  <tbody>\n",
       "    <tr>\n",
       "      <th>11088665</th>\n",
       "      <td>2019-07-02 09:22:43</td>\n",
       "      <td>600700002</td>\n",
       "      <td>428300</td>\n",
       "      <td>9139471</td>\n",
       "      <td>20000</td>\n",
       "      <td>600</td>\n",
       "      <td>0.0</td>\n",
       "      <td>0.0</td>\n",
       "      <td>0.0</td>\n",
       "      <td>0</td>\n",
       "      <td>600</td>\n",
       "      <td>디지털/가전</td>\n",
       "      <td>2019-07</td>\n",
       "    </tr>\n",
       "    <tr>\n",
       "      <th>11088666</th>\n",
       "      <td>2019-07-02 10:07:24</td>\n",
       "      <td>900220999</td>\n",
       "      <td>4583984</td>\n",
       "      <td>3727301</td>\n",
       "      <td>24000</td>\n",
       "      <td>900</td>\n",
       "      <td>0.0</td>\n",
       "      <td>0.0</td>\n",
       "      <td>0.0</td>\n",
       "      <td>0</td>\n",
       "      <td>900</td>\n",
       "      <td>도서/티켓/취미/애완</td>\n",
       "      <td>2019-07</td>\n",
       "    </tr>\n",
       "    <tr>\n",
       "      <th>11088667</th>\n",
       "      <td>2019-07-02 11:42:04</td>\n",
       "      <td>700100100</td>\n",
       "      <td>9303879</td>\n",
       "      <td>5499956</td>\n",
       "      <td>80000</td>\n",
       "      <td>700</td>\n",
       "      <td>0.0</td>\n",
       "      <td>0.0</td>\n",
       "      <td>0.0</td>\n",
       "      <td>0</td>\n",
       "      <td>700</td>\n",
       "      <td>스포츠/레저</td>\n",
       "      <td>2019-07</td>\n",
       "    </tr>\n",
       "    <tr>\n",
       "      <th>11088668</th>\n",
       "      <td>2019-07-02 13:10:52</td>\n",
       "      <td>400010100</td>\n",
       "      <td>8693877</td>\n",
       "      <td>5293606</td>\n",
       "      <td>38000</td>\n",
       "      <td>400</td>\n",
       "      <td>1.0</td>\n",
       "      <td>0.0</td>\n",
       "      <td>0.0</td>\n",
       "      <td>help</td>\n",
       "      <td>400</td>\n",
       "      <td>패션잡화</td>\n",
       "      <td>2019-07</td>\n",
       "    </tr>\n",
       "    <tr>\n",
       "      <th>11088669</th>\n",
       "      <td>2019-07-02 13:15:25</td>\n",
       "      <td>600700999</td>\n",
       "      <td>5696564</td>\n",
       "      <td>9138584</td>\n",
       "      <td>70000</td>\n",
       "      <td>600</td>\n",
       "      <td>1.0</td>\n",
       "      <td>1.0</td>\n",
       "      <td>0.0</td>\n",
       "      <td>help&amp;block</td>\n",
       "      <td>600</td>\n",
       "      <td>디지털/가전</td>\n",
       "      <td>2019-07</td>\n",
       "    </tr>\n",
       "  </tbody>\n",
       "</table>\n",
       "</div>"
      ],
      "text/plain": [
       "                   updated_at category_x  buyer_uid seller_uid  total_price  \\\n",
       "11088665  2019-07-02 09:22:43  600700002     428300    9139471        20000   \n",
       "11088666  2019-07-02 10:07:24  900220999    4583984    3727301        24000   \n",
       "11088667  2019-07-02 11:42:04  700100100    9303879    5499956        80000   \n",
       "11088668  2019-07-02 13:10:52  400010100    8693877    5293606        38000   \n",
       "11088669  2019-07-02 13:15:25  600700999    5696564    9138584        70000   \n",
       "\n",
       "         category_3  help  block  block_by_operation black_source category_y  \\\n",
       "11088665        600   0.0    0.0                 0.0            0        600   \n",
       "11088666        900   0.0    0.0                 0.0            0        900   \n",
       "11088667        700   0.0    0.0                 0.0            0        700   \n",
       "11088668        400   1.0    0.0                 0.0         help        400   \n",
       "11088669        600   1.0    1.0                 0.0   help&block        600   \n",
       "\n",
       "                 name month_at  \n",
       "11088665       디지털/가전  2019-07  \n",
       "11088666  도서/티켓/취미/애완  2019-07  \n",
       "11088667       스포츠/레저  2019-07  \n",
       "11088668         패션잡화  2019-07  \n",
       "11088669       디지털/가전  2019-07  "
      ]
     },
     "execution_count": 213,
     "metadata": {},
     "output_type": "execute_result"
    }
   ],
   "source": [
    "bunp_raw['seller_uid'] = bunp_raw['seller_uid'].astype(str)\n",
    "\n",
    "bunp_fraud_1 = pd.merge(bunp_raw, fraud_uid, \n",
    "                             left_on=['seller_uid'], right_on=['uid'], how='left')\n",
    "\n",
    "bunp_fraud_1['category'] = bunp_fraud_1['category'].astype(str)\n",
    "\n",
    "bunp_fraud = pd.merge(bunp_fraud_1, df_category, left_on='category_3', right_on='category', how='left')\n",
    "\n",
    "bunp_fraud = bunp_fraud.fillna(0).drop(['uid'], axis=1)\n",
    "\n",
    "bunp_fraud['month_at'] = bunp_fraud['updated_at'].astype(str).str[:7]\n",
    "\n",
    "bunp_fraud.tail()"
   ]
  },
  {
   "cell_type": "code",
   "execution_count": 214,
   "metadata": {},
   "outputs": [
    {
     "data": {
      "text/html": [
       "<div>\n",
       "<style scoped>\n",
       "    .dataframe tbody tr th:only-of-type {\n",
       "        vertical-align: middle;\n",
       "    }\n",
       "\n",
       "    .dataframe tbody tr th {\n",
       "        vertical-align: top;\n",
       "    }\n",
       "\n",
       "    .dataframe thead th {\n",
       "        text-align: right;\n",
       "    }\n",
       "</style>\n",
       "<table border=\"1\" class=\"dataframe\">\n",
       "  <thead>\n",
       "    <tr style=\"text-align: right;\">\n",
       "      <th></th>\n",
       "      <th>month_at</th>\n",
       "      <th>name</th>\n",
       "      <th>black_source</th>\n",
       "      <th>total_price</th>\n",
       "      <th>updated_at</th>\n",
       "    </tr>\n",
       "  </thead>\n",
       "  <tbody>\n",
       "    <tr>\n",
       "      <th>3481</th>\n",
       "      <td>2019-07</td>\n",
       "      <td>패션잡화</td>\n",
       "      <td>help</td>\n",
       "      <td>54521212</td>\n",
       "      <td>564</td>\n",
       "    </tr>\n",
       "    <tr>\n",
       "      <th>3482</th>\n",
       "      <td>2019-07</td>\n",
       "      <td>패션잡화</td>\n",
       "      <td>help&amp;block</td>\n",
       "      <td>3746500</td>\n",
       "      <td>19</td>\n",
       "    </tr>\n",
       "    <tr>\n",
       "      <th>3483</th>\n",
       "      <td>2019-07</td>\n",
       "      <td>패션잡화</td>\n",
       "      <td>help&amp;block&amp;operation</td>\n",
       "      <td>97000</td>\n",
       "      <td>4</td>\n",
       "    </tr>\n",
       "    <tr>\n",
       "      <th>3484</th>\n",
       "      <td>2019-07</td>\n",
       "      <td>패션잡화</td>\n",
       "      <td>help&amp;operation</td>\n",
       "      <td>712504</td>\n",
       "      <td>11</td>\n",
       "    </tr>\n",
       "    <tr>\n",
       "      <th>3485</th>\n",
       "      <td>2019-07</td>\n",
       "      <td>패션잡화</td>\n",
       "      <td>operation</td>\n",
       "      <td>50000</td>\n",
       "      <td>1</td>\n",
       "    </tr>\n",
       "  </tbody>\n",
       "</table>\n",
       "</div>"
      ],
      "text/plain": [
       "     month_at  name          black_source  total_price  updated_at\n",
       "3481  2019-07  패션잡화                  help     54521212         564\n",
       "3482  2019-07  패션잡화            help&block      3746500          19\n",
       "3483  2019-07  패션잡화  help&block&operation        97000           4\n",
       "3484  2019-07  패션잡화        help&operation       712504          11\n",
       "3485  2019-07  패션잡화             operation        50000           1"
      ]
     },
     "execution_count": 214,
     "metadata": {},
     "output_type": "execute_result"
    }
   ],
   "source": [
    "bunp_fraud_agg = bunp_fraud.groupby(['month_at', 'name','black_source'], as_index=False).agg({'total_price': 'sum', 'updated_at': 'count'})\n",
    "\n",
    "# save\n",
    "save_path = '../csv/tmp/bunp_fraud_agg.csv'\n",
    "bunp_fraud_agg.to_csv(save_path, index=False, mode='w', header=True)\n",
    "\n",
    "bunp_fraud_agg.tail()"
   ]
  },
  {
   "cell_type": "code",
   "execution_count": null,
   "metadata": {},
   "outputs": [],
   "source": []
  },
  {
   "cell_type": "markdown",
   "metadata": {},
   "source": [
    "## black user와 white user의 이름 변경 횟수 T-Test"
   ]
  },
  {
   "cell_type": "code",
   "execution_count": 135,
   "metadata": {},
   "outputs": [
    {
     "data": {
      "text/html": [
       "<div>\n",
       "<style scoped>\n",
       "    .dataframe tbody tr th:only-of-type {\n",
       "        vertical-align: middle;\n",
       "    }\n",
       "\n",
       "    .dataframe tbody tr th {\n",
       "        vertical-align: top;\n",
       "    }\n",
       "\n",
       "    .dataframe thead th {\n",
       "        text-align: right;\n",
       "    }\n",
       "</style>\n",
       "<table border=\"1\" class=\"dataframe\">\n",
       "  <thead>\n",
       "    <tr style=\"text-align: right;\">\n",
       "      <th></th>\n",
       "      <th>date</th>\n",
       "      <th>uid</th>\n",
       "    </tr>\n",
       "  </thead>\n",
       "  <tbody>\n",
       "    <tr>\n",
       "      <th>5823231</th>\n",
       "      <td>2019-07-04 10:53:31</td>\n",
       "      <td>9314176</td>\n",
       "    </tr>\n",
       "    <tr>\n",
       "      <th>5823232</th>\n",
       "      <td>2019-07-04 10:53:40</td>\n",
       "      <td>6263122</td>\n",
       "    </tr>\n",
       "    <tr>\n",
       "      <th>5823233</th>\n",
       "      <td>2019-07-04 10:53:44</td>\n",
       "      <td>6590985</td>\n",
       "    </tr>\n",
       "    <tr>\n",
       "      <th>5823234</th>\n",
       "      <td>2019-07-04 10:54:22</td>\n",
       "      <td>9325264</td>\n",
       "    </tr>\n",
       "    <tr>\n",
       "      <th>5823235</th>\n",
       "      <td>2019-07-04 10:54:29</td>\n",
       "      <td>3305677</td>\n",
       "    </tr>\n",
       "  </tbody>\n",
       "</table>\n",
       "</div>"
      ],
      "text/plain": [
       "                        date      uid\n",
       "5823231  2019-07-04 10:53:31  9314176\n",
       "5823232  2019-07-04 10:53:40  6263122\n",
       "5823233  2019-07-04 10:53:44  6590985\n",
       "5823234  2019-07-04 10:54:22  9325264\n",
       "5823235  2019-07-04 10:54:29  3305677"
      ]
     },
     "execution_count": 135,
     "metadata": {},
     "output_type": "execute_result"
    }
   ],
   "source": [
    "read_path = '../csv/changed_name_raw.csv'\n",
    "fraud_name_raw = pd.read_csv(read_path)\n",
    "\n",
    "fraud_name_raw.tail()"
   ]
  },
  {
   "cell_type": "code",
   "execution_count": 136,
   "metadata": {},
   "outputs": [
    {
     "data": {
      "text/html": [
       "<div>\n",
       "<style scoped>\n",
       "    .dataframe tbody tr th:only-of-type {\n",
       "        vertical-align: middle;\n",
       "    }\n",
       "\n",
       "    .dataframe tbody tr th {\n",
       "        vertical-align: top;\n",
       "    }\n",
       "\n",
       "    .dataframe thead th {\n",
       "        text-align: right;\n",
       "    }\n",
       "</style>\n",
       "<table border=\"1\" class=\"dataframe\">\n",
       "  <thead>\n",
       "    <tr style=\"text-align: right;\">\n",
       "      <th></th>\n",
       "      <th>uid</th>\n",
       "      <th>changed</th>\n",
       "    </tr>\n",
       "  </thead>\n",
       "  <tbody>\n",
       "    <tr>\n",
       "      <th>4099311</th>\n",
       "      <td>9325552</td>\n",
       "      <td>1</td>\n",
       "    </tr>\n",
       "    <tr>\n",
       "      <th>4099312</th>\n",
       "      <td>9325572</td>\n",
       "      <td>1</td>\n",
       "    </tr>\n",
       "    <tr>\n",
       "      <th>4099313</th>\n",
       "      <td>9325578</td>\n",
       "      <td>1</td>\n",
       "    </tr>\n",
       "    <tr>\n",
       "      <th>4099314</th>\n",
       "      <td>9325579</td>\n",
       "      <td>1</td>\n",
       "    </tr>\n",
       "    <tr>\n",
       "      <th>4099315</th>\n",
       "      <td>9325602</td>\n",
       "      <td>1</td>\n",
       "    </tr>\n",
       "  </tbody>\n",
       "</table>\n",
       "</div>"
      ],
      "text/plain": [
       "             uid  changed\n",
       "4099311  9325552        1\n",
       "4099312  9325572        1\n",
       "4099313  9325578        1\n",
       "4099314  9325579        1\n",
       "4099315  9325602        1"
      ]
     },
     "execution_count": 136,
     "metadata": {},
     "output_type": "execute_result"
    }
   ],
   "source": [
    "fraud_name = fraud_name_raw.groupby(['uid'], as_index=False).agg({'date': 'count'})\n",
    "\n",
    "fraud_name = fraud_name.rename(columns={'date': 'changed'})\n",
    "fraud_name['uid'] = fraud_name['uid'].astype(str)\n",
    "\n",
    "fraud_name.tail()"
   ]
  },
  {
   "cell_type": "code",
   "execution_count": 137,
   "metadata": {},
   "outputs": [
    {
     "data": {
      "text/html": [
       "<div>\n",
       "<style scoped>\n",
       "    .dataframe tbody tr th:only-of-type {\n",
       "        vertical-align: middle;\n",
       "    }\n",
       "\n",
       "    .dataframe tbody tr th {\n",
       "        vertical-align: top;\n",
       "    }\n",
       "\n",
       "    .dataframe thead th {\n",
       "        text-align: right;\n",
       "    }\n",
       "</style>\n",
       "<table border=\"1\" class=\"dataframe\">\n",
       "  <thead>\n",
       "    <tr style=\"text-align: right;\">\n",
       "      <th></th>\n",
       "      <th>uid</th>\n",
       "      <th>changed</th>\n",
       "      <th>help</th>\n",
       "      <th>block</th>\n",
       "      <th>block_by_operation</th>\n",
       "    </tr>\n",
       "  </thead>\n",
       "  <tbody>\n",
       "    <tr>\n",
       "      <th>4102893</th>\n",
       "      <td>9325552</td>\n",
       "      <td>1</td>\n",
       "      <td>0.0</td>\n",
       "      <td>0.0</td>\n",
       "      <td>0.0</td>\n",
       "    </tr>\n",
       "    <tr>\n",
       "      <th>4102894</th>\n",
       "      <td>9325572</td>\n",
       "      <td>1</td>\n",
       "      <td>0.0</td>\n",
       "      <td>0.0</td>\n",
       "      <td>0.0</td>\n",
       "    </tr>\n",
       "    <tr>\n",
       "      <th>4102895</th>\n",
       "      <td>9325578</td>\n",
       "      <td>1</td>\n",
       "      <td>0.0</td>\n",
       "      <td>0.0</td>\n",
       "      <td>0.0</td>\n",
       "    </tr>\n",
       "    <tr>\n",
       "      <th>4102896</th>\n",
       "      <td>9325579</td>\n",
       "      <td>1</td>\n",
       "      <td>0.0</td>\n",
       "      <td>0.0</td>\n",
       "      <td>0.0</td>\n",
       "    </tr>\n",
       "    <tr>\n",
       "      <th>4102897</th>\n",
       "      <td>9325602</td>\n",
       "      <td>1</td>\n",
       "      <td>0.0</td>\n",
       "      <td>0.0</td>\n",
       "      <td>0.0</td>\n",
       "    </tr>\n",
       "  </tbody>\n",
       "</table>\n",
       "</div>"
      ],
      "text/plain": [
       "             uid  changed  help  block  block_by_operation\n",
       "4102893  9325552        1   0.0    0.0                 0.0\n",
       "4102894  9325572        1   0.0    0.0                 0.0\n",
       "4102895  9325578        1   0.0    0.0                 0.0\n",
       "4102896  9325579        1   0.0    0.0                 0.0\n",
       "4102897  9325602        1   0.0    0.0                 0.0"
      ]
     },
     "execution_count": 137,
     "metadata": {},
     "output_type": "execute_result"
    }
   ],
   "source": [
    "fraud_name_uid = pd.merge(fraud_name, fraud_uid, on=['uid'], how='left')\n",
    "\n",
    "fraud_name_uid = fraud_name_uid.drop(['black_source'], axis=1).fillna(0)\n",
    "\n",
    "fraud_name_uid.tail()"
   ]
  },
  {
   "cell_type": "markdown",
   "metadata": {},
   "source": [
    "### help, 상담센터 신고된 유저"
   ]
  },
  {
   "cell_type": "code",
   "execution_count": 143,
   "metadata": {},
   "outputs": [],
   "source": [
    "fraud_name_uid_normal = fraud_name_uid[fraud_name_uid['help'] == 0]\n",
    "fraud_name_uid_black = fraud_name_uid[fraud_name_uid['help'] == 1]"
   ]
  },
  {
   "cell_type": "code",
   "execution_count": 144,
   "metadata": {},
   "outputs": [
    {
     "data": {
      "text/plain": [
       "(20023475, 491015)"
      ]
     },
     "execution_count": 144,
     "metadata": {},
     "output_type": "execute_result"
    }
   ],
   "source": [
    "# 샘플 수 비교\n",
    "np.size(fraud_name_uid_normal), np.size(fraud_name_uid_black)"
   ]
  },
  {
   "cell_type": "code",
   "execution_count": 145,
   "metadata": {},
   "outputs": [
    {
     "data": {
      "text/plain": [
       "(1.3953222405201895, 2.4676741036424548)"
      ]
     },
     "execution_count": 145,
     "metadata": {},
     "output_type": "execute_result"
    }
   ],
   "source": [
    "# 평균 비교\n",
    "np.mean(fraud_name_uid_normal['changed']), np.mean(fraud_name_uid_black['changed'])"
   ]
  },
  {
   "cell_type": "code",
   "execution_count": 146,
   "metadata": {},
   "outputs": [
    {
     "data": {
      "text/plain": [
       "LeveneResult(statistic=66415.25057459572, pvalue=0.0)"
      ]
     },
     "execution_count": 146,
     "metadata": {},
     "output_type": "execute_result"
    }
   ],
   "source": [
    "# 등분산 검정\n",
    "leveneTest = stats.levene(fraud_name_uid_normal['changed'], fraud_name_uid_black['changed'])\n",
    "\n",
    "leveneTest"
   ]
  },
  {
   "cell_type": "code",
   "execution_count": 147,
   "metadata": {},
   "outputs": [
    {
     "data": {
      "text/plain": [
       "Ttest_indResult(statistic=-124.22846763126933, pvalue=0.0)"
      ]
     },
     "execution_count": 147,
     "metadata": {},
     "output_type": "execute_result"
    }
   ],
   "source": [
    "tTestResultName = stats.ttest_ind(fraud_name_uid_normal['changed'], fraud_name_uid_black['changed'], equal_var=False)\n",
    "\n",
    "tTestResultName"
   ]
  },
  {
   "cell_type": "markdown",
   "metadata": {},
   "source": [
    "### block, 영구 제재된 유저"
   ]
  },
  {
   "cell_type": "code",
   "execution_count": 148,
   "metadata": {},
   "outputs": [],
   "source": [
    "fraud_name_uid_normal = fraud_name_uid[fraud_name_uid['block'] == 0]\n",
    "fraud_name_uid_black = fraud_name_uid[fraud_name_uid['block'] == 1]"
   ]
  },
  {
   "cell_type": "code",
   "execution_count": 149,
   "metadata": {},
   "outputs": [
    {
     "data": {
      "text/plain": [
       "(19938910, 575580)"
      ]
     },
     "execution_count": 149,
     "metadata": {},
     "output_type": "execute_result"
    }
   ],
   "source": [
    "# 샘플 수 비교\n",
    "np.size(fraud_name_uid_normal), np.size(fraud_name_uid_black)"
   ]
  },
  {
   "cell_type": "code",
   "execution_count": 150,
   "metadata": {},
   "outputs": [
    {
     "data": {
      "text/plain": [
       "(1.4122504690577369, 1.723704784738872)"
      ]
     },
     "execution_count": 150,
     "metadata": {},
     "output_type": "execute_result"
    }
   ],
   "source": [
    "# 평균 비교\n",
    "np.mean(fraud_name_uid_normal['changed']), np.mean(fraud_name_uid_black['changed'])"
   ]
  },
  {
   "cell_type": "code",
   "execution_count": 151,
   "metadata": {},
   "outputs": [
    {
     "data": {
      "text/plain": [
       "LeveneResult(statistic=6905.673826670213, pvalue=0.0)"
      ]
     },
     "execution_count": 151,
     "metadata": {},
     "output_type": "execute_result"
    }
   ],
   "source": [
    "# 등분산 검정\n",
    "leveneTest = stats.levene(fraud_name_uid_normal['changed'], fraud_name_uid_black['changed'])\n",
    "\n",
    "leveneTest"
   ]
  },
  {
   "cell_type": "code",
   "execution_count": 152,
   "metadata": {},
   "outputs": [
    {
     "data": {
      "text/plain": [
       "Ttest_indResult(statistic=-64.18757007264328, pvalue=0.0)"
      ]
     },
     "execution_count": 152,
     "metadata": {},
     "output_type": "execute_result"
    }
   ],
   "source": [
    "tTestResultName = stats.ttest_ind(fraud_name_uid_normal['changed'], fraud_name_uid_black['changed'], equal_var=False)\n",
    "\n",
    "tTestResultName"
   ]
  },
  {
   "cell_type": "markdown",
   "metadata": {},
   "source": [
    "### operation, 운영팀에서 처리한 유저"
   ]
  },
  {
   "cell_type": "code",
   "execution_count": 153,
   "metadata": {},
   "outputs": [],
   "source": [
    "fraud_name_uid_normal = fraud_name_uid[fraud_name_uid['block_by_operation'] == 0]\n",
    "fraud_name_uid_black = fraud_name_uid[fraud_name_uid['block_by_operation'] == 1]"
   ]
  },
  {
   "cell_type": "code",
   "execution_count": 154,
   "metadata": {},
   "outputs": [
    {
     "data": {
      "text/plain": [
       "(20440575, 73915)"
      ]
     },
     "execution_count": 154,
     "metadata": {},
     "output_type": "execute_result"
    }
   ],
   "source": [
    "# 샘플 수 비교\n",
    "np.size(fraud_name_uid_normal), np.size(fraud_name_uid_black)"
   ]
  },
  {
   "cell_type": "code",
   "execution_count": 155,
   "metadata": {},
   "outputs": [
    {
     "data": {
      "text/plain": [
       "(1.4194603136164223, 1.8437394304268417)"
      ]
     },
     "execution_count": 155,
     "metadata": {},
     "output_type": "execute_result"
    }
   ],
   "source": [
    "# 평균 비교\n",
    "np.mean(fraud_name_uid_normal['changed']), np.mean(fraud_name_uid_black['changed'])"
   ]
  },
  {
   "cell_type": "code",
   "execution_count": 156,
   "metadata": {},
   "outputs": [
    {
     "data": {
      "text/plain": [
       "LeveneResult(statistic=1684.9507456741444, pvalue=0.0)"
      ]
     },
     "execution_count": 156,
     "metadata": {},
     "output_type": "execute_result"
    }
   ],
   "source": [
    "# 등분산 검정\n",
    "leveneTest = stats.levene(fraud_name_uid_normal['changed'], fraud_name_uid_black['changed'])\n",
    "\n",
    "leveneTest"
   ]
  },
  {
   "cell_type": "code",
   "execution_count": 157,
   "metadata": {},
   "outputs": [
    {
     "data": {
      "text/plain": [
       "Ttest_indResult(statistic=-28.38320412831144, pvalue=1.2879771204519969e-172)"
      ]
     },
     "execution_count": 157,
     "metadata": {},
     "output_type": "execute_result"
    }
   ],
   "source": [
    "tTestResultName = stats.ttest_ind(fraud_name_uid_normal['changed'], fraud_name_uid_black['changed'], equal_var=False)\n",
    "\n",
    "tTestResultName"
   ]
  },
  {
   "cell_type": "code",
   "execution_count": null,
   "metadata": {},
   "outputs": [],
   "source": []
  },
  {
   "cell_type": "markdown",
   "metadata": {},
   "source": [
    "## black user와 white user의 휴대폰 변경 횟수 T-Test"
   ]
  },
  {
   "cell_type": "code",
   "execution_count": 158,
   "metadata": {},
   "outputs": [
    {
     "data": {
      "text/html": [
       "<div>\n",
       "<style scoped>\n",
       "    .dataframe tbody tr th:only-of-type {\n",
       "        vertical-align: middle;\n",
       "    }\n",
       "\n",
       "    .dataframe tbody tr th {\n",
       "        vertical-align: top;\n",
       "    }\n",
       "\n",
       "    .dataframe thead th {\n",
       "        text-align: right;\n",
       "    }\n",
       "</style>\n",
       "<table border=\"1\" class=\"dataframe\">\n",
       "  <thead>\n",
       "    <tr style=\"text-align: right;\">\n",
       "      <th></th>\n",
       "      <th>date</th>\n",
       "      <th>uid</th>\n",
       "    </tr>\n",
       "  </thead>\n",
       "  <tbody>\n",
       "    <tr>\n",
       "      <th>434520</th>\n",
       "      <td>2019-07-04 11:54:52</td>\n",
       "      <td>5000124</td>\n",
       "    </tr>\n",
       "    <tr>\n",
       "      <th>434521</th>\n",
       "      <td>2019-07-04 11:59:15</td>\n",
       "      <td>9245231</td>\n",
       "    </tr>\n",
       "    <tr>\n",
       "      <th>434522</th>\n",
       "      <td>2019-07-04 11:59:15</td>\n",
       "      <td>7375046</td>\n",
       "    </tr>\n",
       "    <tr>\n",
       "      <th>434523</th>\n",
       "      <td>2019-07-04 11:59:45</td>\n",
       "      <td>9325895</td>\n",
       "    </tr>\n",
       "    <tr>\n",
       "      <th>434524</th>\n",
       "      <td>2019-07-04 11:59:45</td>\n",
       "      <td>5000124</td>\n",
       "    </tr>\n",
       "  </tbody>\n",
       "</table>\n",
       "</div>"
      ],
      "text/plain": [
       "                       date      uid\n",
       "434520  2019-07-04 11:54:52  5000124\n",
       "434521  2019-07-04 11:59:15  9245231\n",
       "434522  2019-07-04 11:59:15  7375046\n",
       "434523  2019-07-04 11:59:45  9325895\n",
       "434524  2019-07-04 11:59:45  5000124"
      ]
     },
     "execution_count": 158,
     "metadata": {},
     "output_type": "execute_result"
    }
   ],
   "source": [
    "read_path = '../csv/changed_phone_raw.csv'\n",
    "fraud_phone_raw = pd.read_csv(read_path)\n",
    "\n",
    "fraud_phone_raw.tail()"
   ]
  },
  {
   "cell_type": "code",
   "execution_count": 159,
   "metadata": {},
   "outputs": [
    {
     "data": {
      "text/html": [
       "<div>\n",
       "<style scoped>\n",
       "    .dataframe tbody tr th:only-of-type {\n",
       "        vertical-align: middle;\n",
       "    }\n",
       "\n",
       "    .dataframe tbody tr th {\n",
       "        vertical-align: top;\n",
       "    }\n",
       "\n",
       "    .dataframe thead th {\n",
       "        text-align: right;\n",
       "    }\n",
       "</style>\n",
       "<table border=\"1\" class=\"dataframe\">\n",
       "  <thead>\n",
       "    <tr style=\"text-align: right;\">\n",
       "      <th></th>\n",
       "      <th>uid</th>\n",
       "      <th>changed</th>\n",
       "    </tr>\n",
       "  </thead>\n",
       "  <tbody>\n",
       "    <tr>\n",
       "      <th>351970</th>\n",
       "      <td>9325547</td>\n",
       "      <td>1</td>\n",
       "    </tr>\n",
       "    <tr>\n",
       "      <th>351971</th>\n",
       "      <td>9325556</td>\n",
       "      <td>1</td>\n",
       "    </tr>\n",
       "    <tr>\n",
       "      <th>351972</th>\n",
       "      <td>9325757</td>\n",
       "      <td>1</td>\n",
       "    </tr>\n",
       "    <tr>\n",
       "      <th>351973</th>\n",
       "      <td>9325864</td>\n",
       "      <td>1</td>\n",
       "    </tr>\n",
       "    <tr>\n",
       "      <th>351974</th>\n",
       "      <td>9325895</td>\n",
       "      <td>1</td>\n",
       "    </tr>\n",
       "  </tbody>\n",
       "</table>\n",
       "</div>"
      ],
      "text/plain": [
       "            uid  changed\n",
       "351970  9325547        1\n",
       "351971  9325556        1\n",
       "351972  9325757        1\n",
       "351973  9325864        1\n",
       "351974  9325895        1"
      ]
     },
     "execution_count": 159,
     "metadata": {},
     "output_type": "execute_result"
    }
   ],
   "source": [
    "fraud_phone = fraud_phone_raw.groupby(['uid'], as_index=False).agg({'date': 'count'})\n",
    "\n",
    "fraud_phone = fraud_phone.rename(columns={'date': 'changed'})\n",
    "fraud_phone['uid'] = fraud_phone['uid'].astype(str)\n",
    "\n",
    "fraud_phone.tail()"
   ]
  },
  {
   "cell_type": "code",
   "execution_count": 160,
   "metadata": {},
   "outputs": [
    {
     "data": {
      "text/html": [
       "<div>\n",
       "<style scoped>\n",
       "    .dataframe tbody tr th:only-of-type {\n",
       "        vertical-align: middle;\n",
       "    }\n",
       "\n",
       "    .dataframe tbody tr th {\n",
       "        vertical-align: top;\n",
       "    }\n",
       "\n",
       "    .dataframe thead th {\n",
       "        text-align: right;\n",
       "    }\n",
       "</style>\n",
       "<table border=\"1\" class=\"dataframe\">\n",
       "  <thead>\n",
       "    <tr style=\"text-align: right;\">\n",
       "      <th></th>\n",
       "      <th>uid</th>\n",
       "      <th>changed</th>\n",
       "      <th>help</th>\n",
       "      <th>block</th>\n",
       "      <th>block_by_operation</th>\n",
       "    </tr>\n",
       "  </thead>\n",
       "  <tbody>\n",
       "    <tr>\n",
       "      <th>352769</th>\n",
       "      <td>9325547</td>\n",
       "      <td>1</td>\n",
       "      <td>0.0</td>\n",
       "      <td>0.0</td>\n",
       "      <td>0.0</td>\n",
       "    </tr>\n",
       "    <tr>\n",
       "      <th>352770</th>\n",
       "      <td>9325556</td>\n",
       "      <td>1</td>\n",
       "      <td>0.0</td>\n",
       "      <td>0.0</td>\n",
       "      <td>0.0</td>\n",
       "    </tr>\n",
       "    <tr>\n",
       "      <th>352771</th>\n",
       "      <td>9325757</td>\n",
       "      <td>1</td>\n",
       "      <td>0.0</td>\n",
       "      <td>0.0</td>\n",
       "      <td>0.0</td>\n",
       "    </tr>\n",
       "    <tr>\n",
       "      <th>352772</th>\n",
       "      <td>9325864</td>\n",
       "      <td>1</td>\n",
       "      <td>0.0</td>\n",
       "      <td>0.0</td>\n",
       "      <td>0.0</td>\n",
       "    </tr>\n",
       "    <tr>\n",
       "      <th>352773</th>\n",
       "      <td>9325895</td>\n",
       "      <td>1</td>\n",
       "      <td>0.0</td>\n",
       "      <td>0.0</td>\n",
       "      <td>0.0</td>\n",
       "    </tr>\n",
       "  </tbody>\n",
       "</table>\n",
       "</div>"
      ],
      "text/plain": [
       "            uid  changed  help  block  block_by_operation\n",
       "352769  9325547        1   0.0    0.0                 0.0\n",
       "352770  9325556        1   0.0    0.0                 0.0\n",
       "352771  9325757        1   0.0    0.0                 0.0\n",
       "352772  9325864        1   0.0    0.0                 0.0\n",
       "352773  9325895        1   0.0    0.0                 0.0"
      ]
     },
     "execution_count": 160,
     "metadata": {},
     "output_type": "execute_result"
    }
   ],
   "source": [
    "fraud_phone_uid = pd.merge(fraud_phone, fraud_uid, on=['uid'], how='left')\n",
    "\n",
    "fraud_phone_uid = fraud_phone_uid.drop(['black_source'], axis=1).fillna(0)\n",
    "\n",
    "fraud_phone_uid.tail()"
   ]
  },
  {
   "cell_type": "markdown",
   "metadata": {},
   "source": [
    "### help, 상담센터 신고된 유저"
   ]
  },
  {
   "cell_type": "code",
   "execution_count": 161,
   "metadata": {},
   "outputs": [],
   "source": [
    "fraud_phone_uid_normal = fraud_phone_uid[fraud_phone_uid['help'] == 0]\n",
    "fraud_phone_uid_black = fraud_phone_uid[fraud_phone_uid['help'] == 1]"
   ]
  },
  {
   "cell_type": "code",
   "execution_count": 162,
   "metadata": {},
   "outputs": [
    {
     "data": {
      "text/plain": [
       "(1671120, 92750)"
      ]
     },
     "execution_count": 162,
     "metadata": {},
     "output_type": "execute_result"
    }
   ],
   "source": [
    "# 샘플 수 비교\n",
    "np.size(fraud_phone_uid_normal), np.size(fraud_phone_uid_black)"
   ]
  },
  {
   "cell_type": "code",
   "execution_count": 163,
   "metadata": {},
   "outputs": [
    {
     "data": {
      "text/plain": [
       "(1.2197358657666715, 1.5118059299191375)"
      ]
     },
     "execution_count": 163,
     "metadata": {},
     "output_type": "execute_result"
    }
   ],
   "source": [
    "# 평균 비교\n",
    "np.mean(fraud_phone_uid_normal['changed']), np.mean(fraud_phone_uid_black['changed'])"
   ]
  },
  {
   "cell_type": "code",
   "execution_count": 164,
   "metadata": {},
   "outputs": [
    {
     "data": {
      "text/plain": [
       "LeveneResult(statistic=2796.678878461164, pvalue=0.0)"
      ]
     },
     "execution_count": 164,
     "metadata": {},
     "output_type": "execute_result"
    }
   ],
   "source": [
    "# 등분산 검정\n",
    "leveneTest = stats.levene(fraud_phone_uid_normal['changed'], fraud_phone_uid_black['changed'])\n",
    "\n",
    "leveneTest"
   ]
  },
  {
   "cell_type": "code",
   "execution_count": 165,
   "metadata": {},
   "outputs": [
    {
     "data": {
      "text/plain": [
       "Ttest_indResult(statistic=-32.85767789642815, pvalue=1.9805463786845297e-230)"
      ]
     },
     "execution_count": 165,
     "metadata": {},
     "output_type": "execute_result"
    }
   ],
   "source": [
    "tTestResultName = stats.ttest_ind(fraud_phone_uid_normal['changed'], fraud_phone_uid_black['changed'], equal_var=False)\n",
    "\n",
    "tTestResultName"
   ]
  },
  {
   "cell_type": "markdown",
   "metadata": {},
   "source": [
    "### block, 영구 제재된 유저"
   ]
  },
  {
   "cell_type": "code",
   "execution_count": 166,
   "metadata": {},
   "outputs": [],
   "source": [
    "fraud_phone_uid_normal = fraud_phone_uid[fraud_phone_uid['block'] == 0]\n",
    "fraud_phone_uid_black = fraud_phone_uid[fraud_phone_uid['block'] == 1]"
   ]
  },
  {
   "cell_type": "code",
   "execution_count": 167,
   "metadata": {},
   "outputs": [
    {
     "data": {
      "text/plain": [
       "(1672205, 91665)"
      ]
     },
     "execution_count": 167,
     "metadata": {},
     "output_type": "execute_result"
    }
   ],
   "source": [
    "# 샘플 수 비교\n",
    "np.size(fraud_phone_uid_normal), np.size(fraud_phone_uid_black)"
   ]
  },
  {
   "cell_type": "code",
   "execution_count": 168,
   "metadata": {},
   "outputs": [
    {
     "data": {
      "text/plain": [
       "(1.2256511611913612, 1.4073528609611083)"
      ]
     },
     "execution_count": 168,
     "metadata": {},
     "output_type": "execute_result"
    }
   ],
   "source": [
    "# 평균 비교\n",
    "np.mean(fraud_phone_uid_normal['changed']), np.mean(fraud_phone_uid_black['changed'])"
   ]
  },
  {
   "cell_type": "code",
   "execution_count": 169,
   "metadata": {},
   "outputs": [
    {
     "data": {
      "text/plain": [
       "LeveneResult(statistic=1065.2168015751035, pvalue=2.679807089971534e-233)"
      ]
     },
     "execution_count": 169,
     "metadata": {},
     "output_type": "execute_result"
    }
   ],
   "source": [
    "# 등분산 검정\n",
    "leveneTest = stats.levene(fraud_phone_uid_normal['changed'], fraud_phone_uid_black['changed'])\n",
    "\n",
    "leveneTest"
   ]
  },
  {
   "cell_type": "code",
   "execution_count": 170,
   "metadata": {},
   "outputs": [
    {
     "data": {
      "text/plain": [
       "Ttest_indResult(statistic=-25.131804181914454, pvalue=3.4213735343158866e-137)"
      ]
     },
     "execution_count": 170,
     "metadata": {},
     "output_type": "execute_result"
    }
   ],
   "source": [
    "tTestResultName = stats.ttest_ind(fraud_phone_uid_normal['changed'], fraud_phone_uid_black['changed'], equal_var=False)\n",
    "\n",
    "tTestResultName"
   ]
  },
  {
   "cell_type": "markdown",
   "metadata": {},
   "source": [
    "### operation, 운영팀에서 처리한 유저"
   ]
  },
  {
   "cell_type": "code",
   "execution_count": 171,
   "metadata": {},
   "outputs": [],
   "source": [
    "fraud_phone_uid_normal = fraud_phone_uid[fraud_phone_uid['block_by_operation'] == 0]\n",
    "fraud_phone_uid_black = fraud_phone_uid[fraud_phone_uid['block_by_operation'] == 1]"
   ]
  },
  {
   "cell_type": "code",
   "execution_count": 172,
   "metadata": {},
   "outputs": [
    {
     "data": {
      "text/plain": [
       "(1749280, 14590)"
      ]
     },
     "execution_count": 172,
     "metadata": {},
     "output_type": "execute_result"
    }
   ],
   "source": [
    "# 샘플 수 비교\n",
    "np.size(fraud_phone_uid_normal), np.size(fraud_phone_uid_black)"
   ]
  },
  {
   "cell_type": "code",
   "execution_count": 173,
   "metadata": {},
   "outputs": [
    {
     "data": {
      "text/plain": [
       "(1.233250251532059, 1.456134338588074)"
      ]
     },
     "execution_count": 173,
     "metadata": {},
     "output_type": "execute_result"
    }
   ],
   "source": [
    "# 평균 비교\n",
    "np.mean(fraud_phone_uid_normal['changed']), np.mean(fraud_phone_uid_black['changed'])"
   ]
  },
  {
   "cell_type": "code",
   "execution_count": 174,
   "metadata": {},
   "outputs": [
    {
     "data": {
      "text/plain": [
       "LeveneResult(statistic=266.26739445397175, pvalue=7.769769549404881e-60)"
      ]
     },
     "execution_count": 174,
     "metadata": {},
     "output_type": "execute_result"
    }
   ],
   "source": [
    "# 등분산 검정\n",
    "leveneTest = stats.levene(fraud_phone_uid_normal['changed'], fraud_phone_uid_black['changed'])\n",
    "\n",
    "leveneTest"
   ]
  },
  {
   "cell_type": "code",
   "execution_count": 175,
   "metadata": {},
   "outputs": [
    {
     "data": {
      "text/plain": [
       "Ttest_indResult(statistic=-13.002796945918348, pvalue=1.253305388759693e-37)"
      ]
     },
     "execution_count": 175,
     "metadata": {},
     "output_type": "execute_result"
    }
   ],
   "source": [
    "tTestResultName = stats.ttest_ind(fraud_phone_uid_normal['changed'], fraud_phone_uid_black['changed'], equal_var=False)\n",
    "\n",
    "tTestResultName"
   ]
  },
  {
   "cell_type": "markdown",
   "metadata": {},
   "source": [
    "## black user와 white user의 리뷰 작성 횟수 T-Test"
   ]
  },
  {
   "cell_type": "code",
   "execution_count": 176,
   "metadata": {},
   "outputs": [
    {
     "data": {
      "text/html": [
       "<div>\n",
       "<style scoped>\n",
       "    .dataframe tbody tr th:only-of-type {\n",
       "        vertical-align: middle;\n",
       "    }\n",
       "\n",
       "    .dataframe tbody tr th {\n",
       "        vertical-align: top;\n",
       "    }\n",
       "\n",
       "    .dataframe thead th {\n",
       "        text-align: right;\n",
       "    }\n",
       "</style>\n",
       "<table border=\"1\" class=\"dataframe\">\n",
       "  <thead>\n",
       "    <tr style=\"text-align: right;\">\n",
       "      <th></th>\n",
       "      <th>time</th>\n",
       "      <th>writer_uid</th>\n",
       "    </tr>\n",
       "  </thead>\n",
       "  <tbody>\n",
       "    <tr>\n",
       "      <th>5902957</th>\n",
       "      <td>2019-07-04 12:22:48</td>\n",
       "      <td>6439210</td>\n",
       "    </tr>\n",
       "    <tr>\n",
       "      <th>5902958</th>\n",
       "      <td>2019-07-04 12:23:38</td>\n",
       "      <td>4204619</td>\n",
       "    </tr>\n",
       "    <tr>\n",
       "      <th>5902959</th>\n",
       "      <td>2019-07-04 12:23:42</td>\n",
       "      <td>8994648</td>\n",
       "    </tr>\n",
       "    <tr>\n",
       "      <th>5902960</th>\n",
       "      <td>2019-07-04 12:23:47</td>\n",
       "      <td>1045672</td>\n",
       "    </tr>\n",
       "    <tr>\n",
       "      <th>5902961</th>\n",
       "      <td>2019-07-04 12:27:13</td>\n",
       "      <td>7810960</td>\n",
       "    </tr>\n",
       "  </tbody>\n",
       "</table>\n",
       "</div>"
      ],
      "text/plain": [
       "                        time  writer_uid\n",
       "5902957  2019-07-04 12:22:48     6439210\n",
       "5902958  2019-07-04 12:23:38     4204619\n",
       "5902959  2019-07-04 12:23:42     8994648\n",
       "5902960  2019-07-04 12:23:47     1045672\n",
       "5902961  2019-07-04 12:27:13     7810960"
      ]
     },
     "execution_count": 176,
     "metadata": {},
     "output_type": "execute_result"
    }
   ],
   "source": [
    "read_path = '../csv/review_writer.csv'\n",
    "fraud_review_writer_raw = pd.read_csv(read_path)\n",
    "\n",
    "fraud_review_writer_raw.tail()"
   ]
  },
  {
   "cell_type": "code",
   "execution_count": 177,
   "metadata": {},
   "outputs": [
    {
     "data": {
      "text/html": [
       "<div>\n",
       "<style scoped>\n",
       "    .dataframe tbody tr th:only-of-type {\n",
       "        vertical-align: middle;\n",
       "    }\n",
       "\n",
       "    .dataframe tbody tr th {\n",
       "        vertical-align: top;\n",
       "    }\n",
       "\n",
       "    .dataframe thead th {\n",
       "        text-align: right;\n",
       "    }\n",
       "</style>\n",
       "<table border=\"1\" class=\"dataframe\">\n",
       "  <thead>\n",
       "    <tr style=\"text-align: right;\">\n",
       "      <th></th>\n",
       "      <th>uid</th>\n",
       "      <th>writed</th>\n",
       "    </tr>\n",
       "  </thead>\n",
       "  <tbody>\n",
       "    <tr>\n",
       "      <th>1110787</th>\n",
       "      <td>9316109</td>\n",
       "      <td>1</td>\n",
       "    </tr>\n",
       "    <tr>\n",
       "      <th>1110788</th>\n",
       "      <td>9320668</td>\n",
       "      <td>1</td>\n",
       "    </tr>\n",
       "    <tr>\n",
       "      <th>1110789</th>\n",
       "      <td>9321110</td>\n",
       "      <td>1</td>\n",
       "    </tr>\n",
       "    <tr>\n",
       "      <th>1110790</th>\n",
       "      <td>9321727</td>\n",
       "      <td>1</td>\n",
       "    </tr>\n",
       "    <tr>\n",
       "      <th>1110791</th>\n",
       "      <td>9322225</td>\n",
       "      <td>1</td>\n",
       "    </tr>\n",
       "  </tbody>\n",
       "</table>\n",
       "</div>"
      ],
      "text/plain": [
       "             uid  writed\n",
       "1110787  9316109       1\n",
       "1110788  9320668       1\n",
       "1110789  9321110       1\n",
       "1110790  9321727       1\n",
       "1110791  9322225       1"
      ]
     },
     "execution_count": 177,
     "metadata": {},
     "output_type": "execute_result"
    }
   ],
   "source": [
    "fraud_review_writer = fraud_review_writer_raw.groupby(['writer_uid'], as_index=False).agg({'time': 'count'})\n",
    "\n",
    "fraud_review_writer = fraud_review_writer.rename(columns={'time': 'writed', 'writer_uid': 'uid'})\n",
    "fraud_review_writer['uid'] = fraud_review_writer['uid'].astype(str)\n",
    "\n",
    "fraud_review_writer.tail()"
   ]
  },
  {
   "cell_type": "code",
   "execution_count": 178,
   "metadata": {},
   "outputs": [
    {
     "data": {
      "text/html": [
       "<div>\n",
       "<style scoped>\n",
       "    .dataframe tbody tr th:only-of-type {\n",
       "        vertical-align: middle;\n",
       "    }\n",
       "\n",
       "    .dataframe tbody tr th {\n",
       "        vertical-align: top;\n",
       "    }\n",
       "\n",
       "    .dataframe thead th {\n",
       "        text-align: right;\n",
       "    }\n",
       "</style>\n",
       "<table border=\"1\" class=\"dataframe\">\n",
       "  <thead>\n",
       "    <tr style=\"text-align: right;\">\n",
       "      <th></th>\n",
       "      <th>uid</th>\n",
       "      <th>writed</th>\n",
       "      <th>help</th>\n",
       "      <th>block</th>\n",
       "      <th>block_by_operation</th>\n",
       "    </tr>\n",
       "  </thead>\n",
       "  <tbody>\n",
       "    <tr>\n",
       "      <th>1112445</th>\n",
       "      <td>9316109</td>\n",
       "      <td>1</td>\n",
       "      <td>0.0</td>\n",
       "      <td>0.0</td>\n",
       "      <td>0.0</td>\n",
       "    </tr>\n",
       "    <tr>\n",
       "      <th>1112446</th>\n",
       "      <td>9320668</td>\n",
       "      <td>1</td>\n",
       "      <td>0.0</td>\n",
       "      <td>0.0</td>\n",
       "      <td>0.0</td>\n",
       "    </tr>\n",
       "    <tr>\n",
       "      <th>1112447</th>\n",
       "      <td>9321110</td>\n",
       "      <td>1</td>\n",
       "      <td>0.0</td>\n",
       "      <td>0.0</td>\n",
       "      <td>0.0</td>\n",
       "    </tr>\n",
       "    <tr>\n",
       "      <th>1112448</th>\n",
       "      <td>9321727</td>\n",
       "      <td>1</td>\n",
       "      <td>0.0</td>\n",
       "      <td>0.0</td>\n",
       "      <td>0.0</td>\n",
       "    </tr>\n",
       "    <tr>\n",
       "      <th>1112449</th>\n",
       "      <td>9322225</td>\n",
       "      <td>1</td>\n",
       "      <td>0.0</td>\n",
       "      <td>0.0</td>\n",
       "      <td>0.0</td>\n",
       "    </tr>\n",
       "  </tbody>\n",
       "</table>\n",
       "</div>"
      ],
      "text/plain": [
       "             uid  writed  help  block  block_by_operation\n",
       "1112445  9316109       1   0.0    0.0                 0.0\n",
       "1112446  9320668       1   0.0    0.0                 0.0\n",
       "1112447  9321110       1   0.0    0.0                 0.0\n",
       "1112448  9321727       1   0.0    0.0                 0.0\n",
       "1112449  9322225       1   0.0    0.0                 0.0"
      ]
     },
     "execution_count": 178,
     "metadata": {},
     "output_type": "execute_result"
    }
   ],
   "source": [
    "fraud_review_writer_uid = pd.merge(fraud_review_writer, fraud_uid, on=['uid'], how='left')\n",
    "\n",
    "fraud_review_writer_uid = fraud_review_writer_uid.drop(['black_source'], axis=1).fillna(0)\n",
    "\n",
    "fraud_review_writer_uid.tail()"
   ]
  },
  {
   "cell_type": "markdown",
   "metadata": {},
   "source": [
    "### help, 상담센터 신고된 유저"
   ]
  },
  {
   "cell_type": "code",
   "execution_count": 179,
   "metadata": {},
   "outputs": [],
   "source": [
    "fraud_review_writer_uid_normal = fraud_review_writer_uid[fraud_review_writer_uid['help'] == 0]\n",
    "fraud_review_writer_uid_black = fraud_review_writer_uid[fraud_review_writer_uid['help'] == 1]"
   ]
  },
  {
   "cell_type": "code",
   "execution_count": 180,
   "metadata": {},
   "outputs": [
    {
     "data": {
      "text/plain": [
       "(5238700, 323550)"
      ]
     },
     "execution_count": 180,
     "metadata": {},
     "output_type": "execute_result"
    }
   ],
   "source": [
    "# 샘플 수 비교\n",
    "np.size(fraud_review_writer_uid_normal), np.size(fraud_review_writer_uid_black)"
   ]
  },
  {
   "cell_type": "code",
   "execution_count": 181,
   "metadata": {},
   "outputs": [
    {
     "data": {
      "text/plain": [
       "(4.822640158818027, 13.474748879616751)"
      ]
     },
     "execution_count": 181,
     "metadata": {},
     "output_type": "execute_result"
    }
   ],
   "source": [
    "# 평균 비교\n",
    "np.mean(fraud_review_writer_uid_normal['writed']), np.mean(fraud_review_writer_uid_black['writed'])"
   ]
  },
  {
   "cell_type": "code",
   "execution_count": 182,
   "metadata": {},
   "outputs": [
    {
     "data": {
      "text/plain": [
       "LeveneResult(statistic=15048.795104815888, pvalue=0.0)"
      ]
     },
     "execution_count": 182,
     "metadata": {},
     "output_type": "execute_result"
    }
   ],
   "source": [
    "# 등분산 검정\n",
    "leveneTest = stats.levene(fraud_review_writer_uid_normal['writed'], fraud_review_writer_uid_black['writed'])\n",
    "\n",
    "leveneTest"
   ]
  },
  {
   "cell_type": "code",
   "execution_count": 183,
   "metadata": {},
   "outputs": [
    {
     "data": {
      "text/plain": [
       "Ttest_indResult(statistic=-54.202946790032854, pvalue=0.0)"
      ]
     },
     "execution_count": 183,
     "metadata": {},
     "output_type": "execute_result"
    }
   ],
   "source": [
    "tTestResultName = stats.ttest_ind(fraud_review_writer_uid_normal['writed'], fraud_review_writer_uid_black['writed'], equal_var=False)\n",
    "\n",
    "tTestResultName"
   ]
  },
  {
   "cell_type": "markdown",
   "metadata": {},
   "source": [
    "### block, 영구 제재된 유저"
   ]
  },
  {
   "cell_type": "code",
   "execution_count": 184,
   "metadata": {},
   "outputs": [],
   "source": [
    "fraud_review_writer_uid_normal = fraud_review_writer_uid[fraud_review_writer_uid['block'] == 0]\n",
    "fraud_review_writer_uid_black = fraud_review_writer_uid[fraud_review_writer_uid['block'] == 1]"
   ]
  },
  {
   "cell_type": "code",
   "execution_count": 185,
   "metadata": {},
   "outputs": [
    {
     "data": {
      "text/plain": [
       "(5299480, 262770)"
      ]
     },
     "execution_count": 185,
     "metadata": {},
     "output_type": "execute_result"
    }
   ],
   "source": [
    "# 샘플 수 비교\n",
    "np.size(fraud_review_writer_uid_normal), np.size(fraud_review_writer_uid_black)"
   ]
  },
  {
   "cell_type": "code",
   "execution_count": 186,
   "metadata": {},
   "outputs": [
    {
     "data": {
      "text/plain": [
       "(5.218543140081668, 7.491551546980249)"
      ]
     },
     "execution_count": 186,
     "metadata": {},
     "output_type": "execute_result"
    }
   ],
   "source": [
    "# 평균 비교\n",
    "np.mean(fraud_review_writer_uid_normal['writed']), np.mean(fraud_review_writer_uid_black['writed'])"
   ]
  },
  {
   "cell_type": "code",
   "execution_count": 187,
   "metadata": {},
   "outputs": [
    {
     "data": {
      "text/plain": [
       "LeveneResult(statistic=789.837279523001, pvalue=1.0061173356686477e-173)"
      ]
     },
     "execution_count": 187,
     "metadata": {},
     "output_type": "execute_result"
    }
   ],
   "source": [
    "# 등분산 검정\n",
    "leveneTest = stats.levene(fraud_review_writer_uid_normal['writed'], fraud_review_writer_uid_black['writed'])\n",
    "\n",
    "leveneTest"
   ]
  },
  {
   "cell_type": "code",
   "execution_count": 188,
   "metadata": {},
   "outputs": [
    {
     "data": {
      "text/plain": [
       "Ttest_indResult(statistic=-27.04990176530938, pvalue=4.0765220140499386e-160)"
      ]
     },
     "execution_count": 188,
     "metadata": {},
     "output_type": "execute_result"
    }
   ],
   "source": [
    "tTestResultName = stats.ttest_ind(fraud_review_writer_uid_normal['writed'], fraud_review_writer_uid_black['writed'], equal_var=False)\n",
    "\n",
    "tTestResultName"
   ]
  },
  {
   "cell_type": "markdown",
   "metadata": {},
   "source": [
    "### operation, 운영팀에서 처리한 유저"
   ]
  },
  {
   "cell_type": "code",
   "execution_count": 190,
   "metadata": {},
   "outputs": [],
   "source": [
    "fraud_review_writer_uid_normal = fraud_review_writer_uid[fraud_review_writer_uid['block_by_operation'] == 0]\n",
    "fraud_review_writer_uid_black = fraud_review_writer_uid[fraud_review_writer_uid['block_by_operation'] == 1]"
   ]
  },
  {
   "cell_type": "code",
   "execution_count": 191,
   "metadata": {},
   "outputs": [
    {
     "data": {
      "text/plain": [
       "(5529015, 33235)"
      ]
     },
     "execution_count": 191,
     "metadata": {},
     "output_type": "execute_result"
    }
   ],
   "source": [
    "# 샘플 수 비교\n",
    "np.size(fraud_review_writer_uid_normal), np.size(fraud_review_writer_uid_black)"
   ]
  },
  {
   "cell_type": "code",
   "execution_count": 192,
   "metadata": {},
   "outputs": [
    {
     "data": {
      "text/plain": [
       "(5.298311724601941, 9.919512562058072)"
      ]
     },
     "execution_count": 192,
     "metadata": {},
     "output_type": "execute_result"
    }
   ],
   "source": [
    "# 평균 비교\n",
    "np.mean(fraud_review_writer_uid_normal['writed']), np.mean(fraud_review_writer_uid_black['writed'])"
   ]
  },
  {
   "cell_type": "code",
   "execution_count": 193,
   "metadata": {},
   "outputs": [
    {
     "data": {
      "text/plain": [
       "LeveneResult(statistic=470.36120655515845, pvalue=2.810903527047842e-104)"
      ]
     },
     "execution_count": 193,
     "metadata": {},
     "output_type": "execute_result"
    }
   ],
   "source": [
    "# 등분산 검정\n",
    "leveneTest = stats.levene(fraud_review_writer_uid_normal['writed'], fraud_review_writer_uid_black['writed'])\n",
    "\n",
    "leveneTest"
   ]
  },
  {
   "cell_type": "code",
   "execution_count": 194,
   "metadata": {},
   "outputs": [
    {
     "data": {
      "text/plain": [
       "Ttest_indResult(statistic=-14.993868766222317, pvalue=5.209686845031913e-50)"
      ]
     },
     "execution_count": 194,
     "metadata": {},
     "output_type": "execute_result"
    }
   ],
   "source": [
    "tTestResultName = stats.ttest_ind(fraud_review_writer_uid_normal['writed'], fraud_review_writer_uid_black['writed'], equal_var=False)\n",
    "\n",
    "tTestResultName"
   ]
  },
  {
   "cell_type": "code",
   "execution_count": null,
   "metadata": {},
   "outputs": [],
   "source": []
  },
  {
   "cell_type": "code",
   "execution_count": null,
   "metadata": {},
   "outputs": [],
   "source": []
  },
  {
   "cell_type": "code",
   "execution_count": null,
   "metadata": {},
   "outputs": [],
   "source": []
  },
  {
   "cell_type": "code",
   "execution_count": null,
   "metadata": {},
   "outputs": [],
   "source": []
  },
  {
   "cell_type": "markdown",
   "metadata": {},
   "source": [
    "# 변수 기초 데이터 읽기"
   ]
  },
  {
   "cell_type": "markdown",
   "metadata": {},
   "source": [
    "### 이름 변경 내역 파일 읽기"
   ]
  },
  {
   "cell_type": "code",
   "execution_count": 120,
   "metadata": {},
   "outputs": [
    {
     "data": {
      "text/html": [
       "<div>\n",
       "<style scoped>\n",
       "    .dataframe tbody tr th:only-of-type {\n",
       "        vertical-align: middle;\n",
       "    }\n",
       "\n",
       "    .dataframe tbody tr th {\n",
       "        vertical-align: top;\n",
       "    }\n",
       "\n",
       "    .dataframe thead th {\n",
       "        text-align: right;\n",
       "    }\n",
       "</style>\n",
       "<table border=\"1\" class=\"dataframe\">\n",
       "  <thead>\n",
       "    <tr style=\"text-align: right;\">\n",
       "      <th></th>\n",
       "      <th>is_black</th>\n",
       "      <th>uid</th>\n",
       "      <th>changed_name</th>\n",
       "    </tr>\n",
       "  </thead>\n",
       "  <tbody>\n",
       "    <tr>\n",
       "      <th>4095222</th>\n",
       "      <td>0</td>\n",
       "      <td>9315495</td>\n",
       "      <td>1</td>\n",
       "    </tr>\n",
       "    <tr>\n",
       "      <th>4095223</th>\n",
       "      <td>0</td>\n",
       "      <td>9315496</td>\n",
       "      <td>1</td>\n",
       "    </tr>\n",
       "    <tr>\n",
       "      <th>4095224</th>\n",
       "      <td>0</td>\n",
       "      <td>9315512</td>\n",
       "      <td>1</td>\n",
       "    </tr>\n",
       "    <tr>\n",
       "      <th>4095225</th>\n",
       "      <td>0</td>\n",
       "      <td>9315513</td>\n",
       "      <td>1</td>\n",
       "    </tr>\n",
       "    <tr>\n",
       "      <th>4095226</th>\n",
       "      <td>0</td>\n",
       "      <td>9315544</td>\n",
       "      <td>1</td>\n",
       "    </tr>\n",
       "  </tbody>\n",
       "</table>\n",
       "</div>"
      ],
      "text/plain": [
       "         is_black      uid  changed_name\n",
       "4095222         0  9315495             1\n",
       "4095223         0  9315496             1\n",
       "4095224         0  9315512             1\n",
       "4095225         0  9315513             1\n",
       "4095226         0  9315544             1"
      ]
     },
     "execution_count": 120,
     "metadata": {},
     "output_type": "execute_result"
    }
   ],
   "source": [
    "read_path = '../csv/changed_name.csv'\n",
    "fraud_name = pd.read_csv(read_path)\n",
    "\n",
    "fraud_name['is_black'] = fraud_name['is_black'].replace('normal', 0)\n",
    "fraud_name['is_black'] = fraud_name['is_black'].replace('black', 1)\n",
    "\n",
    "fraud_name.tail()"
   ]
  },
  {
   "cell_type": "markdown",
   "metadata": {},
   "source": [
    "### T-Test"
   ]
  },
  {
   "cell_type": "code",
   "execution_count": 121,
   "metadata": {},
   "outputs": [],
   "source": [
    "fraud_name_normal = fraud_name[fraud_name['is_black'] == 0]\n",
    "fraud_name_black = fraud_name[fraud_name['is_black'] == 1]"
   ]
  },
  {
   "cell_type": "code",
   "execution_count": 122,
   "metadata": {},
   "outputs": [
    {
     "data": {
      "text/plain": [
       "(3983427, 111800)"
      ]
     },
     "execution_count": 122,
     "metadata": {},
     "output_type": "execute_result"
    }
   ],
   "source": [
    "# 샘플 수 비교\n",
    "np.size(fraud_name_normal['changed_name']), np.size(fraud_name_black['changed_name'])"
   ]
  },
  {
   "cell_type": "code",
   "execution_count": 123,
   "metadata": {},
   "outputs": [
    {
     "data": {
      "text/plain": [
       "(1.4122430259171312, 1.7182200357781754)"
      ]
     },
     "execution_count": 123,
     "metadata": {},
     "output_type": "execute_result"
    }
   ],
   "source": [
    "# 평균 비교\n",
    "np.mean(fraud_name_normal['changed_name']), np.mean(fraud_name_black['changed_name'])"
   ]
  },
  {
   "cell_type": "code",
   "execution_count": 124,
   "metadata": {},
   "outputs": [
    {
     "data": {
      "text/plain": [
       "Ttest_indResult(statistic=-62.24629954059341, pvalue=0.0)"
      ]
     },
     "execution_count": 124,
     "metadata": {},
     "output_type": "execute_result"
    }
   ],
   "source": [
    "tTestResultName = stats.ttest_ind(fraud_name_normal['changed_name'], fraud_name_black['changed_name'], equal_var=False)\n",
    "\n",
    "tTestResultName"
   ]
  },
  {
   "cell_type": "markdown",
   "metadata": {},
   "source": [
    "### 폰 변경 내역 파일 읽기"
   ]
  },
  {
   "cell_type": "code",
   "execution_count": null,
   "metadata": {},
   "outputs": [],
   "source": [
    "read_path = '../csv/changed_phone.csv'\n",
    "fraud_phone = pd.read_csv(read_path)\n",
    "\n",
    "fraud_phone['is_black'] = fraud_phone['is_black'].replace('normal', 0)\n",
    "fraud_phone['is_black'] = fraud_phone['is_black'].replace('black', 1)\n",
    "\n",
    "fraud_phone.tail()"
   ]
  },
  {
   "cell_type": "markdown",
   "metadata": {},
   "source": [
    "### T-Test"
   ]
  },
  {
   "cell_type": "code",
   "execution_count": null,
   "metadata": {},
   "outputs": [],
   "source": [
    "fraud_phone_normal = fraud_phone[fraud_phone['is_black'] == 0]\n",
    "fraud_phone_black = fraud_phone[fraud_phone['is_black'] == 1]"
   ]
  },
  {
   "cell_type": "code",
   "execution_count": null,
   "metadata": {},
   "outputs": [],
   "source": [
    "# 샘플 수 비교\n",
    "np.size(fraud_phone_normal['changed_phone']), np.size(fraud_phone_black['changed_phone'])"
   ]
  },
  {
   "cell_type": "code",
   "execution_count": null,
   "metadata": {},
   "outputs": [],
   "source": [
    "# 평균 비교\n",
    "np.mean(fraud_phone_normal['changed_phone']), np.mean(fraud_phone_black['changed_phone'])"
   ]
  },
  {
   "cell_type": "code",
   "execution_count": null,
   "metadata": {},
   "outputs": [],
   "source": [
    "tTestResultPhone = stats.ttest_ind(fraud_phone_normal['changed_phone'], fraud_phone_black['changed_phone'], equal_var=False)\n",
    "\n",
    "tTestResultPhone"
   ]
  },
  {
   "cell_type": "markdown",
   "metadata": {},
   "source": [
    "### 리뷰 받은 사람 파일 읽기"
   ]
  },
  {
   "cell_type": "code",
   "execution_count": 125,
   "metadata": {},
   "outputs": [
    {
     "data": {
      "text/html": [
       "<div>\n",
       "<style scoped>\n",
       "    .dataframe tbody tr th:only-of-type {\n",
       "        vertical-align: middle;\n",
       "    }\n",
       "\n",
       "    .dataframe tbody tr th {\n",
       "        vertical-align: top;\n",
       "    }\n",
       "\n",
       "    .dataframe thead th {\n",
       "        text-align: right;\n",
       "    }\n",
       "</style>\n",
       "<table border=\"1\" class=\"dataframe\">\n",
       "  <thead>\n",
       "    <tr style=\"text-align: right;\">\n",
       "      <th></th>\n",
       "      <th>is_black</th>\n",
       "      <th>uid</th>\n",
       "      <th>review</th>\n",
       "    </tr>\n",
       "  </thead>\n",
       "  <tbody>\n",
       "    <tr>\n",
       "      <th>960295</th>\n",
       "      <td>0</td>\n",
       "      <td>9303612</td>\n",
       "      <td>1</td>\n",
       "    </tr>\n",
       "    <tr>\n",
       "      <th>960296</th>\n",
       "      <td>0</td>\n",
       "      <td>9305161</td>\n",
       "      <td>1</td>\n",
       "    </tr>\n",
       "    <tr>\n",
       "      <th>960297</th>\n",
       "      <td>0</td>\n",
       "      <td>9310247</td>\n",
       "      <td>1</td>\n",
       "    </tr>\n",
       "    <tr>\n",
       "      <th>960298</th>\n",
       "      <td>0</td>\n",
       "      <td>9310368</td>\n",
       "      <td>1</td>\n",
       "    </tr>\n",
       "    <tr>\n",
       "      <th>960299</th>\n",
       "      <td>0</td>\n",
       "      <td>9313138</td>\n",
       "      <td>1</td>\n",
       "    </tr>\n",
       "  </tbody>\n",
       "</table>\n",
       "</div>"
      ],
      "text/plain": [
       "        is_black      uid  review\n",
       "960295         0  9303612       1\n",
       "960296         0  9305161       1\n",
       "960297         0  9310247       1\n",
       "960298         0  9310368       1\n",
       "960299         0  9313138       1"
      ]
     },
     "execution_count": 125,
     "metadata": {},
     "output_type": "execute_result"
    }
   ],
   "source": [
    "read_path = '../csv/review_ee.csv'\n",
    "fraud_review_ee = pd.read_csv(read_path)\n",
    "\n",
    "fraud_review_ee['is_black'] = fraud_review_ee['is_black'].replace('normal', 0)\n",
    "fraud_review_ee['is_black'] = fraud_review_ee['is_black'].replace('black', 1)\n",
    "\n",
    "fraud_review_ee = fraud_review_ee.rename(columns={'shop_uid': 'uid'})\n",
    "\n",
    "fraud_review_ee.tail()"
   ]
  },
  {
   "cell_type": "markdown",
   "metadata": {},
   "source": [
    "### T-Test"
   ]
  },
  {
   "cell_type": "code",
   "execution_count": 126,
   "metadata": {},
   "outputs": [],
   "source": [
    "fraud_review_ee_normal = fraud_review_ee[fraud_review_ee['is_black'] == 0]\n",
    "fraud_review_ee_black = fraud_review_ee[fraud_review_ee['is_black'] == 1]"
   ]
  },
  {
   "cell_type": "code",
   "execution_count": 127,
   "metadata": {},
   "outputs": [
    {
     "data": {
      "text/plain": [
       "(897324, 62976)"
      ]
     },
     "execution_count": 127,
     "metadata": {},
     "output_type": "execute_result"
    }
   ],
   "source": [
    "# 샘플 수 비교\n",
    "np.size(fraud_review_ee_normal['review']), np.size(fraud_review_ee_black['review'])"
   ]
  },
  {
   "cell_type": "code",
   "execution_count": 128,
   "metadata": {},
   "outputs": [
    {
     "data": {
      "text/plain": [
       "(5.97372520962328, 8.573234247967479)"
      ]
     },
     "execution_count": 128,
     "metadata": {},
     "output_type": "execute_result"
    }
   ],
   "source": [
    "# 평균 비교\n",
    "np.mean(fraud_review_ee_normal['review']), np.mean(fraud_review_ee_black['review'])"
   ]
  },
  {
   "cell_type": "code",
   "execution_count": 129,
   "metadata": {},
   "outputs": [
    {
     "data": {
      "text/plain": [
       "Ttest_indResult(statistic=-23.21982978574343, pvalue=7.980710979230879e-119)"
      ]
     },
     "execution_count": 129,
     "metadata": {},
     "output_type": "execute_result"
    }
   ],
   "source": [
    "tTestResultReviewEe = stats.ttest_ind(fraud_review_ee_normal['review'], fraud_review_ee_black['review'], equal_var=False)\n",
    "\n",
    "tTestResultReviewEe"
   ]
  },
  {
   "cell_type": "markdown",
   "metadata": {},
   "source": [
    "### 리뷰 남긴 사람 파일 읽기"
   ]
  },
  {
   "cell_type": "code",
   "execution_count": 130,
   "metadata": {},
   "outputs": [
    {
     "data": {
      "text/html": [
       "<div>\n",
       "<style scoped>\n",
       "    .dataframe tbody tr th:only-of-type {\n",
       "        vertical-align: middle;\n",
       "    }\n",
       "\n",
       "    .dataframe tbody tr th {\n",
       "        vertical-align: top;\n",
       "    }\n",
       "\n",
       "    .dataframe thead th {\n",
       "        text-align: right;\n",
       "    }\n",
       "</style>\n",
       "<table border=\"1\" class=\"dataframe\">\n",
       "  <thead>\n",
       "    <tr style=\"text-align: right;\">\n",
       "      <th></th>\n",
       "      <th>is_black</th>\n",
       "      <th>uid</th>\n",
       "      <th>review</th>\n",
       "    </tr>\n",
       "  </thead>\n",
       "  <tbody>\n",
       "    <tr>\n",
       "      <th>1109973</th>\n",
       "      <td>0</td>\n",
       "      <td>9309329</td>\n",
       "      <td>1</td>\n",
       "    </tr>\n",
       "    <tr>\n",
       "      <th>1109974</th>\n",
       "      <td>0</td>\n",
       "      <td>9309339</td>\n",
       "      <td>1</td>\n",
       "    </tr>\n",
       "    <tr>\n",
       "      <th>1109975</th>\n",
       "      <td>0</td>\n",
       "      <td>9309423</td>\n",
       "      <td>1</td>\n",
       "    </tr>\n",
       "    <tr>\n",
       "      <th>1109976</th>\n",
       "      <td>0</td>\n",
       "      <td>9311843</td>\n",
       "      <td>1</td>\n",
       "    </tr>\n",
       "    <tr>\n",
       "      <th>1109977</th>\n",
       "      <td>0</td>\n",
       "      <td>9313932</td>\n",
       "      <td>1</td>\n",
       "    </tr>\n",
       "  </tbody>\n",
       "</table>\n",
       "</div>"
      ],
      "text/plain": [
       "         is_black      uid  review\n",
       "1109973         0  9309329       1\n",
       "1109974         0  9309339       1\n",
       "1109975         0  9309423       1\n",
       "1109976         0  9311843       1\n",
       "1109977         0  9313932       1"
      ]
     },
     "execution_count": 130,
     "metadata": {},
     "output_type": "execute_result"
    }
   ],
   "source": [
    "read_path = '../csv/review_er.csv'\n",
    "fraud_review_er = pd.read_csv(read_path)\n",
    "\n",
    "fraud_review_er['is_black'] = fraud_review_er['is_black'].replace('normal', 0)\n",
    "fraud_review_er['is_black'] = fraud_review_er['is_black'].replace('black', 1)\n",
    "\n",
    "fraud_review_er = fraud_review_er.rename(columns={'writer_uid': 'uid'})\n",
    "\n",
    "fraud_review_er.tail()"
   ]
  },
  {
   "cell_type": "markdown",
   "metadata": {},
   "source": [
    "### T-Test"
   ]
  },
  {
   "cell_type": "code",
   "execution_count": 131,
   "metadata": {},
   "outputs": [],
   "source": [
    "fraud_review_er_normal = fraud_review_er[fraud_review_er['is_black'] == 0]\n",
    "fraud_review_er_black = fraud_review_er[fraud_review_er['is_black'] == 1]"
   ]
  },
  {
   "cell_type": "code",
   "execution_count": 132,
   "metadata": {},
   "outputs": [
    {
     "data": {
      "text/plain": [
       "(1058974, 51004)"
      ]
     },
     "execution_count": 132,
     "metadata": {},
     "output_type": "execute_result"
    }
   ],
   "source": [
    "# 샘플 수 비교\n",
    "np.size(fraud_review_er_normal['review']), np.size(fraud_review_er_black['review'])"
   ]
  },
  {
   "cell_type": "code",
   "execution_count": 133,
   "metadata": {},
   "outputs": [
    {
     "data": {
      "text/plain": [
       "(5.215598305529692, 7.393478942828014)"
      ]
     },
     "execution_count": 133,
     "metadata": {},
     "output_type": "execute_result"
    }
   ],
   "source": [
    "# 평균 비교\n",
    "np.mean(fraud_review_er_normal['review']), np.mean(fraud_review_er_black['review'])"
   ]
  },
  {
   "cell_type": "code",
   "execution_count": 134,
   "metadata": {},
   "outputs": [
    {
     "data": {
      "text/plain": [
       "Ttest_indResult(statistic=-25.846254524648977, pvalue=2.049059005337516e-146)"
      ]
     },
     "execution_count": 134,
     "metadata": {},
     "output_type": "execute_result"
    }
   ],
   "source": [
    "tTestResultReviewEr = stats.ttest_ind(fraud_review_er_normal['review'], fraud_review_er_black['review'], equal_var=False)\n",
    "\n",
    "tTestResultReviewEr"
   ]
  },
  {
   "cell_type": "code",
   "execution_count": null,
   "metadata": {},
   "outputs": [],
   "source": []
  },
  {
   "cell_type": "markdown",
   "metadata": {},
   "source": [
    "# 데이터 merge"
   ]
  },
  {
   "cell_type": "code",
   "execution_count": null,
   "metadata": {},
   "outputs": [],
   "source": [
    "fraud_1 = pd.merge(fraud_name, fraud_phone, on =['is_black', 'uid'], how='outer')\n",
    "\n",
    "fraud_2 = pd.merge(fraud_1, fraud_review_ee, on =['is_black', 'uid'], how='outer')\n",
    "\n",
    "fraud = pd.merge(fraud_2, fraud_review_er, on =['is_black', 'uid'], how='outer')\n",
    "\n",
    "fraud = fraud.rename(columns={'review_x': 'review_ee', 'review_y': 'review_er'})\n",
    "\n",
    "fraud.fillna(0)"
   ]
  },
  {
   "cell_type": "code",
   "execution_count": null,
   "metadata": {},
   "outputs": [],
   "source": []
  },
  {
   "cell_type": "code",
   "execution_count": null,
   "metadata": {},
   "outputs": [],
   "source": []
  },
  {
   "cell_type": "code",
   "execution_count": null,
   "metadata": {},
   "outputs": [],
   "source": []
  },
  {
   "cell_type": "code",
   "execution_count": null,
   "metadata": {},
   "outputs": [],
   "source": [
    "y = fraud_name['is_black']\n",
    "X = fraud_name['changed_name']\n",
    "\n",
    "logit_mod = sm.Logit(y, X)\n",
    "# logit_res = logit_mod.fit(disp=0)\n",
    "logit_res = logit_mod.fit()\n",
    "print(logit_res.summary())"
   ]
  },
  {
   "cell_type": "code",
   "execution_count": null,
   "metadata": {},
   "outputs": [],
   "source": [
    "xx = np.linspace(0, 100, 200)\n",
    "\n",
    "\n",
    "plt.scatter(X, logit_res.predict(X), label=r\"$\\hat{y}$\", marker='x', c=y,\n",
    "            s=200, lw=2, alpha=0.5)\n",
    "\n",
    "plt.legend(loc = \"best\")\n",
    "plt.show()"
   ]
  },
  {
   "cell_type": "code",
   "execution_count": null,
   "metadata": {},
   "outputs": [],
   "source": []
  },
  {
   "cell_type": "code",
   "execution_count": null,
   "metadata": {},
   "outputs": [],
   "source": []
  },
  {
   "cell_type": "code",
   "execution_count": null,
   "metadata": {},
   "outputs": [],
   "source": [
    "logit_res = sm.Logit.from_formula('is_black ~ changed_name', fraud_name).fit()\n",
    "\n",
    "logit_res.summary()"
   ]
  },
  {
   "cell_type": "code",
   "execution_count": null,
   "metadata": {},
   "outputs": [],
   "source": [
    "plt.scatter(fraud_name['changed_name'], fraud_name['is_black'], label=\"data\", marker='o')\n",
    "\n",
    "plt.legend(loc = \"best\")\n",
    "plt.show()"
   ]
  },
  {
   "cell_type": "code",
   "execution_count": null,
   "metadata": {},
   "outputs": [],
   "source": []
  },
  {
   "cell_type": "code",
   "execution_count": null,
   "metadata": {},
   "outputs": [],
   "source": [
    "np.exp(logis.params)"
   ]
  },
  {
   "cell_type": "code",
   "execution_count": null,
   "metadata": {},
   "outputs": [],
   "source": [
    "params = logis.params\n",
    "conf = logis.conf_int()\n",
    "conf['OR'] = params\n",
    "conf.columns = ['2.5%', '97.5%', 'OR']\n",
    "print(np.exp(conf))"
   ]
  },
  {
   "cell_type": "code",
   "execution_count": null,
   "metadata": {},
   "outputs": [],
   "source": []
  },
  {
   "cell_type": "code",
   "execution_count": null,
   "metadata": {},
   "outputs": [],
   "source": [
    "from sklearn.linear_model import LogisticRegression\n",
    "from sklearn.model_selection import train_test_split"
   ]
  },
  {
   "cell_type": "code",
   "execution_count": null,
   "metadata": {},
   "outputs": [],
   "source": [
    "Y = fraud_name['is_black']\n",
    "X = fraud_name.drop(['is_black'], axis=1)\n",
    "\n",
    "# Y.reshape(1, -1)\n",
    "# X = X.reshape(1, -1)\n",
    "\n",
    "X_train, X_test, Y_train, Y_test = train_test_split(X, Y, test_size=0.3)\n"
   ]
  },
  {
   "cell_type": "code",
   "execution_count": null,
   "metadata": {},
   "outputs": [],
   "source": []
  },
  {
   "cell_type": "code",
   "execution_count": null,
   "metadata": {},
   "outputs": [],
   "source": []
  },
  {
   "cell_type": "code",
   "execution_count": null,
   "metadata": {},
   "outputs": [],
   "source": [
    "log_clf = LogisticRegression()\n",
    "log_clf.fit(X_train,Y_train)  # training 데이터로 학습 시키기\n",
    "log_clf.score(X_test, Y_test)  # the mean accuracy on the given test data and labels."
   ]
  },
  {
   "cell_type": "code",
   "execution_count": null,
   "metadata": {},
   "outputs": [],
   "source": []
  },
  {
   "cell_type": "code",
   "execution_count": null,
   "metadata": {},
   "outputs": [],
   "source": []
  },
  {
   "cell_type": "code",
   "execution_count": null,
   "metadata": {},
   "outputs": [],
   "source": [
    "#test(valid)/train 을 2:8 로 randomly select\n",
    "train, valid = train_test_split(fraud_name, test_size=0.2, random_state=0)\n",
    "\n",
    "#train/valid set 완성\n",
    "train_y = train['is_black']\n",
    "train_x = train.drop(['is_black'], axis=1)\n",
    "\n",
    "valid_y = valid['is_black']\n",
    "valid_x = valid.drop(['is_black'],axis=1)"
   ]
  },
  {
   "cell_type": "code",
   "execution_count": null,
   "metadata": {},
   "outputs": [],
   "source": []
  },
  {
   "cell_type": "code",
   "execution_count": null,
   "metadata": {},
   "outputs": [],
   "source": [
    "# lr = LogisticRegression(C=1000.0, random_state=0)\n",
    "\n",
    "lr = LogisticRegression()\n",
    "lr.fit(train_x, train_y)  # Fit the model according to the given training data.\n",
    "pred_y = lr.predict(valid_x)  # Predict class labels for samples in X."
   ]
  },
  {
   "cell_type": "code",
   "execution_count": null,
   "metadata": {},
   "outputs": [],
   "source": [
    "pred_y"
   ]
  },
  {
   "cell_type": "code",
   "execution_count": null,
   "metadata": {},
   "outputs": [],
   "source": [
    "lr"
   ]
  },
  {
   "cell_type": "code",
   "execution_count": null,
   "metadata": {},
   "outputs": [],
   "source": [
    "print(\"Misclassification samples : %d\" %(valid_y != pred_y).sum())"
   ]
  },
  {
   "cell_type": "code",
   "execution_count": null,
   "metadata": {},
   "outputs": [],
   "source": [
    "from sklearn.metrics import precision_score, recall_score, f1_score\n",
    "from sklearn.metrics import accuracy_score\n",
    "\n",
    "print(\"accuracy: %.3f\" %accuracy_score(valid_y, pred_y))  # Accuracy classification score\n",
    "print(\"Precision : %.3f\" % precision_score(valid_y, pred_y))\n",
    "print(\"Recall : %.3f\" % recall_score(valid_y, pred_y))\n",
    "print(\"F1 : %.3f\" % f1_score(valid_y, pred_y))"
   ]
  },
  {
   "cell_type": "code",
   "execution_count": null,
   "metadata": {},
   "outputs": [],
   "source": []
  },
  {
   "cell_type": "code",
   "execution_count": null,
   "metadata": {},
   "outputs": [],
   "source": [
    "fraud_name_10 = fraud_name[fraud_name['changed_name'] <= 10]"
   ]
  },
  {
   "cell_type": "code",
   "execution_count": null,
   "metadata": {},
   "outputs": [],
   "source": [
    "y = fraud_name_10['is_black']\n",
    "X = fraud_name_10['changed_name']\n",
    "\n",
    "logit_mod = sm.Logit(y, X)\n",
    "# logit_res = logit_mod.fit(disp=0)\n",
    "logit_res = logit_mod.fit()\n",
    "print(logit_res.summary())"
   ]
  },
  {
   "cell_type": "code",
   "execution_count": null,
   "metadata": {},
   "outputs": [],
   "source": [
    "logit_res = sm.Logit.from_formula('is_black ~ changed_name', fraud_name_10).fit()\n",
    "\n",
    "logit_res.summary()"
   ]
  },
  {
   "cell_type": "code",
   "execution_count": null,
   "metadata": {},
   "outputs": [],
   "source": []
  }
 ],
 "metadata": {
  "kernelspec": {
   "display_name": "Python 3",
   "language": "python",
   "name": "python3"
  },
  "language_info": {
   "codemirror_mode": {
    "name": "ipython",
    "version": 3
   },
   "file_extension": ".py",
   "mimetype": "text/x-python",
   "name": "python",
   "nbconvert_exporter": "python",
   "pygments_lexer": "ipython3",
   "version": "3.7.3"
  }
 },
 "nbformat": 4,
 "nbformat_minor": 2
}
