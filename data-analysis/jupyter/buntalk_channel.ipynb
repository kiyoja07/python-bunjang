{
 "cells": [
  {
   "cell_type": "code",
   "execution_count": 7,
   "metadata": {},
   "outputs": [
    {
     "name": "stdin",
     "output_type": "stream",
     "text": [
      " ·········\n",
      " ···············\n"
     ]
    }
   ],
   "source": [
    "import getpass\n",
    "\n",
    "db_user = getpass.getpass()\n",
    "db_password = getpass.getpass()"
   ]
  },
  {
   "cell_type": "code",
   "execution_count": 8,
   "metadata": {},
   "outputs": [],
   "source": [
    "from sqlalchemy import create_engine\n",
    "import datetime as dt\n",
    "import pandas as pd\n",
    "\n",
    "mysql_engine = create_engine('mysql+pymysql://{}:{}@analquick.cogfzn9i6pkm.ap-northeast-2.rds.amazonaws.com:3306/quicket_log'.format(db_user, db_password))\n",
    "mysql = mysql_engine.connect()"
   ]
  },
  {
   "cell_type": "code",
   "execution_count": 9,
   "metadata": {},
   "outputs": [
    {
     "data": {
      "text/html": [
       "<div>\n",
       "<style scoped>\n",
       "    .dataframe tbody tr th:only-of-type {\n",
       "        vertical-align: middle;\n",
       "    }\n",
       "\n",
       "    .dataframe tbody tr th {\n",
       "        vertical-align: top;\n",
       "    }\n",
       "\n",
       "    .dataframe thead th {\n",
       "        text-align: right;\n",
       "    }\n",
       "</style>\n",
       "<table border=\"1\" class=\"dataframe\">\n",
       "  <thead>\n",
       "    <tr style=\"text-align: right;\">\n",
       "      <th></th>\n",
       "      <th>channel_id</th>\n",
       "    </tr>\n",
       "  </thead>\n",
       "  <tbody>\n",
       "    <tr>\n",
       "      <td>0</td>\n",
       "      <td>131128739</td>\n",
       "    </tr>\n",
       "    <tr>\n",
       "      <td>1</td>\n",
       "      <td>164513504</td>\n",
       "    </tr>\n",
       "    <tr>\n",
       "      <td>2</td>\n",
       "      <td>165935146</td>\n",
       "    </tr>\n",
       "    <tr>\n",
       "      <td>3</td>\n",
       "      <td>166159440</td>\n",
       "    </tr>\n",
       "    <tr>\n",
       "      <td>4</td>\n",
       "      <td>166815805</td>\n",
       "    </tr>\n",
       "  </tbody>\n",
       "</table>\n",
       "</div>"
      ],
      "text/plain": [
       "   channel_id\n",
       "0   131128739\n",
       "1   164513504\n",
       "2   165935146\n",
       "3   166159440\n",
       "4   166815805"
      ]
     },
     "execution_count": 9,
     "metadata": {},
     "output_type": "execute_result"
    }
   ],
   "source": [
    "sql = '''\n",
    "SELECT distinct channel_id\n",
    "FROM tb_message\n",
    "WHERE update_time >= '2019-11-01 23:20:00' AND update_time < '2019-11-01 23:30:00'\n",
    "'''\n",
    "stat = pd.read_sql(sql, mysql)\n",
    "stat.head()"
   ]
  },
  {
   "cell_type": "code",
   "execution_count": 12,
   "metadata": {},
   "outputs": [
    {
     "data": {
      "text/plain": [
       "48"
      ]
     },
     "execution_count": 12,
     "metadata": {},
     "output_type": "execute_result"
    }
   ],
   "source": [
    "import datetime\n",
    "INTERVAL_MIN = 30\n",
    "start = datetime.datetime(2019, 11, 1, 0, 0, 0)\n",
    "end = datetime.datetime(2019, 11, 2, 0, 0, 0)\n",
    "interval = int((end-start).total_seconds()/60/INTERVAL_MIN)\n",
    "interval"
   ]
  },
  {
   "cell_type": "code",
   "execution_count": 13,
   "metadata": {},
   "outputs": [
    {
     "name": "stderr",
     "output_type": "stream",
     "text": [
      "\n",
      "  0%|          | 0/48 [00:00<?, ?it/s]\u001b[A\n",
      "  2%|▏         | 1/48 [00:01<01:13,  1.57s/it]\u001b[A\n",
      "  8%|▊         | 4/48 [00:01<00:48,  1.11s/it]\u001b[A\n",
      " 10%|█         | 5/48 [00:02<00:44,  1.04s/it]\u001b[A\n",
      " 15%|█▍        | 7/48 [00:03<00:33,  1.24it/s]\u001b[A\n",
      " 17%|█▋        | 8/48 [00:03<00:24,  1.65it/s]\u001b[A\n",
      " 19%|█▉        | 9/48 [00:03<00:19,  1.95it/s]\u001b[A\n",
      " 21%|██        | 10/48 [00:05<00:31,  1.21it/s]\u001b[A\n",
      " 23%|██▎       | 11/48 [00:06<00:33,  1.12it/s]\u001b[A\n",
      " 25%|██▌       | 12/48 [00:06<00:27,  1.32it/s]\u001b[A\n",
      " 31%|███▏      | 15/48 [00:07<00:19,  1.72it/s]\u001b[A\n",
      " 33%|███▎      | 16/48 [00:08<00:22,  1.44it/s]\u001b[A\n",
      " 35%|███▌      | 17/48 [00:08<00:18,  1.69it/s]\u001b[A\n",
      " 38%|███▊      | 18/48 [00:08<00:14,  2.09it/s]\u001b[A\n",
      " 40%|███▉      | 19/48 [00:09<00:13,  2.13it/s]\u001b[A\n",
      " 44%|████▍     | 21/48 [00:09<00:10,  2.65it/s]\u001b[A\n",
      " 46%|████▌     | 22/48 [00:10<00:12,  2.01it/s]\u001b[A\n",
      " 52%|█████▏    | 25/48 [00:10<00:08,  2.72it/s]\u001b[A\n",
      " 54%|█████▍    | 26/48 [00:10<00:06,  3.26it/s]\u001b[A\n",
      " 60%|██████    | 29/48 [00:10<00:04,  4.06it/s]\u001b[A\n",
      " 65%|██████▍   | 31/48 [00:11<00:03,  4.66it/s]\u001b[A\n",
      " 67%|██████▋   | 32/48 [00:11<00:05,  2.96it/s]\u001b[A\n",
      " 69%|██████▉   | 33/48 [00:12<00:04,  3.04it/s]\u001b[A\n",
      " 71%|███████   | 34/48 [00:12<00:06,  2.15it/s]\u001b[A\n",
      " 73%|███████▎  | 35/48 [00:13<00:08,  1.55it/s]\u001b[A\n",
      " 75%|███████▌  | 36/48 [00:14<00:06,  1.81it/s]\u001b[A\n",
      " 85%|████████▌ | 41/48 [00:14<00:02,  2.34it/s]\u001b[A\n",
      " 88%|████████▊ | 42/48 [00:15<00:02,  2.72it/s]\u001b[A\n",
      " 90%|████████▉ | 43/48 [00:15<00:01,  3.23it/s]\u001b[A\n",
      " 92%|█████████▏| 44/48 [00:16<00:02,  1.57it/s]\u001b[A\n",
      " 94%|█████████▍| 45/48 [00:16<00:01,  1.97it/s]\u001b[A\n",
      " 96%|█████████▌| 46/48 [00:17<00:01,  1.46it/s]\u001b[A\n",
      "100%|██████████| 48/48 [00:19<00:00,  2.50it/s]\u001b[A\n"
     ]
    }
   ],
   "source": [
    "from multiprocessing import Pool\n",
    "import tqdm\n",
    "\n",
    "result = []\n",
    "\n",
    "def fetch(dates):\n",
    "    db = mysql_engine.connect()\n",
    "    start = dates[0]\n",
    "    end = dates[1]\n",
    "    now = datetime.datetime.now()\n",
    "    sql = '''\n",
    "    SELECT distinct channel_id\n",
    "    FROM tb_message\n",
    "    WHERE update_time >= '{}' AND update_time < '{}'\n",
    "    '''.format(str(start), str(end))\n",
    "    df = pd.read_sql(sql, db)\n",
    "    #print(\"End: {}, {}, {} seconds\".format(start, end, (datetime.datetime.now() - now).total_seconds()))\n",
    "    db.close()\n",
    "    return df['channel_id'].values.tolist()\n",
    "\n",
    "date_ranges = []\n",
    "for i in range(interval):\n",
    "    dt1 = start + datetime.timedelta(seconds=60*i*INTERVAL_MIN)\n",
    "    dt2 = start + datetime.timedelta(seconds=60*(i+1)*INTERVAL_MIN)\n",
    "    date_ranges.append([dt1, dt2])\n",
    "\n",
    "pool = Pool(processes = 30)\n",
    "\n",
    "values = []\n",
    "for value in tqdm.tqdm(pool.imap_unordered(fetch, date_ranges), total=len(date_ranges)):\n",
    "    values.append(value)\n",
    "\n",
    "pool.close()\n",
    "pool.join()"
   ]
  },
  {
   "cell_type": "code",
   "execution_count": 14,
   "metadata": {},
   "outputs": [
    {
     "data": {
      "text/plain": [
       "182446"
      ]
     },
     "execution_count": 14,
     "metadata": {},
     "output_type": "execute_result"
    }
   ],
   "source": [
    "channel_ids = set()\n",
    "for value in values:\n",
    "    channel_ids.update(value)\n",
    "len(channel_ids)"
   ]
  },
  {
   "cell_type": "code",
   "execution_count": null,
   "metadata": {},
   "outputs": [],
   "source": []
  }
 ],
 "metadata": {
  "kernelspec": {
   "display_name": "Python 3",
   "language": "python",
   "name": "python3"
  },
  "language_info": {
   "codemirror_mode": {
    "name": "ipython",
    "version": 3
   },
   "file_extension": ".py",
   "mimetype": "text/x-python",
   "name": "python",
   "nbconvert_exporter": "python",
   "pygments_lexer": "ipython3",
   "version": "3.7.3"
  }
 },
 "nbformat": 4,
 "nbformat_minor": 4
}
