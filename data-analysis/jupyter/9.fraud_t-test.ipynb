{
 "cells": [
  {
   "cell_type": "code",
   "execution_count": 2,
   "metadata": {},
   "outputs": [],
   "source": [
    "import pandas as pd\n",
    "import matplotlib.pylab as plt\n",
    "import statsmodels.api as sm\n",
    "import numpy as np\n",
    "import seaborn as sns\n",
    "from scipy import stats\n",
    "from datetime import datetime"
   ]
  },
  {
   "cell_type": "markdown",
   "metadata": {},
   "source": [
    "### Raw 데이터 읽기"
   ]
  },
  {
   "cell_type": "code",
   "execution_count": 14,
   "metadata": {},
   "outputs": [
    {
     "data": {
      "text/html": [
       "<div>\n",
       "<style scoped>\n",
       "    .dataframe tbody tr th:only-of-type {\n",
       "        vertical-align: middle;\n",
       "    }\n",
       "\n",
       "    .dataframe tbody tr th {\n",
       "        vertical-align: top;\n",
       "    }\n",
       "\n",
       "    .dataframe thead th {\n",
       "        text-align: right;\n",
       "    }\n",
       "</style>\n",
       "<table border=\"1\" class=\"dataframe\">\n",
       "  <thead>\n",
       "    <tr style=\"text-align: right;\">\n",
       "      <th></th>\n",
       "      <th>reported_date</th>\n",
       "      <th>product_name</th>\n",
       "      <th>price</th>\n",
       "      <th>reporter_uid</th>\n",
       "      <th>fraud_uid</th>\n",
       "      <th>block_cs</th>\n",
       "    </tr>\n",
       "  </thead>\n",
       "  <tbody>\n",
       "    <tr>\n",
       "      <th>15951</th>\n",
       "      <td>NaN</td>\n",
       "      <td>갤럭시A7</td>\n",
       "      <td>125,000</td>\n",
       "      <td>1370542</td>\n",
       "      <td>2667809</td>\n",
       "      <td>1</td>\n",
       "    </tr>\n",
       "    <tr>\n",
       "      <th>15952</th>\n",
       "      <td>NaN</td>\n",
       "      <td>갤럭시노트fe</td>\n",
       "      <td>350,000</td>\n",
       "      <td>3224068</td>\n",
       "      <td>4087003</td>\n",
       "      <td>1</td>\n",
       "    </tr>\n",
       "    <tr>\n",
       "      <th>15953</th>\n",
       "      <td>NaN</td>\n",
       "      <td>아이폰5s</td>\n",
       "      <td>123,000</td>\n",
       "      <td>4016158</td>\n",
       "      <td>4770542</td>\n",
       "      <td>1</td>\n",
       "    </tr>\n",
       "    <tr>\n",
       "      <th>15954</th>\n",
       "      <td>NaN</td>\n",
       "      <td>핸드백</td>\n",
       "      <td>25,000</td>\n",
       "      <td>938074</td>\n",
       "      <td>5335535</td>\n",
       "      <td>1</td>\n",
       "    </tr>\n",
       "    <tr>\n",
       "      <th>15955</th>\n",
       "      <td>NaN</td>\n",
       "      <td>gtx1060 6g</td>\n",
       "      <td>250,000</td>\n",
       "      <td>1890173</td>\n",
       "      <td>5699420</td>\n",
       "      <td>1</td>\n",
       "    </tr>\n",
       "  </tbody>\n",
       "</table>\n",
       "</div>"
      ],
      "text/plain": [
       "      reported_date product_name    price reporter_uid fraud_uid  block_cs\n",
       "15951           NaN        갤럭시A7  125,000      1370542   2667809         1\n",
       "15952           NaN      갤럭시노트fe  350,000      3224068   4087003         1\n",
       "15953           NaN        아이폰5s  123,000      4016158   4770542         1\n",
       "15954           NaN          핸드백   25,000       938074   5335535         1\n",
       "15955           NaN   gtx1060 6g  250,000      1890173   5699420         1"
      ]
     },
     "execution_count": 14,
     "metadata": {},
     "output_type": "execute_result"
    }
   ],
   "source": [
    "# 운영팀에서 관리하는 거래신고 접수 uid\n",
    "read_path = '../csv/fraud_report_data_2019_2016.csv'\n",
    "fraud_operation = pd.read_csv(read_path)\n",
    "\n",
    "fraud_operation.columns = ['reported_date', 'product_name', 'price', 'reporter_uid', 'fraud_uid']\n",
    "\n",
    "fraud_operation['block_cs'] = 1\n",
    "\n",
    "# change type to str\n",
    "fraud_operation['reporter_uid'] = fraud_operation['reporter_uid'].fillna(0).astype(int).astype(str)\n",
    "fraud_operation['fraud_uid'] = fraud_operation['fraud_uid'].astype(str)\n",
    "\n",
    "fraud_operation.tail()"
   ]
  },
  {
   "cell_type": "code",
   "execution_count": 20,
   "metadata": {},
   "outputs": [
    {
     "data": {
      "text/html": [
       "<div>\n",
       "<style scoped>\n",
       "    .dataframe tbody tr th:only-of-type {\n",
       "        vertical-align: middle;\n",
       "    }\n",
       "\n",
       "    .dataframe tbody tr th {\n",
       "        vertical-align: top;\n",
       "    }\n",
       "\n",
       "    .dataframe thead th {\n",
       "        text-align: right;\n",
       "    }\n",
       "</style>\n",
       "<table border=\"1\" class=\"dataframe\">\n",
       "  <thead>\n",
       "    <tr style=\"text-align: right;\">\n",
       "      <th></th>\n",
       "      <th>uid</th>\n",
       "      <th>block_infinite</th>\n",
       "    </tr>\n",
       "  </thead>\n",
       "  <tbody>\n",
       "    <tr>\n",
       "      <th>143847</th>\n",
       "      <td>5834292</td>\n",
       "      <td>1</td>\n",
       "    </tr>\n",
       "    <tr>\n",
       "      <th>143848</th>\n",
       "      <td>5067006</td>\n",
       "      <td>1</td>\n",
       "    </tr>\n",
       "    <tr>\n",
       "      <th>143849</th>\n",
       "      <td>8755369</td>\n",
       "      <td>1</td>\n",
       "    </tr>\n",
       "    <tr>\n",
       "      <th>143850</th>\n",
       "      <td>5083812</td>\n",
       "      <td>1</td>\n",
       "    </tr>\n",
       "    <tr>\n",
       "      <th>143851</th>\n",
       "      <td>7961342</td>\n",
       "      <td>1</td>\n",
       "    </tr>\n",
       "  </tbody>\n",
       "</table>\n",
       "</div>"
      ],
      "text/plain": [
       "            uid  block_infinite\n",
       "143847  5834292               1\n",
       "143848  5067006               1\n",
       "143849  8755369               1\n",
       "143850  5083812               1\n",
       "143851  7961342               1"
      ]
     },
     "execution_count": 20,
     "metadata": {},
     "output_type": "execute_result"
    }
   ],
   "source": [
    "# 영구 제재 받은 uid list\n",
    "read_path = '../csv/block_uid.csv'\n",
    "fraud_uid_block = pd.read_csv(read_path)\n",
    "\n",
    "fraud_uid_block['block_infinite'] = 1\n",
    "\n",
    "# change type to str\n",
    "fraud_uid_block['uid'] = fraud_uid_block['uid'].astype(str)\n",
    "\n",
    "fraud_uid_block.tail()"
   ]
  },
  {
   "cell_type": "code",
   "execution_count": 18,
   "metadata": {},
   "outputs": [
    {
     "data": {
      "text/html": [
       "<div>\n",
       "<style scoped>\n",
       "    .dataframe tbody tr th:only-of-type {\n",
       "        vertical-align: middle;\n",
       "    }\n",
       "\n",
       "    .dataframe tbody tr th {\n",
       "        vertical-align: top;\n",
       "    }\n",
       "\n",
       "    .dataframe thead th {\n",
       "        text-align: right;\n",
       "    }\n",
       "</style>\n",
       "<table border=\"1\" class=\"dataframe\">\n",
       "  <thead>\n",
       "    <tr style=\"text-align: right;\">\n",
       "      <th></th>\n",
       "      <th>discussion_id</th>\n",
       "      <th>created_at_help</th>\n",
       "      <th>reporter_uid</th>\n",
       "      <th>fraud_uid</th>\n",
       "      <th>fraud_help</th>\n",
       "    </tr>\n",
       "  </thead>\n",
       "  <tbody>\n",
       "    <tr>\n",
       "      <th>197015</th>\n",
       "      <td>838830</td>\n",
       "      <td>2019-07-05 07:56:30</td>\n",
       "      <td>9317104</td>\n",
       "      <td>0</td>\n",
       "      <td>1</td>\n",
       "    </tr>\n",
       "    <tr>\n",
       "      <th>196983</th>\n",
       "      <td>838715</td>\n",
       "      <td>2019-07-04 23:36:37</td>\n",
       "      <td>9317700</td>\n",
       "      <td>8767099</td>\n",
       "      <td>1</td>\n",
       "    </tr>\n",
       "    <tr>\n",
       "      <th>196782</th>\n",
       "      <td>837888</td>\n",
       "      <td>2019-07-03 21:12:13</td>\n",
       "      <td>9322294</td>\n",
       "      <td>0</td>\n",
       "      <td>1</td>\n",
       "    </tr>\n",
       "    <tr>\n",
       "      <th>196784</th>\n",
       "      <td>837893</td>\n",
       "      <td>2019-07-03 21:17:22</td>\n",
       "      <td>9322294</td>\n",
       "      <td>9320707</td>\n",
       "      <td>1</td>\n",
       "    </tr>\n",
       "    <tr>\n",
       "      <th>196876</th>\n",
       "      <td>838255</td>\n",
       "      <td>2019-07-04 13:55:10</td>\n",
       "      <td>9323927</td>\n",
       "      <td>4623330</td>\n",
       "      <td>1</td>\n",
       "    </tr>\n",
       "  </tbody>\n",
       "</table>\n",
       "</div>"
      ],
      "text/plain": [
       "        discussion_id      created_at_help reporter_uid fraud_uid  fraud_help\n",
       "197015         838830  2019-07-05 07:56:30      9317104         0           1\n",
       "196983         838715  2019-07-04 23:36:37      9317700   8767099           1\n",
       "196782         837888  2019-07-03 21:12:13      9322294         0           1\n",
       "196784         837893  2019-07-03 21:17:22      9322294   9320707           1\n",
       "196876         838255  2019-07-04 13:55:10      9323927   4623330           1"
      ]
     },
     "execution_count": 18,
     "metadata": {},
     "output_type": "execute_result"
    }
   ],
   "source": [
    "# 거래관련 상담센터 신고 list\n",
    "read_path = '../csv/help_reporter_frauder.csv'\n",
    "help_raw = pd.read_csv(read_path)\n",
    "\n",
    "help_raw['fraud_help'] = 1\n",
    "\n",
    "help_raw = help_raw.sort_values(['reporter_uid', 'fraud_uid', 'created_at'])  # sort again, ascending\n",
    "\n",
    "help_raw = help_raw.drop_duplicates(['reporter_uid', 'fraud_uid'])  # drop duplicated row, keep 1st row\n",
    "\n",
    "help_raw = help_raw.rename(columns={'created_at': 'created_at_help'})\n",
    "\n",
    "# change type to str\n",
    "for col in ['reporter_uid', 'fraud_uid']:\n",
    "    \n",
    "    df = help_raw\n",
    "    \n",
    "    df[col] = df[col].astype('str')\n",
    "    \n",
    "\n",
    "help_raw.tail()"
   ]
  },
  {
   "cell_type": "code",
   "execution_count": 30,
   "metadata": {},
   "outputs": [
    {
     "data": {
      "text/plain": [
       "103369"
      ]
     },
     "execution_count": 30,
     "metadata": {},
     "output_type": "execute_result"
    }
   ],
   "source": [
    "help_raw['fraud_uid'].nunique()"
   ]
  },
  {
   "cell_type": "code",
   "execution_count": 16,
   "metadata": {},
   "outputs": [
    {
     "data": {
      "text/html": [
       "<div>\n",
       "<style scoped>\n",
       "    .dataframe tbody tr th:only-of-type {\n",
       "        vertical-align: middle;\n",
       "    }\n",
       "\n",
       "    .dataframe tbody tr th {\n",
       "        vertical-align: top;\n",
       "    }\n",
       "\n",
       "    .dataframe thead th {\n",
       "        text-align: right;\n",
       "    }\n",
       "</style>\n",
       "<table border=\"1\" class=\"dataframe\">\n",
       "  <thead>\n",
       "    <tr style=\"text-align: right;\">\n",
       "      <th></th>\n",
       "      <th>created_at</th>\n",
       "      <th>category</th>\n",
       "      <th>status</th>\n",
       "      <th>buyer_uid</th>\n",
       "      <th>seller_uid</th>\n",
       "      <th>total_price</th>\n",
       "    </tr>\n",
       "  </thead>\n",
       "  <tbody>\n",
       "    <tr>\n",
       "      <th>14334118</th>\n",
       "      <td>2019-06-30 08:44:07</td>\n",
       "      <td>600400003.0</td>\n",
       "      <td>1</td>\n",
       "      <td>3164423</td>\n",
       "      <td>2941858</td>\n",
       "      <td>29900</td>\n",
       "    </tr>\n",
       "    <tr>\n",
       "      <th>14334119</th>\n",
       "      <td>2019-06-30 13:13:12</td>\n",
       "      <td>600700003.0</td>\n",
       "      <td>1</td>\n",
       "      <td>4658579</td>\n",
       "      <td>9264834</td>\n",
       "      <td>6000</td>\n",
       "    </tr>\n",
       "    <tr>\n",
       "      <th>14334120</th>\n",
       "      <td>2019-06-30 16:34:13</td>\n",
       "      <td>500113011.0</td>\n",
       "      <td>4</td>\n",
       "      <td>1296566</td>\n",
       "      <td>2775958</td>\n",
       "      <td>45000</td>\n",
       "    </tr>\n",
       "    <tr>\n",
       "      <th>14334121</th>\n",
       "      <td>2019-06-30 13:44:19</td>\n",
       "      <td>500119001.0</td>\n",
       "      <td>1</td>\n",
       "      <td>558255</td>\n",
       "      <td>6077583</td>\n",
       "      <td>20000</td>\n",
       "    </tr>\n",
       "    <tr>\n",
       "      <th>14334122</th>\n",
       "      <td>2019-06-30 12:58:22</td>\n",
       "      <td>800300001.0</td>\n",
       "      <td>1</td>\n",
       "      <td>9177490</td>\n",
       "      <td>4019525</td>\n",
       "      <td>64500</td>\n",
       "    </tr>\n",
       "  </tbody>\n",
       "</table>\n",
       "</div>"
      ],
      "text/plain": [
       "                   created_at     category  status buyer_uid seller_uid  \\\n",
       "14334118  2019-06-30 08:44:07  600400003.0       1   3164423    2941858   \n",
       "14334119  2019-06-30 13:13:12  600700003.0       1   4658579    9264834   \n",
       "14334120  2019-06-30 16:34:13  500113011.0       4   1296566    2775958   \n",
       "14334121  2019-06-30 13:44:19  500119001.0       1    558255    6077583   \n",
       "14334122  2019-06-30 12:58:22  800300001.0       1   9177490    4019525   \n",
       "\n",
       "          total_price  \n",
       "14334118        29900  \n",
       "14334119         6000  \n",
       "14334120        45000  \n",
       "14334121        20000  \n",
       "14334122        64500  "
      ]
     },
     "execution_count": 16,
     "metadata": {},
     "output_type": "execute_result"
    }
   ],
   "source": [
    "# 번프 전체 데이터\n",
    "read_path = '../csv/bunp_history_all.csv'\n",
    "bunp_raw = pd.read_csv(read_path)\n",
    "\n",
    "bunp_raw = bunp_raw.rename(columns={'seller_pid_price': 'total_price'})\n",
    "\n",
    "# 2017년 이후 번프 내역\n",
    "bunp_raw_17 = bunp_raw\n",
    "\n",
    "# make 'year' column\n",
    "bunp_raw_17['year'] = bunp_raw_17['created_at'].astype(str).str[:4]\n",
    "bunp_raw_17['year'] = bunp_raw_17['year'].astype(int)\n",
    "\n",
    "bunp_raw_17 = bunp_raw_17[bunp_raw_17['year'] >= 2017]\n",
    "\n",
    "# drop 'year' column\n",
    "bunp_raw_17 = bunp_raw_17.drop(['year'], axis=1)\n",
    "\n",
    "# change type to str\n",
    "for col in ['buyer_uid', 'seller_uid']:\n",
    "    \n",
    "    df = bunp_raw_17\n",
    "    \n",
    "    df[col] = df[col].astype('str')\n",
    "\n",
    "bunp_raw_17.tail()"
   ]
  },
  {
   "cell_type": "code",
   "execution_count": 32,
   "metadata": {},
   "outputs": [
    {
     "name": "stdout",
     "output_type": "stream",
     "text": [
      "<class 'str'>\n"
     ]
    }
   ],
   "source": [
    "print(type(help_raw['created_at_help'][4]))"
   ]
  },
  {
   "cell_type": "markdown",
   "metadata": {},
   "source": [
    "### Merge"
   ]
  },
  {
   "cell_type": "code",
   "execution_count": null,
   "metadata": {},
   "outputs": [],
   "source": []
  },
  {
   "cell_type": "code",
   "execution_count": null,
   "metadata": {},
   "outputs": [],
   "source": []
  },
  {
   "cell_type": "code",
   "execution_count": null,
   "metadata": {},
   "outputs": [],
   "source": []
  },
  {
   "cell_type": "code",
   "execution_count": null,
   "metadata": {},
   "outputs": [],
   "source": []
  },
  {
   "cell_type": "code",
   "execution_count": null,
   "metadata": {},
   "outputs": [],
   "source": []
  },
  {
   "cell_type": "code",
   "execution_count": null,
   "metadata": {},
   "outputs": [],
   "source": []
  },
  {
   "cell_type": "code",
   "execution_count": null,
   "metadata": {},
   "outputs": [],
   "source": []
  },
  {
   "cell_type": "code",
   "execution_count": null,
   "metadata": {},
   "outputs": [],
   "source": []
  },
  {
   "cell_type": "code",
   "execution_count": 19,
   "metadata": {},
   "outputs": [
    {
     "data": {
      "text/html": [
       "<div>\n",
       "<style scoped>\n",
       "    .dataframe tbody tr th:only-of-type {\n",
       "        vertical-align: middle;\n",
       "    }\n",
       "\n",
       "    .dataframe tbody tr th {\n",
       "        vertical-align: top;\n",
       "    }\n",
       "\n",
       "    .dataframe thead th {\n",
       "        text-align: right;\n",
       "    }\n",
       "</style>\n",
       "<table border=\"1\" class=\"dataframe\">\n",
       "  <thead>\n",
       "    <tr style=\"text-align: right;\">\n",
       "      <th></th>\n",
       "      <th>category</th>\n",
       "      <th>status</th>\n",
       "      <th>buyer_uid</th>\n",
       "      <th>seller_uid</th>\n",
       "      <th>total_price</th>\n",
       "      <th>fraud_help</th>\n",
       "      <th>month_at</th>\n",
       "      <th>price_range</th>\n",
       "    </tr>\n",
       "  </thead>\n",
       "  <tbody>\n",
       "    <tr>\n",
       "      <th>14121676</th>\n",
       "      <td>600400003.0</td>\n",
       "      <td>1</td>\n",
       "      <td>3164423</td>\n",
       "      <td>2941858</td>\n",
       "      <td>29900</td>\n",
       "      <td>0.0</td>\n",
       "      <td>2019-06</td>\n",
       "      <td>0.0</td>\n",
       "    </tr>\n",
       "    <tr>\n",
       "      <th>14121677</th>\n",
       "      <td>600700003.0</td>\n",
       "      <td>1</td>\n",
       "      <td>4658579</td>\n",
       "      <td>9264834</td>\n",
       "      <td>6000</td>\n",
       "      <td>0.0</td>\n",
       "      <td>2019-06</td>\n",
       "      <td>0.0</td>\n",
       "    </tr>\n",
       "    <tr>\n",
       "      <th>14121678</th>\n",
       "      <td>500113011.0</td>\n",
       "      <td>4</td>\n",
       "      <td>1296566</td>\n",
       "      <td>2775958</td>\n",
       "      <td>45000</td>\n",
       "      <td>0.0</td>\n",
       "      <td>2019-06</td>\n",
       "      <td>0.0</td>\n",
       "    </tr>\n",
       "    <tr>\n",
       "      <th>14121679</th>\n",
       "      <td>500119001.0</td>\n",
       "      <td>1</td>\n",
       "      <td>558255</td>\n",
       "      <td>6077583</td>\n",
       "      <td>20000</td>\n",
       "      <td>0.0</td>\n",
       "      <td>2019-06</td>\n",
       "      <td>0.0</td>\n",
       "    </tr>\n",
       "    <tr>\n",
       "      <th>14121680</th>\n",
       "      <td>800300001.0</td>\n",
       "      <td>1</td>\n",
       "      <td>9177490</td>\n",
       "      <td>4019525</td>\n",
       "      <td>64500</td>\n",
       "      <td>0.0</td>\n",
       "      <td>2019-06</td>\n",
       "      <td>0.0</td>\n",
       "    </tr>\n",
       "  </tbody>\n",
       "</table>\n",
       "</div>"
      ],
      "text/plain": [
       "             category  status buyer_uid seller_uid  total_price  fraud_help  \\\n",
       "14121676  600400003.0       1   3164423    2941858        29900         0.0   \n",
       "14121677  600700003.0       1   4658579    9264834         6000         0.0   \n",
       "14121678  500113011.0       4   1296566    2775958        45000         0.0   \n",
       "14121679  500119001.0       1    558255    6077583        20000         0.0   \n",
       "14121680  800300001.0       1   9177490    4019525        64500         0.0   \n",
       "\n",
       "         month_at  price_range  \n",
       "14121676  2019-06          0.0  \n",
       "14121677  2019-06          0.0  \n",
       "14121678  2019-06          0.0  \n",
       "14121679  2019-06          0.0  \n",
       "14121680  2019-06          0.0  "
      ]
     },
     "execution_count": 19,
     "metadata": {},
     "output_type": "execute_result"
    }
   ],
   "source": [
    "# change type to str\n",
    "for col in ['reporter_uid', 'fraud_uid']:\n",
    "    \n",
    "    df = help_raw\n",
    "    \n",
    "    df[col] = df[col].astype('str')\n",
    "\n",
    "for col in ['buyer_uid', 'seller_uid']:\n",
    "    \n",
    "    df = bunp_raw_17\n",
    "    \n",
    "    df[col] = df[col].astype('str')\n",
    "\n",
    "# merge\n",
    "bunp_help = pd.merge(bunp_raw_17, help_raw, \n",
    "                            left_on=['buyer_uid', 'seller_uid'],\n",
    "                            right_on=['reporter_uid', 'fraud_uid'],\n",
    "                            how='left')\n",
    "\n",
    "\n",
    "bunp_help['fraud_help'] = bunp_help['fraud_help'].fillna(0)\n",
    "\n",
    "bunp_help['month_at'] = bunp_help['created_at'].astype(str).str[:7]\n",
    "bunp_help = bunp_help.drop(['created_at', 'created_at_help', 'discussion_id', 'reporter_uid', 'fraud_uid'], axis=1)  # drop columns\n",
    "\n",
    "bunp_help['price_range'] = (bunp_help['total_price'] / 100000).apply(np.floor) * 100000\n",
    "\n",
    "bunp_help.tail()"
   ]
  },
  {
   "cell_type": "code",
   "execution_count": null,
   "metadata": {},
   "outputs": [],
   "source": []
  },
  {
   "cell_type": "code",
   "execution_count": null,
   "metadata": {},
   "outputs": [],
   "source": []
  },
  {
   "cell_type": "code",
   "execution_count": null,
   "metadata": {},
   "outputs": [],
   "source": []
  },
  {
   "cell_type": "markdown",
   "metadata": {},
   "source": [
    "## black user와 white user의 이름 변경 횟수 T-Test"
   ]
  },
  {
   "cell_type": "code",
   "execution_count": 13,
   "metadata": {},
   "outputs": [
    {
     "data": {
      "text/html": [
       "<div>\n",
       "<style scoped>\n",
       "    .dataframe tbody tr th:only-of-type {\n",
       "        vertical-align: middle;\n",
       "    }\n",
       "\n",
       "    .dataframe tbody tr th {\n",
       "        vertical-align: top;\n",
       "    }\n",
       "\n",
       "    .dataframe thead th {\n",
       "        text-align: right;\n",
       "    }\n",
       "</style>\n",
       "<table border=\"1\" class=\"dataframe\">\n",
       "  <thead>\n",
       "    <tr style=\"text-align: right;\">\n",
       "      <th></th>\n",
       "      <th>id</th>\n",
       "      <th>change_name_date</th>\n",
       "      <th>join_date</th>\n",
       "    </tr>\n",
       "  </thead>\n",
       "  <tbody>\n",
       "    <tr>\n",
       "      <th>10859511</th>\n",
       "      <td>9300440</td>\n",
       "      <td>NaT</td>\n",
       "      <td>2019-06-29 23:59:06</td>\n",
       "    </tr>\n",
       "    <tr>\n",
       "      <th>10859512</th>\n",
       "      <td>9300441</td>\n",
       "      <td>NaT</td>\n",
       "      <td>2019-06-29 23:59:22</td>\n",
       "    </tr>\n",
       "    <tr>\n",
       "      <th>10859513</th>\n",
       "      <td>9300442</td>\n",
       "      <td>NaT</td>\n",
       "      <td>2019-06-29 23:59:31</td>\n",
       "    </tr>\n",
       "    <tr>\n",
       "      <th>10859514</th>\n",
       "      <td>9300444</td>\n",
       "      <td>NaT</td>\n",
       "      <td>2019-06-29 23:59:52</td>\n",
       "    </tr>\n",
       "    <tr>\n",
       "      <th>10859515</th>\n",
       "      <td>9300445</td>\n",
       "      <td>NaT</td>\n",
       "      <td>2019-06-30 00:00:00</td>\n",
       "    </tr>\n",
       "  </tbody>\n",
       "</table>\n",
       "</div>"
      ],
      "text/plain": [
       "               id change_name_date            join_date\n",
       "10859511  9300440              NaT  2019-06-29 23:59:06\n",
       "10859512  9300441              NaT  2019-06-29 23:59:22\n",
       "10859513  9300442              NaT  2019-06-29 23:59:31\n",
       "10859514  9300444              NaT  2019-06-29 23:59:52\n",
       "10859515  9300445              NaT  2019-06-30 00:00:00"
      ]
     },
     "execution_count": 13,
     "metadata": {},
     "output_type": "execute_result"
    }
   ],
   "source": [
    "read_path = '../csv/changed_name_raw.csv'\n",
    "fraud_name_raw = pd.read_csv(read_path)\n",
    "\n",
    "# 2019년 7월 이름 변경 데이터 없애기\n",
    "fraud_name_raw['change_name_date'] = pd.to_datetime(fraud_name_raw['change_name_date'])\n",
    "\n",
    "fraud_name_raw['year'] = fraud_name_raw['change_name_date'].dt.year\n",
    "fraud_name_raw['month'] = fraud_name_raw['change_name_date'].dt.month\n",
    "\n",
    "fraud_name_raw = fraud_name_raw[(fraud_name_raw['year'] != 2019) |\n",
    "                                (fraud_name_raw['month'] <= 6)]\n",
    "\n",
    "fraud_name_raw = fraud_name_raw.drop(['year', 'month'], axis=1)\n",
    "\n",
    "\n",
    "fraud_name_raw.tail()"
   ]
  },
  {
   "cell_type": "code",
   "execution_count": null,
   "metadata": {},
   "outputs": [],
   "source": []
  },
  {
   "cell_type": "code",
   "execution_count": 21,
   "metadata": {},
   "outputs": [
    {
     "data": {
      "text/html": [
       "<div>\n",
       "<style scoped>\n",
       "    .dataframe tbody tr th:only-of-type {\n",
       "        vertical-align: middle;\n",
       "    }\n",
       "\n",
       "    .dataframe tbody tr th {\n",
       "        vertical-align: top;\n",
       "    }\n",
       "\n",
       "    .dataframe thead th {\n",
       "        text-align: right;\n",
       "    }\n",
       "</style>\n",
       "<table border=\"1\" class=\"dataframe\">\n",
       "  <thead>\n",
       "    <tr style=\"text-align: right;\">\n",
       "      <th></th>\n",
       "      <th>uid</th>\n",
       "      <th>changed</th>\n",
       "    </tr>\n",
       "  </thead>\n",
       "  <tbody>\n",
       "    <tr>\n",
       "      <th>4099311</th>\n",
       "      <td>9325552</td>\n",
       "      <td>1</td>\n",
       "    </tr>\n",
       "    <tr>\n",
       "      <th>4099312</th>\n",
       "      <td>9325572</td>\n",
       "      <td>1</td>\n",
       "    </tr>\n",
       "    <tr>\n",
       "      <th>4099313</th>\n",
       "      <td>9325578</td>\n",
       "      <td>1</td>\n",
       "    </tr>\n",
       "    <tr>\n",
       "      <th>4099314</th>\n",
       "      <td>9325579</td>\n",
       "      <td>1</td>\n",
       "    </tr>\n",
       "    <tr>\n",
       "      <th>4099315</th>\n",
       "      <td>9325602</td>\n",
       "      <td>1</td>\n",
       "    </tr>\n",
       "  </tbody>\n",
       "</table>\n",
       "</div>"
      ],
      "text/plain": [
       "             uid  changed\n",
       "4099311  9325552        1\n",
       "4099312  9325572        1\n",
       "4099313  9325578        1\n",
       "4099314  9325579        1\n",
       "4099315  9325602        1"
      ]
     },
     "execution_count": 21,
     "metadata": {},
     "output_type": "execute_result"
    }
   ],
   "source": [
    "fraud_name = fraud_name_raw.groupby(['uid'], as_index=False).agg({'date': 'count'})\n",
    "\n",
    "fraud_name = fraud_name.rename(columns={'date': 'changed'})\n",
    "fraud_name['uid'] = fraud_name['uid'].astype(str)\n",
    "\n",
    "fraud_name.tail()"
   ]
  },
  {
   "cell_type": "code",
   "execution_count": 6,
   "metadata": {},
   "outputs": [
    {
     "data": {
      "text/html": [
       "<div>\n",
       "<style scoped>\n",
       "    .dataframe tbody tr th:only-of-type {\n",
       "        vertical-align: middle;\n",
       "    }\n",
       "\n",
       "    .dataframe tbody tr th {\n",
       "        vertical-align: top;\n",
       "    }\n",
       "\n",
       "    .dataframe thead th {\n",
       "        text-align: right;\n",
       "    }\n",
       "</style>\n",
       "<table border=\"1\" class=\"dataframe\">\n",
       "  <thead>\n",
       "    <tr style=\"text-align: right;\">\n",
       "      <th></th>\n",
       "      <th>uid</th>\n",
       "      <th>changed</th>\n",
       "      <th>help</th>\n",
       "      <th>block</th>\n",
       "      <th>block_by_operation</th>\n",
       "    </tr>\n",
       "  </thead>\n",
       "  <tbody>\n",
       "    <tr>\n",
       "      <th>4102690</th>\n",
       "      <td>9325552</td>\n",
       "      <td>1</td>\n",
       "      <td>0.0</td>\n",
       "      <td>0.0</td>\n",
       "      <td>0.0</td>\n",
       "    </tr>\n",
       "    <tr>\n",
       "      <th>4102691</th>\n",
       "      <td>9325572</td>\n",
       "      <td>1</td>\n",
       "      <td>0.0</td>\n",
       "      <td>0.0</td>\n",
       "      <td>0.0</td>\n",
       "    </tr>\n",
       "    <tr>\n",
       "      <th>4102692</th>\n",
       "      <td>9325578</td>\n",
       "      <td>1</td>\n",
       "      <td>0.0</td>\n",
       "      <td>0.0</td>\n",
       "      <td>0.0</td>\n",
       "    </tr>\n",
       "    <tr>\n",
       "      <th>4102693</th>\n",
       "      <td>9325579</td>\n",
       "      <td>1</td>\n",
       "      <td>0.0</td>\n",
       "      <td>0.0</td>\n",
       "      <td>0.0</td>\n",
       "    </tr>\n",
       "    <tr>\n",
       "      <th>4102694</th>\n",
       "      <td>9325602</td>\n",
       "      <td>1</td>\n",
       "      <td>0.0</td>\n",
       "      <td>0.0</td>\n",
       "      <td>0.0</td>\n",
       "    </tr>\n",
       "  </tbody>\n",
       "</table>\n",
       "</div>"
      ],
      "text/plain": [
       "             uid  changed  help  block  block_by_operation\n",
       "4102690  9325552        1   0.0    0.0                 0.0\n",
       "4102691  9325572        1   0.0    0.0                 0.0\n",
       "4102692  9325578        1   0.0    0.0                 0.0\n",
       "4102693  9325579        1   0.0    0.0                 0.0\n",
       "4102694  9325602        1   0.0    0.0                 0.0"
      ]
     },
     "execution_count": 6,
     "metadata": {},
     "output_type": "execute_result"
    }
   ],
   "source": [
    "fraud_name_uid = pd.merge(fraud_name, fraud_uid, on=['uid'], how='left')\n",
    "\n",
    "fraud_name_uid = fraud_name_uid.drop(['black_source'], axis=1).fillna(0)\n",
    "\n",
    "fraud_name_uid.tail()"
   ]
  },
  {
   "cell_type": "markdown",
   "metadata": {},
   "source": [
    "### help, 상담센터 신고된 유저"
   ]
  },
  {
   "cell_type": "code",
   "execution_count": 7,
   "metadata": {},
   "outputs": [],
   "source": [
    "fraud_name_uid_normal = fraud_name_uid[fraud_name_uid['help'] == 0]\n",
    "fraud_name_uid_black = fraud_name_uid[fraud_name_uid['help'] == 1]"
   ]
  },
  {
   "cell_type": "code",
   "execution_count": 13,
   "metadata": {},
   "outputs": [
    {
     "data": {
      "text/plain": [
       "(20022460, 491015)"
      ]
     },
     "execution_count": 13,
     "metadata": {},
     "output_type": "execute_result"
    }
   ],
   "source": [
    "# 샘플 수 비교\n",
    "np.size(fraud_name_uid_normal), np.size(fraud_name_uid_black)"
   ]
  },
  {
   "cell_type": "code",
   "execution_count": 14,
   "metadata": {},
   "outputs": [
    {
     "data": {
      "text/plain": [
       "(1.3953342895927874, 2.4676741036424548)"
      ]
     },
     "execution_count": 14,
     "metadata": {},
     "output_type": "execute_result"
    }
   ],
   "source": [
    "# 평균 비교\n",
    "np.mean(fraud_name_uid_normal['changed']), np.mean(fraud_name_uid_black['changed'])"
   ]
  },
  {
   "cell_type": "code",
   "execution_count": 15,
   "metadata": {},
   "outputs": [
    {
     "data": {
      "text/plain": [
       "LeveneResult(statistic=66411.07416078707, pvalue=0.0)"
      ]
     },
     "execution_count": 15,
     "metadata": {},
     "output_type": "execute_result"
    }
   ],
   "source": [
    "# 등분산 검정\n",
    "leveneTest = stats.levene(fraud_name_uid_normal['changed'], fraud_name_uid_black['changed'])\n",
    "\n",
    "leveneTest"
   ]
  },
  {
   "cell_type": "code",
   "execution_count": 16,
   "metadata": {},
   "outputs": [
    {
     "data": {
      "text/plain": [
       "Ttest_indResult(statistic=-124.22704575665718, pvalue=0.0)"
      ]
     },
     "execution_count": 16,
     "metadata": {},
     "output_type": "execute_result"
    }
   ],
   "source": [
    "# T-test\n",
    "tTestResult = stats.ttest_ind(fraud_name_uid_normal['changed'], fraud_name_uid_black['changed'], equal_var=False)\n",
    "\n",
    "tTestResult"
   ]
  },
  {
   "cell_type": "markdown",
   "metadata": {},
   "source": [
    "### block, 영구 제재된 유저"
   ]
  },
  {
   "cell_type": "code",
   "execution_count": 17,
   "metadata": {},
   "outputs": [],
   "source": [
    "fraud_name_uid_normal = fraud_name_uid[fraud_name_uid['block'] == 0]\n",
    "fraud_name_uid_black = fraud_name_uid[fraud_name_uid['block'] == 1]"
   ]
  },
  {
   "cell_type": "code",
   "execution_count": 18,
   "metadata": {},
   "outputs": [
    {
     "data": {
      "text/plain": [
       "(20218730, 294745)"
      ]
     },
     "execution_count": 18,
     "metadata": {},
     "output_type": "execute_result"
    }
   ],
   "source": [
    "# 샘플 수 비교\n",
    "np.size(fraud_name_uid_normal), np.size(fraud_name_uid_black)"
   ]
  },
  {
   "cell_type": "code",
   "execution_count": 19,
   "metadata": {},
   "outputs": [
    {
     "data": {
      "text/plain": [
       "(1.4138885083286636, 1.9089721623776486)"
      ]
     },
     "execution_count": 19,
     "metadata": {},
     "output_type": "execute_result"
    }
   ],
   "source": [
    "# 평균 비교\n",
    "np.mean(fraud_name_uid_normal['changed']), np.mean(fraud_name_uid_black['changed'])"
   ]
  },
  {
   "cell_type": "code",
   "execution_count": 20,
   "metadata": {},
   "outputs": [
    {
     "data": {
      "text/plain": [
       "LeveneResult(statistic=9065.690648394393, pvalue=0.0)"
      ]
     },
     "execution_count": 20,
     "metadata": {},
     "output_type": "execute_result"
    }
   ],
   "source": [
    "# 등분산 검정\n",
    "leveneTest = stats.levene(fraud_name_uid_normal['changed'], fraud_name_uid_black['changed'])\n",
    "\n",
    "leveneTest"
   ]
  },
  {
   "cell_type": "code",
   "execution_count": 21,
   "metadata": {},
   "outputs": [
    {
     "data": {
      "text/plain": [
       "Ttest_indResult(statistic=-63.14315728134901, pvalue=0.0)"
      ]
     },
     "execution_count": 21,
     "metadata": {},
     "output_type": "execute_result"
    }
   ],
   "source": [
    "# T-test\n",
    "tTestResult = stats.ttest_ind(fraud_name_uid_normal['changed'], fraud_name_uid_black['changed'], equal_var=False)\n",
    "\n",
    "tTestResult"
   ]
  },
  {
   "cell_type": "markdown",
   "metadata": {},
   "source": [
    "### operation, 운영팀에서 처리한 유저"
   ]
  },
  {
   "cell_type": "code",
   "execution_count": 22,
   "metadata": {},
   "outputs": [],
   "source": [
    "fraud_name_uid_normal = fraud_name_uid[fraud_name_uid['block_by_operation'] == 0]\n",
    "fraud_name_uid_black = fraud_name_uid[fraud_name_uid['block_by_operation'] == 1]"
   ]
  },
  {
   "cell_type": "code",
   "execution_count": 23,
   "metadata": {},
   "outputs": [
    {
     "data": {
      "text/plain": [
       "(20446575, 66900)"
      ]
     },
     "execution_count": 23,
     "metadata": {},
     "output_type": "execute_result"
    }
   ],
   "source": [
    "# 샘플 수 비교\n",
    "np.size(fraud_name_uid_normal), np.size(fraud_name_uid_black)"
   ]
  },
  {
   "cell_type": "code",
   "execution_count": 24,
   "metadata": {},
   "outputs": [
    {
     "data": {
      "text/plain": [
       "(1.4194663409397417, 1.8903587443946188)"
      ]
     },
     "execution_count": 24,
     "metadata": {},
     "output_type": "execute_result"
    }
   ],
   "source": [
    "# 평균 비교\n",
    "np.mean(fraud_name_uid_normal['changed']), np.mean(fraud_name_uid_black['changed'])"
   ]
  },
  {
   "cell_type": "code",
   "execution_count": 25,
   "metadata": {},
   "outputs": [
    {
     "data": {
      "text/plain": [
       "LeveneResult(statistic=1879.203176330235, pvalue=0.0)"
      ]
     },
     "execution_count": 25,
     "metadata": {},
     "output_type": "execute_result"
    }
   ],
   "source": [
    "# 등분산 검정\n",
    "leveneTest = stats.levene(fraud_name_uid_normal['changed'], fraud_name_uid_black['changed'])\n",
    "\n",
    "leveneTest"
   ]
  },
  {
   "cell_type": "code",
   "execution_count": 26,
   "metadata": {},
   "outputs": [
    {
     "data": {
      "text/plain": [
       "Ttest_indResult(statistic=-29.09745119728514, pvalue=1.471915339519034e-180)"
      ]
     },
     "execution_count": 26,
     "metadata": {},
     "output_type": "execute_result"
    }
   ],
   "source": [
    "# T-test\n",
    "tTestResult = stats.ttest_ind(fraud_name_uid_normal['changed'], fraud_name_uid_black['changed'], equal_var=False)\n",
    "\n",
    "tTestResult"
   ]
  },
  {
   "cell_type": "code",
   "execution_count": null,
   "metadata": {},
   "outputs": [],
   "source": []
  },
  {
   "cell_type": "markdown",
   "metadata": {},
   "source": [
    "## black user와 white user의 휴대폰 변경 횟수 T-Test"
   ]
  },
  {
   "cell_type": "code",
   "execution_count": 27,
   "metadata": {},
   "outputs": [
    {
     "data": {
      "text/html": [
       "<div>\n",
       "<style scoped>\n",
       "    .dataframe tbody tr th:only-of-type {\n",
       "        vertical-align: middle;\n",
       "    }\n",
       "\n",
       "    .dataframe tbody tr th {\n",
       "        vertical-align: top;\n",
       "    }\n",
       "\n",
       "    .dataframe thead th {\n",
       "        text-align: right;\n",
       "    }\n",
       "</style>\n",
       "<table border=\"1\" class=\"dataframe\">\n",
       "  <thead>\n",
       "    <tr style=\"text-align: right;\">\n",
       "      <th></th>\n",
       "      <th>date</th>\n",
       "      <th>uid</th>\n",
       "    </tr>\n",
       "  </thead>\n",
       "  <tbody>\n",
       "    <tr>\n",
       "      <th>434520</th>\n",
       "      <td>2019-07-04 11:54:52</td>\n",
       "      <td>5000124</td>\n",
       "    </tr>\n",
       "    <tr>\n",
       "      <th>434521</th>\n",
       "      <td>2019-07-04 11:59:15</td>\n",
       "      <td>9245231</td>\n",
       "    </tr>\n",
       "    <tr>\n",
       "      <th>434522</th>\n",
       "      <td>2019-07-04 11:59:15</td>\n",
       "      <td>7375046</td>\n",
       "    </tr>\n",
       "    <tr>\n",
       "      <th>434523</th>\n",
       "      <td>2019-07-04 11:59:45</td>\n",
       "      <td>9325895</td>\n",
       "    </tr>\n",
       "    <tr>\n",
       "      <th>434524</th>\n",
       "      <td>2019-07-04 11:59:45</td>\n",
       "      <td>5000124</td>\n",
       "    </tr>\n",
       "  </tbody>\n",
       "</table>\n",
       "</div>"
      ],
      "text/plain": [
       "                       date      uid\n",
       "434520  2019-07-04 11:54:52  5000124\n",
       "434521  2019-07-04 11:59:15  9245231\n",
       "434522  2019-07-04 11:59:15  7375046\n",
       "434523  2019-07-04 11:59:45  9325895\n",
       "434524  2019-07-04 11:59:45  5000124"
      ]
     },
     "execution_count": 27,
     "metadata": {},
     "output_type": "execute_result"
    }
   ],
   "source": [
    "read_path = '../csv/changed_phone_raw.csv'\n",
    "fraud_phone_raw = pd.read_csv(read_path)\n",
    "\n",
    "fraud_phone_raw.tail()"
   ]
  },
  {
   "cell_type": "code",
   "execution_count": 28,
   "metadata": {},
   "outputs": [
    {
     "data": {
      "text/html": [
       "<div>\n",
       "<style scoped>\n",
       "    .dataframe tbody tr th:only-of-type {\n",
       "        vertical-align: middle;\n",
       "    }\n",
       "\n",
       "    .dataframe tbody tr th {\n",
       "        vertical-align: top;\n",
       "    }\n",
       "\n",
       "    .dataframe thead th {\n",
       "        text-align: right;\n",
       "    }\n",
       "</style>\n",
       "<table border=\"1\" class=\"dataframe\">\n",
       "  <thead>\n",
       "    <tr style=\"text-align: right;\">\n",
       "      <th></th>\n",
       "      <th>uid</th>\n",
       "      <th>changed</th>\n",
       "    </tr>\n",
       "  </thead>\n",
       "  <tbody>\n",
       "    <tr>\n",
       "      <th>351970</th>\n",
       "      <td>9325547</td>\n",
       "      <td>1</td>\n",
       "    </tr>\n",
       "    <tr>\n",
       "      <th>351971</th>\n",
       "      <td>9325556</td>\n",
       "      <td>1</td>\n",
       "    </tr>\n",
       "    <tr>\n",
       "      <th>351972</th>\n",
       "      <td>9325757</td>\n",
       "      <td>1</td>\n",
       "    </tr>\n",
       "    <tr>\n",
       "      <th>351973</th>\n",
       "      <td>9325864</td>\n",
       "      <td>1</td>\n",
       "    </tr>\n",
       "    <tr>\n",
       "      <th>351974</th>\n",
       "      <td>9325895</td>\n",
       "      <td>1</td>\n",
       "    </tr>\n",
       "  </tbody>\n",
       "</table>\n",
       "</div>"
      ],
      "text/plain": [
       "            uid  changed\n",
       "351970  9325547        1\n",
       "351971  9325556        1\n",
       "351972  9325757        1\n",
       "351973  9325864        1\n",
       "351974  9325895        1"
      ]
     },
     "execution_count": 28,
     "metadata": {},
     "output_type": "execute_result"
    }
   ],
   "source": [
    "fraud_phone = fraud_phone_raw.groupby(['uid'], as_index=False).agg({'date': 'count'})\n",
    "\n",
    "fraud_phone = fraud_phone.rename(columns={'date': 'changed'})\n",
    "fraud_phone['uid'] = fraud_phone['uid'].astype(str)\n",
    "\n",
    "fraud_phone.tail()"
   ]
  },
  {
   "cell_type": "code",
   "execution_count": 29,
   "metadata": {},
   "outputs": [
    {
     "data": {
      "text/html": [
       "<div>\n",
       "<style scoped>\n",
       "    .dataframe tbody tr th:only-of-type {\n",
       "        vertical-align: middle;\n",
       "    }\n",
       "\n",
       "    .dataframe tbody tr th {\n",
       "        vertical-align: top;\n",
       "    }\n",
       "\n",
       "    .dataframe thead th {\n",
       "        text-align: right;\n",
       "    }\n",
       "</style>\n",
       "<table border=\"1\" class=\"dataframe\">\n",
       "  <thead>\n",
       "    <tr style=\"text-align: right;\">\n",
       "      <th></th>\n",
       "      <th>uid</th>\n",
       "      <th>changed</th>\n",
       "      <th>help</th>\n",
       "      <th>block</th>\n",
       "      <th>block_by_operation</th>\n",
       "    </tr>\n",
       "  </thead>\n",
       "  <tbody>\n",
       "    <tr>\n",
       "      <th>352755</th>\n",
       "      <td>9325547</td>\n",
       "      <td>1</td>\n",
       "      <td>0.0</td>\n",
       "      <td>0.0</td>\n",
       "      <td>0.0</td>\n",
       "    </tr>\n",
       "    <tr>\n",
       "      <th>352756</th>\n",
       "      <td>9325556</td>\n",
       "      <td>1</td>\n",
       "      <td>0.0</td>\n",
       "      <td>0.0</td>\n",
       "      <td>0.0</td>\n",
       "    </tr>\n",
       "    <tr>\n",
       "      <th>352757</th>\n",
       "      <td>9325757</td>\n",
       "      <td>1</td>\n",
       "      <td>0.0</td>\n",
       "      <td>0.0</td>\n",
       "      <td>0.0</td>\n",
       "    </tr>\n",
       "    <tr>\n",
       "      <th>352758</th>\n",
       "      <td>9325864</td>\n",
       "      <td>1</td>\n",
       "      <td>0.0</td>\n",
       "      <td>0.0</td>\n",
       "      <td>0.0</td>\n",
       "    </tr>\n",
       "    <tr>\n",
       "      <th>352759</th>\n",
       "      <td>9325895</td>\n",
       "      <td>1</td>\n",
       "      <td>0.0</td>\n",
       "      <td>0.0</td>\n",
       "      <td>0.0</td>\n",
       "    </tr>\n",
       "  </tbody>\n",
       "</table>\n",
       "</div>"
      ],
      "text/plain": [
       "            uid  changed  help  block  block_by_operation\n",
       "352755  9325547        1   0.0    0.0                 0.0\n",
       "352756  9325556        1   0.0    0.0                 0.0\n",
       "352757  9325757        1   0.0    0.0                 0.0\n",
       "352758  9325864        1   0.0    0.0                 0.0\n",
       "352759  9325895        1   0.0    0.0                 0.0"
      ]
     },
     "execution_count": 29,
     "metadata": {},
     "output_type": "execute_result"
    }
   ],
   "source": [
    "fraud_phone_uid = pd.merge(fraud_phone, fraud_uid, on=['uid'], how='left')\n",
    "\n",
    "fraud_phone_uid = fraud_phone_uid.drop(['black_source'], axis=1).fillna(0)\n",
    "\n",
    "fraud_phone_uid.tail()"
   ]
  },
  {
   "cell_type": "markdown",
   "metadata": {},
   "source": [
    "### help, 상담센터 신고된 유저"
   ]
  },
  {
   "cell_type": "code",
   "execution_count": 30,
   "metadata": {},
   "outputs": [],
   "source": [
    "fraud_phone_uid_normal = fraud_phone_uid[fraud_phone_uid['help'] == 0]\n",
    "fraud_phone_uid_black = fraud_phone_uid[fraud_phone_uid['help'] == 1]"
   ]
  },
  {
   "cell_type": "code",
   "execution_count": 31,
   "metadata": {},
   "outputs": [
    {
     "data": {
      "text/plain": [
       "(1671050, 92750)"
      ]
     },
     "execution_count": 31,
     "metadata": {},
     "output_type": "execute_result"
    }
   ],
   "source": [
    "# 샘플 수 비교\n",
    "np.size(fraud_phone_uid_normal), np.size(fraud_phone_uid_black)"
   ]
  },
  {
   "cell_type": "code",
   "execution_count": 32,
   "metadata": {},
   "outputs": [
    {
     "data": {
      "text/plain": [
       "(1.219724125549804, 1.5118059299191375)"
      ]
     },
     "execution_count": 32,
     "metadata": {},
     "output_type": "execute_result"
    }
   ],
   "source": [
    "# 평균 비교\n",
    "np.mean(fraud_phone_uid_normal['changed']), np.mean(fraud_phone_uid_black['changed'])"
   ]
  },
  {
   "cell_type": "code",
   "execution_count": 33,
   "metadata": {},
   "outputs": [
    {
     "data": {
      "text/plain": [
       "LeveneResult(statistic=2796.9433308772304, pvalue=0.0)"
      ]
     },
     "execution_count": 33,
     "metadata": {},
     "output_type": "execute_result"
    }
   ],
   "source": [
    "# 등분산 검정\n",
    "leveneTest = stats.levene(fraud_phone_uid_normal['changed'], fraud_phone_uid_black['changed'])\n",
    "\n",
    "leveneTest"
   ]
  },
  {
   "cell_type": "code",
   "execution_count": 34,
   "metadata": {},
   "outputs": [
    {
     "data": {
      "text/plain": [
       "Ttest_indResult(statistic=-32.8589930646798, pvalue=1.9010494159961004e-230)"
      ]
     },
     "execution_count": 34,
     "metadata": {},
     "output_type": "execute_result"
    }
   ],
   "source": [
    "# T-test\n",
    "tTestResult = stats.ttest_ind(fraud_phone_uid_normal['changed'], fraud_phone_uid_black['changed'], equal_var=False)\n",
    "\n",
    "tTestResult"
   ]
  },
  {
   "cell_type": "markdown",
   "metadata": {},
   "source": [
    "### block, 영구 제재된 유저"
   ]
  },
  {
   "cell_type": "code",
   "execution_count": 35,
   "metadata": {},
   "outputs": [],
   "source": [
    "fraud_phone_uid_normal = fraud_phone_uid[fraud_phone_uid['block'] == 0]\n",
    "fraud_phone_uid_black = fraud_phone_uid[fraud_phone_uid['block'] == 1]"
   ]
  },
  {
   "cell_type": "code",
   "execution_count": 36,
   "metadata": {},
   "outputs": [
    {
     "data": {
      "text/plain": [
       "(1718630, 45170)"
      ]
     },
     "execution_count": 36,
     "metadata": {},
     "output_type": "execute_result"
    }
   ],
   "source": [
    "# 샘플 수 비교\n",
    "np.size(fraud_phone_uid_normal), np.size(fraud_phone_uid_black)"
   ]
  },
  {
   "cell_type": "code",
   "execution_count": 37,
   "metadata": {},
   "outputs": [
    {
     "data": {
      "text/plain": [
       "(1.2290283539796234, 1.4654638034093426)"
      ]
     },
     "execution_count": 37,
     "metadata": {},
     "output_type": "execute_result"
    }
   ],
   "source": [
    "# 평균 비교\n",
    "np.mean(fraud_phone_uid_normal['changed']), np.mean(fraud_phone_uid_black['changed'])"
   ]
  },
  {
   "cell_type": "code",
   "execution_count": 38,
   "metadata": {},
   "outputs": [
    {
     "data": {
      "text/plain": [
       "LeveneResult(statistic=913.1073165499738, pvalue=2.5073199830925078e-200)"
      ]
     },
     "execution_count": 38,
     "metadata": {},
     "output_type": "execute_result"
    }
   ],
   "source": [
    "# 등분산 검정\n",
    "leveneTest = stats.levene(fraud_phone_uid_normal['changed'], fraud_phone_uid_black['changed'])\n",
    "\n",
    "leveneTest"
   ]
  },
  {
   "cell_type": "code",
   "execution_count": 39,
   "metadata": {},
   "outputs": [
    {
     "data": {
      "text/plain": [
       "Ttest_indResult(statistic=-23.524199133055664, pvalue=6.451233280996861e-119)"
      ]
     },
     "execution_count": 39,
     "metadata": {},
     "output_type": "execute_result"
    }
   ],
   "source": [
    "# T-test\n",
    "tTestResult = stats.ttest_ind(fraud_phone_uid_normal['changed'], fraud_phone_uid_black['changed'], equal_var=False)\n",
    "\n",
    "tTestResult"
   ]
  },
  {
   "cell_type": "markdown",
   "metadata": {},
   "source": [
    "### operation, 운영팀에서 처리한 유저"
   ]
  },
  {
   "cell_type": "code",
   "execution_count": 40,
   "metadata": {},
   "outputs": [],
   "source": [
    "fraud_phone_uid_normal = fraud_phone_uid[fraud_phone_uid['block_by_operation'] == 0]\n",
    "fraud_phone_uid_black = fraud_phone_uid[fraud_phone_uid['block_by_operation'] == 1]"
   ]
  },
  {
   "cell_type": "code",
   "execution_count": 41,
   "metadata": {},
   "outputs": [
    {
     "data": {
      "text/plain": [
       "(1750060, 13740)"
      ]
     },
     "execution_count": 41,
     "metadata": {},
     "output_type": "execute_result"
    }
   ],
   "source": [
    "# 샘플 수 비교\n",
    "np.size(fraud_phone_uid_normal), np.size(fraud_phone_uid_black)"
   ]
  },
  {
   "cell_type": "code",
   "execution_count": 42,
   "metadata": {},
   "outputs": [
    {
     "data": {
      "text/plain": [
       "(1.2333234289110087, 1.4592430858806404)"
      ]
     },
     "execution_count": 42,
     "metadata": {},
     "output_type": "execute_result"
    }
   ],
   "source": [
    "# 평균 비교\n",
    "np.mean(fraud_phone_uid_normal['changed']), np.mean(fraud_phone_uid_black['changed'])"
   ]
  },
  {
   "cell_type": "code",
   "execution_count": 43,
   "metadata": {},
   "outputs": [
    {
     "data": {
      "text/plain": [
       "LeveneResult(statistic=257.75457128903776, pvalue=5.553551371173039e-58)"
      ]
     },
     "execution_count": 43,
     "metadata": {},
     "output_type": "execute_result"
    }
   ],
   "source": [
    "# 등분산 검정\n",
    "leveneTest = stats.levene(fraud_phone_uid_normal['changed'], fraud_phone_uid_black['changed'])\n",
    "\n",
    "leveneTest"
   ]
  },
  {
   "cell_type": "code",
   "execution_count": 44,
   "metadata": {},
   "outputs": [
    {
     "data": {
      "text/plain": [
       "Ttest_indResult(statistic=-12.649150895428923, pvalue=1.073359514808459e-35)"
      ]
     },
     "execution_count": 44,
     "metadata": {},
     "output_type": "execute_result"
    }
   ],
   "source": [
    "# T-test\n",
    "tTestResult = stats.ttest_ind(fraud_phone_uid_normal['changed'], fraud_phone_uid_black['changed'], equal_var=False)\n",
    "\n",
    "tTestResult"
   ]
  },
  {
   "cell_type": "markdown",
   "metadata": {},
   "source": [
    "## black user와 white user의 리뷰 작성 횟수 T-Test"
   ]
  },
  {
   "cell_type": "code",
   "execution_count": 45,
   "metadata": {},
   "outputs": [
    {
     "data": {
      "text/html": [
       "<div>\n",
       "<style scoped>\n",
       "    .dataframe tbody tr th:only-of-type {\n",
       "        vertical-align: middle;\n",
       "    }\n",
       "\n",
       "    .dataframe tbody tr th {\n",
       "        vertical-align: top;\n",
       "    }\n",
       "\n",
       "    .dataframe thead th {\n",
       "        text-align: right;\n",
       "    }\n",
       "</style>\n",
       "<table border=\"1\" class=\"dataframe\">\n",
       "  <thead>\n",
       "    <tr style=\"text-align: right;\">\n",
       "      <th></th>\n",
       "      <th>time</th>\n",
       "      <th>writer_uid</th>\n",
       "    </tr>\n",
       "  </thead>\n",
       "  <tbody>\n",
       "    <tr>\n",
       "      <th>5902957</th>\n",
       "      <td>2019-07-04 12:22:48</td>\n",
       "      <td>6439210</td>\n",
       "    </tr>\n",
       "    <tr>\n",
       "      <th>5902958</th>\n",
       "      <td>2019-07-04 12:23:38</td>\n",
       "      <td>4204619</td>\n",
       "    </tr>\n",
       "    <tr>\n",
       "      <th>5902959</th>\n",
       "      <td>2019-07-04 12:23:42</td>\n",
       "      <td>8994648</td>\n",
       "    </tr>\n",
       "    <tr>\n",
       "      <th>5902960</th>\n",
       "      <td>2019-07-04 12:23:47</td>\n",
       "      <td>1045672</td>\n",
       "    </tr>\n",
       "    <tr>\n",
       "      <th>5902961</th>\n",
       "      <td>2019-07-04 12:27:13</td>\n",
       "      <td>7810960</td>\n",
       "    </tr>\n",
       "  </tbody>\n",
       "</table>\n",
       "</div>"
      ],
      "text/plain": [
       "                        time  writer_uid\n",
       "5902957  2019-07-04 12:22:48     6439210\n",
       "5902958  2019-07-04 12:23:38     4204619\n",
       "5902959  2019-07-04 12:23:42     8994648\n",
       "5902960  2019-07-04 12:23:47     1045672\n",
       "5902961  2019-07-04 12:27:13     7810960"
      ]
     },
     "execution_count": 45,
     "metadata": {},
     "output_type": "execute_result"
    }
   ],
   "source": [
    "read_path = '../csv/review_writer.csv'\n",
    "fraud_review_writer_raw = pd.read_csv(read_path)\n",
    "\n",
    "fraud_review_writer_raw.tail()"
   ]
  },
  {
   "cell_type": "code",
   "execution_count": 46,
   "metadata": {},
   "outputs": [
    {
     "data": {
      "text/html": [
       "<div>\n",
       "<style scoped>\n",
       "    .dataframe tbody tr th:only-of-type {\n",
       "        vertical-align: middle;\n",
       "    }\n",
       "\n",
       "    .dataframe tbody tr th {\n",
       "        vertical-align: top;\n",
       "    }\n",
       "\n",
       "    .dataframe thead th {\n",
       "        text-align: right;\n",
       "    }\n",
       "</style>\n",
       "<table border=\"1\" class=\"dataframe\">\n",
       "  <thead>\n",
       "    <tr style=\"text-align: right;\">\n",
       "      <th></th>\n",
       "      <th>uid</th>\n",
       "      <th>writed</th>\n",
       "    </tr>\n",
       "  </thead>\n",
       "  <tbody>\n",
       "    <tr>\n",
       "      <th>1110787</th>\n",
       "      <td>9316109</td>\n",
       "      <td>1</td>\n",
       "    </tr>\n",
       "    <tr>\n",
       "      <th>1110788</th>\n",
       "      <td>9320668</td>\n",
       "      <td>1</td>\n",
       "    </tr>\n",
       "    <tr>\n",
       "      <th>1110789</th>\n",
       "      <td>9321110</td>\n",
       "      <td>1</td>\n",
       "    </tr>\n",
       "    <tr>\n",
       "      <th>1110790</th>\n",
       "      <td>9321727</td>\n",
       "      <td>1</td>\n",
       "    </tr>\n",
       "    <tr>\n",
       "      <th>1110791</th>\n",
       "      <td>9322225</td>\n",
       "      <td>1</td>\n",
       "    </tr>\n",
       "  </tbody>\n",
       "</table>\n",
       "</div>"
      ],
      "text/plain": [
       "             uid  writed\n",
       "1110787  9316109       1\n",
       "1110788  9320668       1\n",
       "1110789  9321110       1\n",
       "1110790  9321727       1\n",
       "1110791  9322225       1"
      ]
     },
     "execution_count": 46,
     "metadata": {},
     "output_type": "execute_result"
    }
   ],
   "source": [
    "fraud_review_writer = fraud_review_writer_raw.groupby(['writer_uid'], as_index=False).agg({'time': 'count'})\n",
    "\n",
    "fraud_review_writer = fraud_review_writer.rename(columns={'time': 'writed', 'writer_uid': 'uid'})\n",
    "fraud_review_writer['uid'] = fraud_review_writer['uid'].astype(str)\n",
    "\n",
    "fraud_review_writer.tail()"
   ]
  },
  {
   "cell_type": "code",
   "execution_count": 47,
   "metadata": {},
   "outputs": [
    {
     "data": {
      "text/html": [
       "<div>\n",
       "<style scoped>\n",
       "    .dataframe tbody tr th:only-of-type {\n",
       "        vertical-align: middle;\n",
       "    }\n",
       "\n",
       "    .dataframe tbody tr th {\n",
       "        vertical-align: top;\n",
       "    }\n",
       "\n",
       "    .dataframe thead th {\n",
       "        text-align: right;\n",
       "    }\n",
       "</style>\n",
       "<table border=\"1\" class=\"dataframe\">\n",
       "  <thead>\n",
       "    <tr style=\"text-align: right;\">\n",
       "      <th></th>\n",
       "      <th>uid</th>\n",
       "      <th>writed</th>\n",
       "      <th>help</th>\n",
       "      <th>block</th>\n",
       "      <th>block_by_operation</th>\n",
       "    </tr>\n",
       "  </thead>\n",
       "  <tbody>\n",
       "    <tr>\n",
       "      <th>1112416</th>\n",
       "      <td>9316109</td>\n",
       "      <td>1</td>\n",
       "      <td>0.0</td>\n",
       "      <td>0.0</td>\n",
       "      <td>0.0</td>\n",
       "    </tr>\n",
       "    <tr>\n",
       "      <th>1112417</th>\n",
       "      <td>9320668</td>\n",
       "      <td>1</td>\n",
       "      <td>0.0</td>\n",
       "      <td>0.0</td>\n",
       "      <td>0.0</td>\n",
       "    </tr>\n",
       "    <tr>\n",
       "      <th>1112418</th>\n",
       "      <td>9321110</td>\n",
       "      <td>1</td>\n",
       "      <td>0.0</td>\n",
       "      <td>0.0</td>\n",
       "      <td>0.0</td>\n",
       "    </tr>\n",
       "    <tr>\n",
       "      <th>1112419</th>\n",
       "      <td>9321727</td>\n",
       "      <td>1</td>\n",
       "      <td>0.0</td>\n",
       "      <td>0.0</td>\n",
       "      <td>0.0</td>\n",
       "    </tr>\n",
       "    <tr>\n",
       "      <th>1112420</th>\n",
       "      <td>9322225</td>\n",
       "      <td>1</td>\n",
       "      <td>0.0</td>\n",
       "      <td>0.0</td>\n",
       "      <td>0.0</td>\n",
       "    </tr>\n",
       "  </tbody>\n",
       "</table>\n",
       "</div>"
      ],
      "text/plain": [
       "             uid  writed  help  block  block_by_operation\n",
       "1112416  9316109       1   0.0    0.0                 0.0\n",
       "1112417  9320668       1   0.0    0.0                 0.0\n",
       "1112418  9321110       1   0.0    0.0                 0.0\n",
       "1112419  9321727       1   0.0    0.0                 0.0\n",
       "1112420  9322225       1   0.0    0.0                 0.0"
      ]
     },
     "execution_count": 47,
     "metadata": {},
     "output_type": "execute_result"
    }
   ],
   "source": [
    "fraud_review_writer_uid = pd.merge(fraud_review_writer, fraud_uid, on=['uid'], how='left')\n",
    "\n",
    "fraud_review_writer_uid = fraud_review_writer_uid.drop(['black_source'], axis=1).fillna(0)\n",
    "\n",
    "fraud_review_writer_uid.tail()"
   ]
  },
  {
   "cell_type": "markdown",
   "metadata": {},
   "source": [
    "### help, 상담센터 신고된 유저"
   ]
  },
  {
   "cell_type": "code",
   "execution_count": 48,
   "metadata": {},
   "outputs": [],
   "source": [
    "fraud_review_writer_uid_normal = fraud_review_writer_uid[fraud_review_writer_uid['help'] == 0]\n",
    "fraud_review_writer_uid_black = fraud_review_writer_uid[fraud_review_writer_uid['help'] == 1]"
   ]
  },
  {
   "cell_type": "code",
   "execution_count": 49,
   "metadata": {},
   "outputs": [
    {
     "data": {
      "text/plain": [
       "(5238555, 323550)"
      ]
     },
     "execution_count": 49,
     "metadata": {},
     "output_type": "execute_result"
    }
   ],
   "source": [
    "# 샘플 수 비교\n",
    "np.size(fraud_review_writer_uid_normal), np.size(fraud_review_writer_uid_black)"
   ]
  },
  {
   "cell_type": "code",
   "execution_count": 50,
   "metadata": {},
   "outputs": [
    {
     "data": {
      "text/plain": [
       "(4.822710652078674, 13.474748879616751)"
      ]
     },
     "execution_count": 50,
     "metadata": {},
     "output_type": "execute_result"
    }
   ],
   "source": [
    "# 평균 비교\n",
    "np.mean(fraud_review_writer_uid_normal['writed']), np.mean(fraud_review_writer_uid_black['writed'])"
   ]
  },
  {
   "cell_type": "code",
   "execution_count": 51,
   "metadata": {},
   "outputs": [
    {
     "data": {
      "text/plain": [
       "LeveneResult(statistic=15048.115826535262, pvalue=0.0)"
      ]
     },
     "execution_count": 51,
     "metadata": {},
     "output_type": "execute_result"
    }
   ],
   "source": [
    "# 등분산 검정\n",
    "leveneTest = stats.levene(fraud_review_writer_uid_normal['writed'], fraud_review_writer_uid_black['writed'])\n",
    "\n",
    "leveneTest"
   ]
  },
  {
   "cell_type": "code",
   "execution_count": 52,
   "metadata": {},
   "outputs": [
    {
     "data": {
      "text/plain": [
       "Ttest_indResult(statistic=-54.20249604555359, pvalue=0.0)"
      ]
     },
     "execution_count": 52,
     "metadata": {},
     "output_type": "execute_result"
    }
   ],
   "source": [
    "# T-test\n",
    "tTestResult = stats.ttest_ind(fraud_review_writer_uid_normal['writed'], fraud_review_writer_uid_black['writed'], equal_var=False)\n",
    "\n",
    "tTestResult"
   ]
  },
  {
   "cell_type": "markdown",
   "metadata": {},
   "source": [
    "### block, 영구 제재된 유저"
   ]
  },
  {
   "cell_type": "code",
   "execution_count": 53,
   "metadata": {},
   "outputs": [],
   "source": [
    "fraud_review_writer_uid_normal = fraud_review_writer_uid[fraud_review_writer_uid['block'] == 0]\n",
    "fraud_review_writer_uid_black = fraud_review_writer_uid[fraud_review_writer_uid['block'] == 1]"
   ]
  },
  {
   "cell_type": "code",
   "execution_count": 54,
   "metadata": {},
   "outputs": [
    {
     "data": {
      "text/plain": [
       "(5396740, 165365)"
      ]
     },
     "execution_count": 54,
     "metadata": {},
     "output_type": "execute_result"
    }
   ],
   "source": [
    "# 샘플 수 비교\n",
    "np.size(fraud_review_writer_uid_normal), np.size(fraud_review_writer_uid_black)"
   ]
  },
  {
   "cell_type": "code",
   "execution_count": 55,
   "metadata": {},
   "outputs": [
    {
     "data": {
      "text/plain": [
       "(5.2216662281303154, 8.731079732712484)"
      ]
     },
     "execution_count": 55,
     "metadata": {},
     "output_type": "execute_result"
    }
   ],
   "source": [
    "# 평균 비교\n",
    "np.mean(fraud_review_writer_uid_normal['writed']), np.mean(fraud_review_writer_uid_black['writed'])"
   ]
  },
  {
   "cell_type": "code",
   "execution_count": 56,
   "metadata": {},
   "outputs": [
    {
     "data": {
      "text/plain": [
       "LeveneResult(statistic=1203.5252309507368, pvalue=1.4476874595009652e-263)"
      ]
     },
     "execution_count": 56,
     "metadata": {},
     "output_type": "execute_result"
    }
   ],
   "source": [
    "# 등분산 검정\n",
    "leveneTest = stats.levene(fraud_review_writer_uid_normal['writed'], fraud_review_writer_uid_black['writed'])\n",
    "\n",
    "leveneTest"
   ]
  },
  {
   "cell_type": "code",
   "execution_count": 58,
   "metadata": {},
   "outputs": [
    {
     "data": {
      "text/plain": [
       "Ttest_indResult(statistic=-28.92924257275353, pvalue=8.06609605512334e-182)"
      ]
     },
     "execution_count": 58,
     "metadata": {},
     "output_type": "execute_result"
    }
   ],
   "source": [
    "# T-test\n",
    "tTestResult = stats.ttest_ind(fraud_review_writer_uid_normal['writed'], fraud_review_writer_uid_black['writed'], equal_var=False)\n",
    "\n",
    "tTestResult"
   ]
  },
  {
   "cell_type": "markdown",
   "metadata": {},
   "source": [
    "### operation, 운영팀에서 처리한 유저"
   ]
  },
  {
   "cell_type": "code",
   "execution_count": 59,
   "metadata": {},
   "outputs": [],
   "source": [
    "fraud_review_writer_uid_normal = fraud_review_writer_uid[fraud_review_writer_uid['block_by_operation'] == 0]\n",
    "fraud_review_writer_uid_black = fraud_review_writer_uid[fraud_review_writer_uid['block_by_operation'] == 1]"
   ]
  },
  {
   "cell_type": "code",
   "execution_count": 60,
   "metadata": {},
   "outputs": [
    {
     "data": {
      "text/plain": [
       "(5530980, 31125)"
      ]
     },
     "execution_count": 60,
     "metadata": {},
     "output_type": "execute_result"
    }
   ],
   "source": [
    "# 샘플 수 비교\n",
    "np.size(fraud_review_writer_uid_normal), np.size(fraud_review_writer_uid_black)"
   ]
  },
  {
   "cell_type": "code",
   "execution_count": 61,
   "metadata": {},
   "outputs": [
    {
     "data": {
      "text/plain": [
       "(5.298332302774553, 10.243212851405623)"
      ]
     },
     "execution_count": 61,
     "metadata": {},
     "output_type": "execute_result"
    }
   ],
   "source": [
    "# 평균 비교\n",
    "np.mean(fraud_review_writer_uid_normal['writed']), np.mean(fraud_review_writer_uid_black['writed'])"
   ]
  },
  {
   "cell_type": "code",
   "execution_count": 62,
   "metadata": {},
   "outputs": [
    {
     "data": {
      "text/plain": [
       "LeveneResult(statistic=502.5365131726051, pvalue=2.8236969570967546e-111)"
      ]
     },
     "execution_count": 62,
     "metadata": {},
     "output_type": "execute_result"
    }
   ],
   "source": [
    "# 등분산 검정\n",
    "leveneTest = stats.levene(fraud_review_writer_uid_normal['writed'], fraud_review_writer_uid_black['writed'])\n",
    "\n",
    "leveneTest"
   ]
  },
  {
   "cell_type": "code",
   "execution_count": 63,
   "metadata": {},
   "outputs": [
    {
     "data": {
      "text/plain": [
       "Ttest_indResult(statistic=-15.137973808885832, pvalue=7.196922087061975e-51)"
      ]
     },
     "execution_count": 63,
     "metadata": {},
     "output_type": "execute_result"
    }
   ],
   "source": [
    "# T-test\n",
    "tTestResult = stats.ttest_ind(fraud_review_writer_uid_normal['writed'], fraud_review_writer_uid_black['writed'], equal_var=False)\n",
    "\n",
    "tTestResult"
   ]
  },
  {
   "cell_type": "code",
   "execution_count": null,
   "metadata": {},
   "outputs": [],
   "source": []
  },
  {
   "cell_type": "code",
   "execution_count": null,
   "metadata": {},
   "outputs": [],
   "source": []
  }
 ],
 "metadata": {
  "kernelspec": {
   "display_name": "Python 3",
   "language": "python",
   "name": "python3"
  },
  "language_info": {
   "codemirror_mode": {
    "name": "ipython",
    "version": 3
   },
   "file_extension": ".py",
   "mimetype": "text/x-python",
   "name": "python",
   "nbconvert_exporter": "python",
   "pygments_lexer": "ipython3",
   "version": "3.7.3"
  }
 },
 "nbformat": 4,
 "nbformat_minor": 2
}
