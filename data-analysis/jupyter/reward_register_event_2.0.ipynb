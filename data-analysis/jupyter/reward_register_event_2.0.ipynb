{
 "cells": [
  {
   "cell_type": "code",
   "execution_count": 2,
   "metadata": {},
   "outputs": [],
   "source": [
    "import pandas as pd\n",
    "import json\n",
    "from scipy import stats\n",
    "import numpy as np"
   ]
  },
  {
   "cell_type": "markdown",
   "metadata": {},
   "source": [
    "# 이벤트 기간에 가입한 유저"
   ]
  },
  {
   "cell_type": "markdown",
   "metadata": {},
   "source": [
    "### 가입 전체 유저"
   ]
  },
  {
   "cell_type": "raw",
   "metadata": {},
   "source": [
    "# reward_register_2.0_all_user.csv 산출 쿼리\n",
    "\n",
    "select date_format(u.join_date, '%Y-%m-%d') as join_date, u.id as uid\n",
    "from user u\n",
    "where date_format(u.join_date, '%Y-%m-%d') in ('2019-12-04', '2019-12-05', '2019-12-08')"
   ]
  },
  {
   "cell_type": "code",
   "execution_count": 4,
   "metadata": {},
   "outputs": [
    {
     "data": {
      "text/html": [
       "<div>\n",
       "<style scoped>\n",
       "    .dataframe tbody tr th:only-of-type {\n",
       "        vertical-align: middle;\n",
       "    }\n",
       "\n",
       "    .dataframe tbody tr th {\n",
       "        vertical-align: top;\n",
       "    }\n",
       "\n",
       "    .dataframe thead th {\n",
       "        text-align: right;\n",
       "    }\n",
       "</style>\n",
       "<table border=\"1\" class=\"dataframe\">\n",
       "  <thead>\n",
       "    <tr style=\"text-align: right;\">\n",
       "      <th></th>\n",
       "      <th>join_date</th>\n",
       "      <th>uid</th>\n",
       "    </tr>\n",
       "  </thead>\n",
       "  <tbody>\n",
       "    <tr>\n",
       "      <td>16678</td>\n",
       "      <td>2019-12-08</td>\n",
       "      <td>10410217</td>\n",
       "    </tr>\n",
       "    <tr>\n",
       "      <td>16679</td>\n",
       "      <td>2019-12-08</td>\n",
       "      <td>10410218</td>\n",
       "    </tr>\n",
       "    <tr>\n",
       "      <td>16680</td>\n",
       "      <td>2019-12-08</td>\n",
       "      <td>10410219</td>\n",
       "    </tr>\n",
       "    <tr>\n",
       "      <td>16681</td>\n",
       "      <td>2019-12-08</td>\n",
       "      <td>10410220</td>\n",
       "    </tr>\n",
       "    <tr>\n",
       "      <td>16682</td>\n",
       "      <td>2019-12-08</td>\n",
       "      <td>10410221</td>\n",
       "    </tr>\n",
       "  </tbody>\n",
       "</table>\n",
       "</div>"
      ],
      "text/plain": [
       "        join_date       uid\n",
       "16678  2019-12-08  10410217\n",
       "16679  2019-12-08  10410218\n",
       "16680  2019-12-08  10410219\n",
       "16681  2019-12-08  10410220\n",
       "16682  2019-12-08  10410221"
      ]
     },
     "execution_count": 4,
     "metadata": {},
     "output_type": "execute_result"
    }
   ],
   "source": [
    "read_path = '../csv/reward_register_2.0_all_user.csv'\n",
    "all_user = pd.read_csv(read_path)\n",
    "\n",
    "all_user['uid'] = all_user['uid'].astype(str)\n",
    "\n",
    "all_user.tail()"
   ]
  },
  {
   "cell_type": "markdown",
   "metadata": {},
   "source": [
    "### 이벤트 대상 유저"
   ]
  },
  {
   "cell_type": "code",
   "execution_count": null,
   "metadata": {},
   "outputs": [],
   "source": [
    "read_path = '../csv/ㅇㄹ.csv'\n",
    "target_user = pd.read_csv(read_path)\n",
    "\n",
    "target_user = target_user[target_user['전송 실패'] != '전송 실패'] # 번개톡 전송 실패 제외\n",
    "\n",
    "target_user = target_user.rename(columns={'date': 'event_date'})\n",
    "\n",
    "target_user = target_user[['event_date', 'uid', 'test_group']]\n",
    "\n",
    "target_user['uid'] = target_user['uid'].astype(str)\n",
    "\n",
    "target_user.tail()"
   ]
  },
  {
   "cell_type": "markdown",
   "metadata": {},
   "source": [
    "### 전체 가입 유저와 이벤트 대상 유저 merge"
   ]
  },
  {
   "cell_type": "code",
   "execution_count": null,
   "metadata": {},
   "outputs": [],
   "source": []
  },
  {
   "cell_type": "code",
   "execution_count": null,
   "metadata": {},
   "outputs": [],
   "source": []
  },
  {
   "cell_type": "code",
   "execution_count": null,
   "metadata": {},
   "outputs": [],
   "source": []
  }
 ],
 "metadata": {
  "kernelspec": {
   "display_name": "Python 3",
   "language": "python",
   "name": "python3"
  },
  "language_info": {
   "codemirror_mode": {
    "name": "ipython",
    "version": 3
   },
   "file_extension": ".py",
   "mimetype": "text/x-python",
   "name": "python",
   "nbconvert_exporter": "python",
   "pygments_lexer": "ipython3",
   "version": "3.7.3"
  }
 },
 "nbformat": 4,
 "nbformat_minor": 4
}
