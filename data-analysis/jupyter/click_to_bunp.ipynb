{
 "cells": [
  {
   "cell_type": "code",
   "execution_count": 2,
   "metadata": {},
   "outputs": [],
   "source": [
    "import pandas as pd\n",
    "import numpy as np\n",
    "import json"
   ]
  },
  {
   "cell_type": "markdown",
   "metadata": {},
   "source": [
    "### 번프 파일 열기"
   ]
  },
  {
   "cell_type": "code",
   "execution_count": 13,
   "metadata": {},
   "outputs": [
    {
     "data": {
      "text/html": [
       "<div>\n",
       "<style scoped>\n",
       "    .dataframe tbody tr th:only-of-type {\n",
       "        vertical-align: middle;\n",
       "    }\n",
       "\n",
       "    .dataframe tbody tr th {\n",
       "        vertical-align: top;\n",
       "    }\n",
       "\n",
       "    .dataframe thead th {\n",
       "        text-align: right;\n",
       "    }\n",
       "</style>\n",
       "<table border=\"1\" class=\"dataframe\">\n",
       "  <thead>\n",
       "    <tr style=\"text-align: right;\">\n",
       "      <th></th>\n",
       "      <th>params</th>\n",
       "      <th>count_bunp</th>\n",
       "    </tr>\n",
       "  </thead>\n",
       "  <tbody>\n",
       "    <tr>\n",
       "      <th>543143</th>\n",
       "      <td>{\"seller_pid_price\": \"60000\", \"seller_address_...</td>\n",
       "      <td>1</td>\n",
       "    </tr>\n",
       "    <tr>\n",
       "      <th>543144</th>\n",
       "      <td>{\"seller_pid_price\": \"2700\", \"seller_address_a...</td>\n",
       "      <td>1</td>\n",
       "    </tr>\n",
       "    <tr>\n",
       "      <th>543145</th>\n",
       "      <td>{\"seller_pid_price\": 50000, \"seller_address_ad...</td>\n",
       "      <td>1</td>\n",
       "    </tr>\n",
       "    <tr>\n",
       "      <th>543146</th>\n",
       "      <td>{\"seller_pid_price\": \"60000\", \"seller_address_...</td>\n",
       "      <td>1</td>\n",
       "    </tr>\n",
       "    <tr>\n",
       "      <th>543147</th>\n",
       "      <td>{\"seller_pid_price\": \"8000\", \"seller_address_a...</td>\n",
       "      <td>1</td>\n",
       "    </tr>\n",
       "  </tbody>\n",
       "</table>\n",
       "</div>"
      ],
      "text/plain": [
       "                                                   params  count_bunp\n",
       "543143  {\"seller_pid_price\": \"60000\", \"seller_address_...           1\n",
       "543144  {\"seller_pid_price\": \"2700\", \"seller_address_a...           1\n",
       "543145  {\"seller_pid_price\": 50000, \"seller_address_ad...           1\n",
       "543146  {\"seller_pid_price\": \"60000\", \"seller_address_...           1\n",
       "543147  {\"seller_pid_price\": \"8000\", \"seller_address_a...           1"
      ]
     },
     "execution_count": 13,
     "metadata": {},
     "output_type": "execute_result"
    }
   ],
   "source": [
    "# 19년 4월 생성된 번프의 구매자와 상품 정보\n",
    "path = '../csv/keyword_bunp.csv'\n",
    "\n",
    "df_bunp = pd.read_csv(path)\n",
    "df_bunp.tail()"
   ]
  },
  {
   "cell_type": "code",
   "execution_count": 14,
   "metadata": {},
   "outputs": [
    {
     "name": "stdout",
     "output_type": "stream",
     "text": [
      "buyer_uid, this row is error\n",
      "seller_pid, this row is error\n"
     ]
    },
    {
     "data": {
      "text/html": [
       "<div>\n",
       "<style scoped>\n",
       "    .dataframe tbody tr th:only-of-type {\n",
       "        vertical-align: middle;\n",
       "    }\n",
       "\n",
       "    .dataframe tbody tr th {\n",
       "        vertical-align: top;\n",
       "    }\n",
       "\n",
       "    .dataframe thead th {\n",
       "        text-align: right;\n",
       "    }\n",
       "</style>\n",
       "<table border=\"1\" class=\"dataframe\">\n",
       "  <thead>\n",
       "    <tr style=\"text-align: right;\">\n",
       "      <th></th>\n",
       "      <th>count_bunp</th>\n",
       "      <th>buyer_uid</th>\n",
       "      <th>seller_pid</th>\n",
       "    </tr>\n",
       "  </thead>\n",
       "  <tbody>\n",
       "    <tr>\n",
       "      <th>543143</th>\n",
       "      <td>1</td>\n",
       "      <td>5497136</td>\n",
       "      <td>100024842</td>\n",
       "    </tr>\n",
       "    <tr>\n",
       "      <th>543144</th>\n",
       "      <td>1</td>\n",
       "      <td>8759763</td>\n",
       "      <td>98386441</td>\n",
       "    </tr>\n",
       "    <tr>\n",
       "      <th>543145</th>\n",
       "      <td>1</td>\n",
       "      <td>8533034</td>\n",
       "      <td>39038352</td>\n",
       "    </tr>\n",
       "    <tr>\n",
       "      <th>543146</th>\n",
       "      <td>1</td>\n",
       "      <td>8829307</td>\n",
       "      <td>100715056</td>\n",
       "    </tr>\n",
       "    <tr>\n",
       "      <th>543147</th>\n",
       "      <td>1</td>\n",
       "      <td>3119308</td>\n",
       "      <td>100619478</td>\n",
       "    </tr>\n",
       "  </tbody>\n",
       "</table>\n",
       "</div>"
      ],
      "text/plain": [
       "        count_bunp buyer_uid seller_pid\n",
       "543143           1   5497136  100024842\n",
       "543144           1   8759763   98386441\n",
       "543145           1   8533034   39038352\n",
       "543146           1   8829307  100715056\n",
       "543147           1   3119308  100619478"
      ]
     },
     "execution_count": 14,
     "metadata": {},
     "output_type": "execute_result"
    }
   ],
   "source": [
    "\n",
    "def json_parsing_buyer(row):\n",
    "    \n",
    "    try:\n",
    "\n",
    "        dic = json.loads(row)\n",
    "\n",
    "        buyer_uid = dic['buyer_uid']\n",
    "\n",
    "        return buyer_uid\n",
    "\n",
    "    except:\n",
    "        print('buyer_uid, this row is error')\n",
    "\n",
    "\n",
    "def json_parsing_pid(row):\n",
    "    \n",
    "    try:\n",
    "\n",
    "        dic = json.loads(row)\n",
    "\n",
    "        buyer_uid = dic['seller_pid']\n",
    "\n",
    "        return buyer_uid\n",
    "\n",
    "    except:\n",
    "        print('seller_pid, this row is error')\n",
    "\n",
    "        \n",
    "df_bunp['buyer_uid'] = df_bunp['params'].apply(json_parsing_buyer)\n",
    "df_bunp['seller_pid'] = df_bunp['params'].apply(json_parsing_pid)\n",
    "\n",
    "df_bunp = df_bunp.drop('params', axis=1) # delete json\n",
    "\n",
    "df_bunp.to_csv('../csv/tmp/df_bunp_1.csv', index=False, mode='w', header=True) #save\n",
    "\n",
    "df_bunp.tail()"
   ]
  },
  {
   "cell_type": "markdown",
   "metadata": {},
   "source": [
    "### 클릭 파일 열기"
   ]
  },
  {
   "cell_type": "code",
   "execution_count": null,
   "metadata": {},
   "outputs": [],
   "source": [
    "# 19년 4월 클릭된 상품과 유입된 키워드\n",
    "\n",
    "path = '../csv/keyword_click.csv'\n",
    "\n",
    "df_click = pd.read_csv(path)\n",
    "df_click = df_click[df_click.viewer_uid > 0] # 비회원 제거\n",
    "\n",
    "df_click['category_left3'] = df_click['category'].astype(str).str[:3]\n",
    "\n",
    "df_click_agg.to_csv('../csv/tmp/df_click.csv', index=False, mode='w', header=True) # save\n",
    "\n",
    "df_click.tail()"
   ]
  },
  {
   "cell_type": "code",
   "execution_count": null,
   "metadata": {},
   "outputs": [],
   "source": [
    "\n",
    "df_click_agg = df_click.groupby(['viewer_uid', 'viewer_device', 'keyword', 'category_3']).agg({'count_click': 'sum'})\n",
    "\n",
    "df_click_agg.tail().reset_index()\n",
    "\n",
    "df_click_agg.to_csv('../csv/tmp/df_click_agg_1.csv', index=False, mode='w', header=True) # save\n",
    "\n",
    "df_click_agg.tail()"
   ]
  }
 ],
 "metadata": {
  "kernelspec": {
   "display_name": "Python 3",
   "language": "python",
   "name": "python3"
  },
  "language_info": {
   "codemirror_mode": {
    "name": "ipython",
    "version": 3
   },
   "file_extension": ".py",
   "mimetype": "text/x-python",
   "name": "python",
   "nbconvert_exporter": "python",
   "pygments_lexer": "ipython3",
   "version": "3.7.3"
  }
 },
 "nbformat": 4,
 "nbformat_minor": 2
}
