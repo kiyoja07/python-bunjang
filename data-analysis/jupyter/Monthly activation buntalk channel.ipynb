{
 "cells": [
  {
   "cell_type": "code",
   "execution_count": 74,
   "metadata": {},
   "outputs": [],
   "source": [
    "import pymysql\n",
    "import pandas as pd\n",
    "from datetime import datetime\n",
    "from dateutil.relativedelta import relativedelta\n",
    "\n",
    "config = {\n",
    "    'host': 'analquick.cogfzn9i6pkm.ap-northeast-2.rds.amazonaws.com',\n",
    "    'dbname': 'quicket_log',\n",
    "    'user': 'lucas.kim',\n",
    "    'password': 'bvnklnowiebvxo#',\n",
    "    'port': '3306'\n",
    "}\n",
    "\n",
    "connection = pymysql.connect(host=config['host'],\n",
    "                             user=config['user'],\n",
    "                             password=config['password'],\n",
    "                             db=config['dbname'],\n",
    "                             charset='utf8',\n",
    "                             cursorclass=pymysql.cursors.DictCursor)"
   ]
  },
  {
   "cell_type": "code",
   "execution_count": 75,
   "metadata": {},
   "outputs": [],
   "source": [
    "# 쿼리 시작/종료일\n",
    "start_date = '2018-01-01'\n",
    "end_date = '2018-01-31'\n",
    "\n",
    "# string -> datetime\n",
    "start_date = datetime.strptime(start_date, \"%Y-%m-%d\")\n",
    "end_date = datetime.strptime(end_date, \"%Y-%m-%d\")\n",
    "\n",
    "# 산출할 쿼리\n",
    "query = \"\"\"\n",
    "\n",
    "select distinct channel_id \n",
    "from tb_message\n",
    "where update_time between %(query_since)s and %(query_until)s\n",
    "\n",
    "\"\"\"\n"
   ]
  },
  {
   "cell_type": "code",
   "execution_count": 76,
   "metadata": {},
   "outputs": [
    {
     "name": "stdout",
     "output_type": "stream",
     "text": [
      "2018-01-01\n",
      "2018-01-02\n",
      "2018-01-03\n",
      "2018-01-04\n",
      "2018-01-05\n",
      "2018-01-06\n",
      "2018-01-07\n",
      "2018-01-08\n",
      "2018-01-09\n",
      "2018-01-10\n",
      "2018-01-11\n",
      "2018-01-12\n",
      "2018-01-13\n",
      "2018-01-14\n",
      "2018-01-15\n",
      "2018-01-16\n",
      "2018-01-17\n",
      "2018-01-18\n",
      "2018-01-19\n",
      "2018-01-20\n",
      "2018-01-21\n",
      "2018-01-22\n",
      "2018-01-23\n",
      "2018-01-24\n",
      "2018-01-25\n",
      "2018-01-26\n",
      "2018-01-27\n",
      "2018-01-28\n",
      "2018-01-29\n",
      "2018-01-30\n",
      "2018-01-31\n"
     ]
    },
    {
     "data": {
      "text/html": [
       "<div>\n",
       "<style scoped>\n",
       "    .dataframe tbody tr th:only-of-type {\n",
       "        vertical-align: middle;\n",
       "    }\n",
       "\n",
       "    .dataframe tbody tr th {\n",
       "        vertical-align: top;\n",
       "    }\n",
       "\n",
       "    .dataframe thead th {\n",
       "        text-align: right;\n",
       "    }\n",
       "</style>\n",
       "<table border=\"1\" class=\"dataframe\">\n",
       "  <thead>\n",
       "    <tr style=\"text-align: right;\">\n",
       "      <th></th>\n",
       "      <th>month</th>\n",
       "      <th>channel_id</th>\n",
       "    </tr>\n",
       "  </thead>\n",
       "  <tbody>\n",
       "    <tr>\n",
       "      <td>0</td>\n",
       "      <td>2018-01</td>\n",
       "      <td>2983424.0</td>\n",
       "    </tr>\n",
       "  </tbody>\n",
       "</table>\n",
       "</div>"
      ],
      "text/plain": [
       "     month  channel_id\n",
       "0  2018-01   2983424.0"
      ]
     },
     "execution_count": 76,
     "metadata": {},
     "output_type": "execute_result"
    }
   ],
   "source": [
    "# 결과 저장할 데이터 프레임 만들기\n",
    "result = pd.DataFrame(columns=['date', 'channel_id'])\n",
    "\n",
    "while start_date <= end_date:\n",
    "    \n",
    "    query_date = datetime.strftime(start_date, \"%Y-%m-%d\") # datetime -> string\n",
    "    query_since = query_date + ' '+ '00:00:00'\n",
    "    query_until = query_date + ' '+ '23:59:59'\n",
    "    \n",
    "    query_result['date'] = query_date # 쿼리 실행 일자를 저장\n",
    "    \n",
    "    # 하루 단위로 끊어서 쿼리 실행\n",
    "    query_params = {'query_since': query_since, 'query_until': query_until}\n",
    "    query_result['channel_id'] = pd.read_sql(query, connection, params=query_params) # 쿼리 결과를 저장\n",
    "    \n",
    "    result = result.append(query_result) # 쿼리 결과를 데이터 프레임에 추가\n",
    "    \n",
    "    query_date = datetime.strptime(query_date, \"%Y-%m-%d\")  # string -> datetime\n",
    "    start_date = query_date + relativedelta(days=1) # 하루 씩 증가 시킴\n",
    "    \n",
    "\n",
    "result['month'] = result['date'].str[:7] # YYYY-MM-DD -> YYYY-MM\n",
    "\n",
    "# aggregate by month\n",
    "result_monthly = result.groupby(['month'],as_index=False).agg({'channel_id': pd.Series.nunique})\n",
    "\n",
    "result_monthly"
   ]
  },
  {
   "cell_type": "code",
   "execution_count": null,
   "metadata": {},
   "outputs": [],
   "source": []
  }
 ],
 "metadata": {
  "kernelspec": {
   "display_name": "Python 3",
   "language": "python",
   "name": "python3"
  },
  "language_info": {
   "codemirror_mode": {
    "name": "ipython",
    "version": 3
   },
   "file_extension": ".py",
   "mimetype": "text/x-python",
   "name": "python",
   "nbconvert_exporter": "python",
   "pygments_lexer": "ipython3",
   "version": "3.7.3"
  }
 },
 "nbformat": 4,
 "nbformat_minor": 4
}
