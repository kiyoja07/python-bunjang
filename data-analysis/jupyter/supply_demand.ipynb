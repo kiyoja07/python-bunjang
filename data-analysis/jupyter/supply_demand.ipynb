{
 "cells": [
  {
   "cell_type": "code",
   "execution_count": 2,
   "metadata": {},
   "outputs": [],
   "source": [
    "import pandas as pd"
   ]
  },
  {
   "cell_type": "code",
   "execution_count": 11,
   "metadata": {},
   "outputs": [
    {
     "data": {
      "text/html": [
       "<div>\n",
       "<style scoped>\n",
       "    .dataframe tbody tr th:only-of-type {\n",
       "        vertical-align: middle;\n",
       "    }\n",
       "\n",
       "    .dataframe tbody tr th {\n",
       "        vertical-align: top;\n",
       "    }\n",
       "\n",
       "    .dataframe thead th {\n",
       "        text-align: right;\n",
       "    }\n",
       "</style>\n",
       "<table border=\"1\" class=\"dataframe\">\n",
       "  <thead>\n",
       "    <tr style=\"text-align: right;\">\n",
       "      <th></th>\n",
       "      <th>date_at</th>\n",
       "      <th>category_id</th>\n",
       "      <th>status</th>\n",
       "      <th>product_num</th>\n",
       "    </tr>\n",
       "  </thead>\n",
       "  <tbody>\n",
       "    <tr>\n",
       "      <th>1862041</th>\n",
       "      <td>2017-04-29</td>\n",
       "      <td>310050030.0</td>\n",
       "      <td>1</td>\n",
       "      <td>1</td>\n",
       "    </tr>\n",
       "    <tr>\n",
       "      <th>1862042</th>\n",
       "      <td>2019-02-01</td>\n",
       "      <td>500114005.0</td>\n",
       "      <td>2</td>\n",
       "      <td>1</td>\n",
       "    </tr>\n",
       "    <tr>\n",
       "      <th>1862043</th>\n",
       "      <td>2017-10-28</td>\n",
       "      <td>410200999.0</td>\n",
       "      <td>3</td>\n",
       "      <td>1</td>\n",
       "    </tr>\n",
       "    <tr>\n",
       "      <th>1862044</th>\n",
       "      <td>2017-05-19</td>\n",
       "      <td>900310100.0</td>\n",
       "      <td>3</td>\n",
       "      <td>1</td>\n",
       "    </tr>\n",
       "    <tr>\n",
       "      <th>1862045</th>\n",
       "      <td>2019-05-27</td>\n",
       "      <td>400083700.0</td>\n",
       "      <td>2</td>\n",
       "      <td>1</td>\n",
       "    </tr>\n",
       "  </tbody>\n",
       "</table>\n",
       "</div>"
      ],
      "text/plain": [
       "            date_at  category_id  status  product_num\n",
       "1862041  2017-04-29  310050030.0       1            1\n",
       "1862042  2019-02-01  500114005.0       2            1\n",
       "1862043  2017-10-28  410200999.0       3            1\n",
       "1862044  2017-05-19  900310100.0       3            1\n",
       "1862045  2019-05-27  400083700.0       2            1"
      ]
     },
     "execution_count": 11,
     "metadata": {},
     "output_type": "execute_result"
    }
   ],
   "source": [
    "# 등록된 제품 수 by category, date\n",
    "read_path = '../csv/products.csv'\n",
    "df_product = pd.read_csv(read_path)\n",
    "\n",
    "df_product.tail()\n"
   ]
  },
  {
   "cell_type": "code",
   "execution_count": 13,
   "metadata": {},
   "outputs": [
    {
     "data": {
      "text/html": [
       "<div>\n",
       "<style scoped>\n",
       "    .dataframe tbody tr th:only-of-type {\n",
       "        vertical-align: middle;\n",
       "    }\n",
       "\n",
       "    .dataframe tbody tr th {\n",
       "        vertical-align: top;\n",
       "    }\n",
       "\n",
       "    .dataframe thead th {\n",
       "        text-align: right;\n",
       "    }\n",
       "</style>\n",
       "<table border=\"1\" class=\"dataframe\">\n",
       "  <thead>\n",
       "    <tr style=\"text-align: right;\">\n",
       "      <th></th>\n",
       "      <th>date_at</th>\n",
       "      <th>keyword</th>\n",
       "      <th>search_num</th>\n",
       "    </tr>\n",
       "  </thead>\n",
       "  <tbody>\n",
       "    <tr>\n",
       "      <th>81942714</th>\n",
       "      <td>2018-12-31</td>\n",
       "      <td>ìœ„ì¸ì „</td>\n",
       "      <td>1</td>\n",
       "    </tr>\n",
       "    <tr>\n",
       "      <th>81942715</th>\n",
       "      <td>2018-12-31</td>\n",
       "      <td>실리콘케이스 스카이블루</td>\n",
       "      <td>1</td>\n",
       "    </tr>\n",
       "    <tr>\n",
       "      <th>81942716</th>\n",
       "      <td>2018-12-31</td>\n",
       "      <td>오프화이트 갤럭시 후드집업</td>\n",
       "      <td>1</td>\n",
       "    </tr>\n",
       "    <tr>\n",
       "      <th>81942717</th>\n",
       "      <td>2018-12-31</td>\n",
       "      <td>후방카메라cctv</td>\n",
       "      <td>2</td>\n",
       "    </tr>\n",
       "    <tr>\n",
       "      <th>81942718</th>\n",
       "      <td>2018-12-31</td>\n",
       "      <td>패딩오버트라우져</td>\n",
       "      <td>1</td>\n",
       "    </tr>\n",
       "  </tbody>\n",
       "</table>\n",
       "</div>"
      ],
      "text/plain": [
       "             date_at         keyword  search_num\n",
       "81942714  2018-12-31       ìœ„ì¸ì „           1\n",
       "81942715  2018-12-31    실리콘케이스 스카이블루           1\n",
       "81942716  2018-12-31  오프화이트 갤럭시 후드집업           1\n",
       "81942717  2018-12-31       후방카메라cctv           2\n",
       "81942718  2018-12-31        패딩오버트라우져           1"
      ]
     },
     "execution_count": 13,
     "metadata": {},
     "output_type": "execute_result"
    }
   ],
   "source": [
    "# 키워드 검색 수 by date\n",
    "read_path = '../csv/keywords_1901_1904.csv'\n",
    "df_keyword_1901_1904 = pd.read_csv(read_path)\n",
    "\n",
    "read_path = '../csv/keywords_1807_1812.csv'\n",
    "df_keyword_1807_1812 = pd.read_csv(read_path)\n",
    "\n",
    "df_keyword = pd.concat([df_keyword_1901_1904, df_keyword_1807_1812])\n",
    "\n",
    "# save\n",
    "save_path = '../csv/tmp/df_keyword.csv'\n",
    "df_keyword.to_csv(save_path, index=False, mode='w', header=True)\n",
    "\n",
    "df_keyword.tail()"
   ]
  },
  {
   "cell_type": "code",
   "execution_count": null,
   "metadata": {},
   "outputs": [],
   "source": []
  }
 ],
 "metadata": {
  "kernelspec": {
   "display_name": "Python 3",
   "language": "python",
   "name": "python3"
  },
  "language_info": {
   "codemirror_mode": {
    "name": "ipython",
    "version": 3
   },
   "file_extension": ".py",
   "mimetype": "text/x-python",
   "name": "python",
   "nbconvert_exporter": "python",
   "pygments_lexer": "ipython3",
   "version": "3.7.3"
  }
 },
 "nbformat": 4,
 "nbformat_minor": 2
}
